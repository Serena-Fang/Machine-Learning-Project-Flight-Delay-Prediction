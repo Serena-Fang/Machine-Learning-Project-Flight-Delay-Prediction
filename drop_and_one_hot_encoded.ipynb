{
  "nbformat": 4,
  "nbformat_minor": 0,
  "metadata": {
    "colab": {
      "name": "drop_and_one_hot_encoded.ipynb",
      "provenance": [],
      "collapsed_sections": [],
      "machine_shape": "hm"
    },
    "kernelspec": {
      "display_name": "Python 3",
      "name": "python3"
    },
    "language_info": {
      "name": "python"
    }
  },
  "cells": [
    {
      "cell_type": "code",
      "metadata": {
        "colab": {
          "base_uri": "https://localhost:8080/"
        },
        "id": "Kjhj7dHFUhBJ",
        "outputId": "4c100f30-bff9-4b82-80bf-84ea55a9f5ee"
      },
      "source": [
        "from google.colab import drive\n",
        "drive.mount('/content/gdrive')"
      ],
      "execution_count": 1,
      "outputs": [
        {
          "output_type": "stream",
          "name": "stdout",
          "text": [
            "Mounted at /content/gdrive\n"
          ]
        }
      ]
    },
    {
      "cell_type": "code",
      "metadata": {
        "colab": {
          "base_uri": "https://localhost:8080/"
        },
        "id": "A0cLurI9ogO0",
        "outputId": "ad8f295e-7a91-41d7-e375-2e5abc47b91a"
      },
      "source": [
        "%cd gdrive/MyDrive/cs334/data/"
      ],
      "execution_count": null,
      "outputs": [
        {
          "output_type": "stream",
          "name": "stdout",
          "text": [
            "/content/gdrive/MyDrive/cs334/data\n"
          ]
        }
      ]
    },
    {
      "cell_type": "code",
      "metadata": {
        "id": "P8y3Iu4oqP9J"
      },
      "source": [
        "import pandas as pd\n",
        "import numpy as np\n",
        "import matplotlib.pyplot as plt\n",
        "import seaborn as sn"
      ],
      "execution_count": 13,
      "outputs": []
    },
    {
      "cell_type": "code",
      "metadata": {
        "colab": {
          "base_uri": "https://localhost:8080/"
        },
        "id": "Q7CaADBpT_E4",
        "outputId": "c63642bb-cd7f-44ff-d52c-015a7cd21271"
      },
      "source": [
        "!ls /content/gdrive/MyDrive/cs334/"
      ],
      "execution_count": null,
      "outputs": [
        {
          "output_type": "stream",
          "name": "stdout",
          "text": [
            "'cs334 project proposal.gdoc'   drop_and_one_hot_encoded.ipynb\n",
            " data\t\t\t        numericals.csv\n"
          ]
        }
      ]
    },
    {
      "cell_type": "code",
      "metadata": {
        "id": "CRi2AfEzokiE"
      },
      "source": [
        "df5 = pd.read_csv('/content/gdrive/MyDrive/cs334/data/may.csv')\n",
        "df6 = pd.read_csv('/content/gdrive/MyDrive/cs334/data/june.csv')\n",
        "df7 = pd.read_csv('/content/gdrive/MyDrive/cs334/data/july.csv')\n",
        "df_full = pd.concat([df5, df6, df7], ignore_index=True).drop(columns='Unnamed: 27')"
      ],
      "execution_count": 3,
      "outputs": []
    },
    {
      "cell_type": "code",
      "metadata": {
        "id": "MrLPmdxBsUHa"
      },
      "source": [
        "df_full = pd.concat([df5, df6, df7], ignore_index=True).drop(columns='Unnamed: 27')"
      ],
      "execution_count": 6,
      "outputs": []
    },
    {
      "cell_type": "code",
      "metadata": {
        "colab": {
          "base_uri": "https://localhost:8080/"
        },
        "id": "0c8X2q0izh0E",
        "outputId": "65be3260-43ce-4dff-a95d-9531cfdc9da8"
      },
      "source": [
        "df_full.shape"
      ],
      "execution_count": null,
      "outputs": [
        {
          "output_type": "execute_result",
          "data": {
            "text/plain": [
              "(1599345, 27)"
            ]
          },
          "metadata": {},
          "execution_count": 27
        }
      ]
    },
    {
      "cell_type": "code",
      "metadata": {
        "id": "YHwWci5tUkFL"
      },
      "source": [
        "df_full = df_full.dropna(axis=0, how='any')"
      ],
      "execution_count": 7,
      "outputs": []
    },
    {
      "cell_type": "code",
      "metadata": {
        "id": "EQxLQGcYscuW"
      },
      "source": [
        "# NEW: convert the hhmm format of time to actual minutes since 12am\n",
        "df_full['CRS_DEP_TIME'] = df_full['CRS_DEP_TIME'].map(lambda x: x//100*60+x%100)\n",
        "df_full['CRS_ARR_TIME'] = df_full['CRS_ARR_TIME'].map(lambda x: x//100*60+x%100)"
      ],
      "execution_count": 8,
      "outputs": []
    },
    {
      "cell_type": "code",
      "metadata": {
        "id": "MxClte9no5Fc"
      },
      "source": [
        "# NEW: convert the hhmm format of time to actual minutes since 12am\n",
        "df_full['CRS_DEP_TIME'] = df_full['CRS_DEP_TIME'].map(lambda x: x//100*60+x%100)\n",
        "df_full['CRS_ARR_TIME'] = df_full['CRS_ARR_TIME'].map(lambda x: x//100*60+x%100)\n",
        "df_full['DAY_OF_MONTH'] = df_full['DAY_OF_MONTH'].map(lambda x: str(x))\n",
        "df_full['DAY_OF_WEEK'] = df_full['DAY_OF_WEEK'].map(lambda x: str(x))"
      ],
      "execution_count": 4,
      "outputs": []
    },
    {
      "cell_type": "code",
      "metadata": {
        "id": "h--XpuTOqvQD"
      },
      "source": [
        "dfY = df_full[['DEP_DELAY', 'DEP_DEL15', 'ARR_DELAY', 'ARR_DEL15', 'CANCELLED']]"
      ],
      "execution_count": null,
      "outputs": []
    },
    {
      "cell_type": "code",
      "metadata": {
        "id": "DF13gIY8rlVQ"
      },
      "source": [
        " dfX = df_full.drop(columns=['ORIGIN_CITY_NAME', 'MONTH', 'QUARTER', 'DEST_CITY_NAME', 'YEAR', 'FLIGHTS', 'FL_DATE', 'DEP_TIME', 'DEP_DELAY', 'DEP_DEL15', 'ARR_TIME', 'ARR_DELAY', 'ARR_DEL15', 'CANCELLED', 'DIVERTED', 'ACTUAL_ELAPSED_TIME', 'CRS_ARR_TIME', 'CRS_ELAPSED_TIME'])"
      ],
      "execution_count": null,
      "outputs": []
    },
    {
      "cell_type": "code",
      "metadata": {
        "id": "zkvSG-zGnVob"
      },
      "source": [
        "from sklearn.model_selection import train_test_split"
      ],
      "execution_count": null,
      "outputs": []
    },
    {
      "cell_type": "code",
      "metadata": {
        "colab": {
          "base_uri": "https://localhost:8080/"
        },
        "id": "tQjozEo8k0Wb",
        "outputId": "bf085fdc-6df4-45c1-b6b2-f138d64c6da0"
      },
      "source": [
        "df_full['DEP_DEL15'].value_counts()"
      ],
      "execution_count": null,
      "outputs": [
        {
          "output_type": "execute_result",
          "data": {
            "text/plain": [
              "0.0    1258095\n",
              "1.0     341250\n",
              "Name: DEP_DEL15, dtype: int64"
            ]
          },
          "metadata": {},
          "execution_count": 20
        }
      ]
    },
    {
      "cell_type": "code",
      "metadata": {
        "id": "5qsfA3fgngu6"
      },
      "source": [
        "xTrain, xTest, yTrain, yTest = train_test_split(dfX, dfY, test_size=0.33, random_state=42)"
      ],
      "execution_count": null,
      "outputs": []
    },
    {
      "cell_type": "code",
      "metadata": {
        "id": "QIaW4zC3nyng"
      },
      "source": [
        "xTrain.head()"
      ],
      "execution_count": null,
      "outputs": []
    },
    {
      "cell_type": "code",
      "metadata": {
        "id": "t-oWiFWVEeLT",
        "colab": {
          "base_uri": "https://localhost:8080/"
        },
        "outputId": "1475bfd7-c10e-4e0d-ee7f-ead9ba687a20"
      },
      "source": [
        "!pip install category_encoders"
      ],
      "execution_count": null,
      "outputs": [
        {
          "output_type": "stream",
          "name": "stdout",
          "text": [
            "Collecting category_encoders\n",
            "  Downloading category_encoders-2.3.0-py2.py3-none-any.whl (82 kB)\n",
            "\u001b[?25l\r\u001b[K     |████                            | 10 kB 21.9 MB/s eta 0:00:01\r\u001b[K     |████████                        | 20 kB 28.3 MB/s eta 0:00:01\r\u001b[K     |████████████                    | 30 kB 13.3 MB/s eta 0:00:01\r\u001b[K     |████████████████                | 40 kB 9.9 MB/s eta 0:00:01\r\u001b[K     |████████████████████            | 51 kB 5.4 MB/s eta 0:00:01\r\u001b[K     |████████████████████████        | 61 kB 6.0 MB/s eta 0:00:01\r\u001b[K     |████████████████████████████    | 71 kB 5.9 MB/s eta 0:00:01\r\u001b[K     |███████████████████████████████▉| 81 kB 6.5 MB/s eta 0:00:01\r\u001b[K     |████████████████████████████████| 82 kB 369 kB/s \n",
            "\u001b[?25hRequirement already satisfied: scikit-learn>=0.20.0 in /usr/local/lib/python3.7/dist-packages (from category_encoders) (1.0.1)\n",
            "Requirement already satisfied: numpy>=1.14.0 in /usr/local/lib/python3.7/dist-packages (from category_encoders) (1.19.5)\n",
            "Requirement already satisfied: patsy>=0.5.1 in /usr/local/lib/python3.7/dist-packages (from category_encoders) (0.5.2)\n",
            "Requirement already satisfied: scipy>=1.0.0 in /usr/local/lib/python3.7/dist-packages (from category_encoders) (1.4.1)\n",
            "Requirement already satisfied: pandas>=0.21.1 in /usr/local/lib/python3.7/dist-packages (from category_encoders) (1.1.5)\n",
            "Requirement already satisfied: statsmodels>=0.9.0 in /usr/local/lib/python3.7/dist-packages (from category_encoders) (0.10.2)\n",
            "Requirement already satisfied: python-dateutil>=2.7.3 in /usr/local/lib/python3.7/dist-packages (from pandas>=0.21.1->category_encoders) (2.8.2)\n",
            "Requirement already satisfied: pytz>=2017.2 in /usr/local/lib/python3.7/dist-packages (from pandas>=0.21.1->category_encoders) (2018.9)\n",
            "Requirement already satisfied: six in /usr/local/lib/python3.7/dist-packages (from patsy>=0.5.1->category_encoders) (1.15.0)\n",
            "Requirement already satisfied: threadpoolctl>=2.0.0 in /usr/local/lib/python3.7/dist-packages (from scikit-learn>=0.20.0->category_encoders) (3.0.0)\n",
            "Requirement already satisfied: joblib>=0.11 in /usr/local/lib/python3.7/dist-packages (from scikit-learn>=0.20.0->category_encoders) (1.1.0)\n",
            "Installing collected packages: category-encoders\n",
            "Successfully installed category-encoders-2.3.0\n"
          ]
        }
      ]
    },
    {
      "cell_type": "code",
      "metadata": {
        "colab": {
          "base_uri": "https://localhost:8080/"
        },
        "id": "6yRyxlvkDVhb",
        "outputId": "deb5908d-bdaa-49ab-b627-202285780bfc"
      },
      "source": [
        "import category_encoders as ce"
      ],
      "execution_count": null,
      "outputs": [
        {
          "output_type": "stream",
          "name": "stderr",
          "text": [
            "/usr/local/lib/python3.7/dist-packages/statsmodels/tools/_testing.py:19: FutureWarning: pandas.util.testing is deprecated. Use the functions in the public API at pandas.testing instead.\n",
            "  import pandas.util.testing as tm\n"
          ]
        }
      ]
    },
    {
      "cell_type": "code",
      "metadata": {
        "id": "jh1IEbHN0EqV",
        "colab": {
          "base_uri": "https://localhost:8080/",
          "height": 226
        },
        "outputId": "60e0e09f-ab4e-4627-9313-96e5af5f0b6f"
      },
      "source": [
        "# count encoding\n",
        "ecd = ce.CountEncoder()\n",
        "data = ecd.fit_transform(xTrain)\n",
        "data.head()"
      ],
      "execution_count": null,
      "outputs": [
        {
          "output_type": "execute_result",
          "data": {
            "text/html": [
              "<div>\n",
              "<style scoped>\n",
              "    .dataframe tbody tr th:only-of-type {\n",
              "        vertical-align: middle;\n",
              "    }\n",
              "\n",
              "    .dataframe tbody tr th {\n",
              "        vertical-align: top;\n",
              "    }\n",
              "\n",
              "    .dataframe thead th {\n",
              "        text-align: right;\n",
              "    }\n",
              "</style>\n",
              "<table border=\"1\" class=\"dataframe\">\n",
              "  <thead>\n",
              "    <tr style=\"text-align: right;\">\n",
              "      <th></th>\n",
              "      <th>DAY_OF_MONTH</th>\n",
              "      <th>DAY_OF_WEEK</th>\n",
              "      <th>OP_UNIQUE_CARRIER</th>\n",
              "      <th>ORIGIN</th>\n",
              "      <th>ORIGIN_STATE_ABR</th>\n",
              "      <th>DEST</th>\n",
              "      <th>DEST_STATE_ABR</th>\n",
              "      <th>CRS_DEP_TIME</th>\n",
              "      <th>DISTANCE</th>\n",
              "    </tr>\n",
              "  </thead>\n",
              "  <tbody>\n",
              "    <tr>\n",
              "      <th>780572</th>\n",
              "      <td>35393</td>\n",
              "      <td>159138</td>\n",
              "      <td>33443</td>\n",
              "      <td>31081</td>\n",
              "      <td>37326</td>\n",
              "      <td>25237</td>\n",
              "      <td>29353</td>\n",
              "      <td>764</td>\n",
              "      <td>867.0</td>\n",
              "    </tr>\n",
              "    <tr>\n",
              "      <th>635168</th>\n",
              "      <td>34839</td>\n",
              "      <td>142857</td>\n",
              "      <td>133648</td>\n",
              "      <td>11568</td>\n",
              "      <td>101143</td>\n",
              "      <td>15659</td>\n",
              "      <td>24236</td>\n",
              "      <td>1037</td>\n",
              "      <td>920.0</td>\n",
              "    </tr>\n",
              "    <tr>\n",
              "      <th>1424832</th>\n",
              "      <td>33559</td>\n",
              "      <td>159138</td>\n",
              "      <td>189831</td>\n",
              "      <td>3389</td>\n",
              "      <td>10368</td>\n",
              "      <td>6488</td>\n",
              "      <td>100895</td>\n",
              "      <td>835</td>\n",
              "      <td>835.0</td>\n",
              "    </tr>\n",
              "    <tr>\n",
              "      <th>769243</th>\n",
              "      <td>35783</td>\n",
              "      <td>155277</td>\n",
              "      <td>133648</td>\n",
              "      <td>36698</td>\n",
              "      <td>50388</td>\n",
              "      <td>3563</td>\n",
              "      <td>3619</td>\n",
              "      <td>440</td>\n",
              "      <td>644.0</td>\n",
              "    </tr>\n",
              "    <tr>\n",
              "      <th>1483855</th>\n",
              "      <td>35209</td>\n",
              "      <td>146538</td>\n",
              "      <td>189831</td>\n",
              "      <td>3466</td>\n",
              "      <td>20443</td>\n",
              "      <td>55493</td>\n",
              "      <td>60531</td>\n",
              "      <td>810</td>\n",
              "      <td>332.0</td>\n",
              "    </tr>\n",
              "  </tbody>\n",
              "</table>\n",
              "</div>"
            ],
            "text/plain": [
              "         DAY_OF_MONTH  DAY_OF_WEEK  ...  CRS_DEP_TIME  DISTANCE\n",
              "780572          35393       159138  ...           764     867.0\n",
              "635168          34839       142857  ...          1037     920.0\n",
              "1424832         33559       159138  ...           835     835.0\n",
              "769243          35783       155277  ...           440     644.0\n",
              "1483855         35209       146538  ...           810     332.0\n",
              "\n",
              "[5 rows x 9 columns]"
            ]
          },
          "metadata": {},
          "execution_count": 13
        }
      ]
    },
    {
      "cell_type": "code",
      "metadata": {
        "id": "6zDna6UOvjt6"
      },
      "source": [
        "xTrain['OP_UNIQUE_CARRIER_COUNT'] = data['OP_UNIQUE_CARRIER']\n",
        "xTrain['ORIGIN_COUNT'] = data['ORIGIN']\n",
        "xTrain['ORIGIN_STATE_ABR_COUNT'] = data['ORIGIN_STATE_ABR']\n",
        "xTrain['DEST_COUNT'] = data['DEST']\n",
        "xTrain['DEST_STATE_ABR_COUNT'] = data['DEST_STATE_ABR']\n",
        "xTrain['DAY_OF_MONTH_COUNT'] = data['DAY_OF_MONTH']\n",
        "xTrain['DAY_OF_WEEK_COUNT'] = data['DAY_OF_WEEK']"
      ],
      "execution_count": null,
      "outputs": []
    },
    {
      "cell_type": "code",
      "metadata": {
        "id": "WTXc8rUYwBTF"
      },
      "source": [
        "data = ecd.transform(xTest)\n",
        "xTest['OP_UNIQUE_CARRIER_COUNT'] = data['OP_UNIQUE_CARRIER']\n",
        "xTest['ORIGIN_COUNT'] = data['ORIGIN']\n",
        "xTest['ORIGIN_STATE_ABR_COUNT'] = data['ORIGIN_STATE_ABR']\n",
        "xTest['DEST_COUNT'] = data['DEST']\n",
        "xTest['DEST_STATE_ABR_COUNT'] = data['DEST_STATE_ABR']\n",
        "xTest['DAY_OF_MONTH_COUNT'] = data['DAY_OF_MONTH']\n",
        "xTest['DAY_OF_WEEK_COUNT'] = data['DAY_OF_WEEK']"
      ],
      "execution_count": null,
      "outputs": []
    },
    {
      "cell_type": "code",
      "metadata": {
        "id": "lY0_9JA-wZd5"
      },
      "source": [
        "# next step is using m-estimator encoding, but that depends on\n",
        "# which target variable to predict, say DEP_DELAY\n",
        "\n",
        "# m estimate encoding\n",
        "# ecd = ce.m_estimate.MEstimateEncoder(m=1.0) \n",
        "# now assume m = 1, may need to tune with other parameters (w/sklearn pipeline?)\n",
        "# ecd.fit(xTrain, yTrain['DEP_DELAY'])\n",
        "# xTrain = ecd.transform(xTrain)\n",
        "# xTest = ecd.transform(xTest)\n",
        "# no need to do operation like the code cell above because this transform\n",
        "# will automatically replace the cat var with the new var"
      ],
      "execution_count": null,
      "outputs": []
    },
    {
      "cell_type": "code",
      "metadata": {
        "id": "HlspbyOM0mmm"
      },
      "source": [
        "# next step in the pipeline is standard scaling\n",
        "# so for now, just save the current four files\n",
        "# TODO: perhaps rerun some of the figures below, please?"
      ],
      "execution_count": null,
      "outputs": []
    },
    {
      "cell_type": "code",
      "metadata": {
        "id": "zk-pFcjq03AS",
        "colab": {
          "base_uri": "https://localhost:8080/",
          "height": 215
        },
        "outputId": "24d40997-b428-4de3-ff6c-0716155ae372"
      },
      "source": [
        "xTrain.to_csv(\"xTrain.csv\", index=False)\n",
        "yTrain.to_csv(\"yTrain.csv\", index=False)\n",
        "xTest.to_csv(\"xTest.csv\", index=False)\n",
        "yTest.to_csv(\"yTest.csv\", index=False)"
      ],
      "execution_count": null,
      "outputs": [
        {
          "output_type": "error",
          "ename": "NameError",
          "evalue": "ignored",
          "traceback": [
            "\u001b[0;31m---------------------------------------------------------------------------\u001b[0m",
            "\u001b[0;31mNameError\u001b[0m                                 Traceback (most recent call last)",
            "\u001b[0;32m<ipython-input-6-38bd12215413>\u001b[0m in \u001b[0;36m<module>\u001b[0;34m()\u001b[0m\n\u001b[0;32m----> 1\u001b[0;31m \u001b[0mxTrain\u001b[0m\u001b[0;34m.\u001b[0m\u001b[0mto_csv\u001b[0m\u001b[0;34m(\u001b[0m\u001b[0;34m\"xTrain.csv\"\u001b[0m\u001b[0;34m,\u001b[0m \u001b[0mindex\u001b[0m\u001b[0;34m=\u001b[0m\u001b[0;32mFalse\u001b[0m\u001b[0;34m)\u001b[0m\u001b[0;34m\u001b[0m\u001b[0;34m\u001b[0m\u001b[0m\n\u001b[0m\u001b[1;32m      2\u001b[0m \u001b[0myTrain\u001b[0m\u001b[0;34m.\u001b[0m\u001b[0mto_csv\u001b[0m\u001b[0;34m(\u001b[0m\u001b[0;34m\"yTrain.csv\"\u001b[0m\u001b[0;34m,\u001b[0m \u001b[0mindex\u001b[0m\u001b[0;34m=\u001b[0m\u001b[0;32mFalse\u001b[0m\u001b[0;34m)\u001b[0m\u001b[0;34m\u001b[0m\u001b[0;34m\u001b[0m\u001b[0m\n\u001b[1;32m      3\u001b[0m \u001b[0mxTest\u001b[0m\u001b[0;34m.\u001b[0m\u001b[0mto_csv\u001b[0m\u001b[0;34m(\u001b[0m\u001b[0;34m\"xTest.csv\"\u001b[0m\u001b[0;34m,\u001b[0m \u001b[0mindex\u001b[0m\u001b[0;34m=\u001b[0m\u001b[0;32mFalse\u001b[0m\u001b[0;34m)\u001b[0m\u001b[0;34m\u001b[0m\u001b[0;34m\u001b[0m\u001b[0m\n\u001b[1;32m      4\u001b[0m \u001b[0myTest\u001b[0m\u001b[0;34m.\u001b[0m\u001b[0mto_csv\u001b[0m\u001b[0;34m(\u001b[0m\u001b[0;34m\"yTest.csv\"\u001b[0m\u001b[0;34m,\u001b[0m \u001b[0mindex\u001b[0m\u001b[0;34m=\u001b[0m\u001b[0;32mFalse\u001b[0m\u001b[0;34m)\u001b[0m\u001b[0;34m\u001b[0m\u001b[0;34m\u001b[0m\u001b[0m\n",
            "\u001b[0;31mNameError\u001b[0m: name 'xTrain' is not defined"
          ]
        }
      ]
    },
    {
      "cell_type": "code",
      "metadata": {
        "id": "xsUjzR8Z03Je",
        "colab": {
          "base_uri": "https://localhost:8080/"
        },
        "outputId": "c6b262da-6066-46cd-c87d-a94c25f91aaf"
      },
      "source": [
        "yTrain.shape"
      ],
      "execution_count": null,
      "outputs": [
        {
          "output_type": "execute_result",
          "data": {
            "text/plain": [
              "(1071561, 5)"
            ]
          },
          "metadata": {},
          "execution_count": 37
        }
      ]
    },
    {
      "cell_type": "code",
      "metadata": {
        "id": "P7RkNUwE03Nl"
      },
      "source": [
        "df_full['DAY_OF_MONTH'] = df_full['DAY_OF_MONTH'].map(lambda x: str(x))\n",
        "df_full['DAY_OF_WEEK'] = df_full['DAY_OF_WEEK'].map(lambda x: str(x))"
      ],
      "execution_count": 5,
      "outputs": []
    },
    {
      "cell_type": "code",
      "metadata": {
        "id": "Br0ka3wd032I",
        "colab": {
          "base_uri": "https://localhost:8080/"
        },
        "outputId": "b3064399-fa03-450c-e7ca-b9f5d060e78c"
      },
      "source": [
        "df_full['DAY_OF_WEEK']"
      ],
      "execution_count": null,
      "outputs": [
        {
          "output_type": "execute_result",
          "data": {
            "text/plain": [
              "0          6\n",
              "1          7\n",
              "2          1\n",
              "3          4\n",
              "4          5\n",
              "          ..\n",
              "1624921    1\n",
              "1624922    1\n",
              "1624923    1\n",
              "1624924    1\n",
              "1624925    1\n",
              "Name: DAY_OF_WEEK, Length: 1624926, dtype: object"
            ]
          },
          "metadata": {},
          "execution_count": 23
        }
      ]
    },
    {
      "cell_type": "code",
      "metadata": {
        "id": "_esyN8e20UuE"
      },
      "source": [
        "xTrain.head()"
      ],
      "execution_count": null,
      "outputs": []
    },
    {
      "cell_type": "code",
      "metadata": {
        "id": "lU4vrtal0c3l",
        "colab": {
          "base_uri": "https://localhost:8080/",
          "height": 226
        },
        "outputId": "0c91bb3b-70ca-49ff-c70b-efd2bc93bb56"
      },
      "source": [
        "xTest.head()"
      ],
      "execution_count": null,
      "outputs": [
        {
          "output_type": "execute_result",
          "data": {
            "text/html": [
              "<div>\n",
              "<style scoped>\n",
              "    .dataframe tbody tr th:only-of-type {\n",
              "        vertical-align: middle;\n",
              "    }\n",
              "\n",
              "    .dataframe tbody tr th {\n",
              "        vertical-align: top;\n",
              "    }\n",
              "\n",
              "    .dataframe thead th {\n",
              "        text-align: right;\n",
              "    }\n",
              "</style>\n",
              "<table border=\"1\" class=\"dataframe\">\n",
              "  <thead>\n",
              "    <tr style=\"text-align: right;\">\n",
              "      <th></th>\n",
              "      <th>QUARTER</th>\n",
              "      <th>MONTH</th>\n",
              "      <th>DAY_OF_MONTH</th>\n",
              "      <th>DAY_OF_WEEK</th>\n",
              "      <th>OP_UNIQUE_CARRIER</th>\n",
              "      <th>ORIGIN</th>\n",
              "      <th>ORIGIN_STATE_ABR</th>\n",
              "      <th>DEST</th>\n",
              "      <th>DEST_STATE_ABR</th>\n",
              "      <th>CRS_DEP_TIME</th>\n",
              "      <th>CRS_ARR_TIME</th>\n",
              "      <th>CRS_ELAPSED_TIME</th>\n",
              "      <th>DISTANCE</th>\n",
              "      <th>CARRIER_COUNT</th>\n",
              "      <th>ORIGIN_COUNT</th>\n",
              "      <th>ORIGIN_STATE_ABR_COUNT</th>\n",
              "      <th>DEST_COUNT</th>\n",
              "      <th>DEST_STATE_ABR_COUNT</th>\n",
              "    </tr>\n",
              "  </thead>\n",
              "  <tbody>\n",
              "    <tr>\n",
              "      <th>1378354</th>\n",
              "      <td>3</td>\n",
              "      <td>7</td>\n",
              "      <td>29</td>\n",
              "      <td>4</td>\n",
              "      <td>UA</td>\n",
              "      <td>EWR</td>\n",
              "      <td>NJ</td>\n",
              "      <td>ORD</td>\n",
              "      <td>IL</td>\n",
              "      <td>795</td>\n",
              "      <td>885</td>\n",
              "      <td>150.0</td>\n",
              "      <td>719.0</td>\n",
              "      <td>73891</td>\n",
              "      <td>14830</td>\n",
              "      <td>15786</td>\n",
              "      <td>45180</td>\n",
              "      <td>60103</td>\n",
              "    </tr>\n",
              "    <tr>\n",
              "      <th>1308693</th>\n",
              "      <td>3</td>\n",
              "      <td>7</td>\n",
              "      <td>16</td>\n",
              "      <td>5</td>\n",
              "      <td>HA</td>\n",
              "      <td>LIH</td>\n",
              "      <td>HI</td>\n",
              "      <td>HNL</td>\n",
              "      <td>HI</td>\n",
              "      <td>360</td>\n",
              "      <td>395</td>\n",
              "      <td>35.0</td>\n",
              "      <td>102.0</td>\n",
              "      <td>11190</td>\n",
              "      <td>2142</td>\n",
              "      <td>19661</td>\n",
              "      <td>8784</td>\n",
              "      <td>19632</td>\n",
              "    </tr>\n",
              "    <tr>\n",
              "      <th>332664</th>\n",
              "      <td>2</td>\n",
              "      <td>5</td>\n",
              "      <td>14</td>\n",
              "      <td>5</td>\n",
              "      <td>YV</td>\n",
              "      <td>IAH</td>\n",
              "      <td>TX</td>\n",
              "      <td>OMA</td>\n",
              "      <td>NE</td>\n",
              "      <td>1010</td>\n",
              "      <td>1143</td>\n",
              "      <td>133.0</td>\n",
              "      <td>781.0</td>\n",
              "      <td>28761</td>\n",
              "      <td>22975</td>\n",
              "      <td>120943</td>\n",
              "      <td>3743</td>\n",
              "      <td>4483</td>\n",
              "    </tr>\n",
              "    <tr>\n",
              "      <th>1617872</th>\n",
              "      <td>3</td>\n",
              "      <td>7</td>\n",
              "      <td>2</td>\n",
              "      <td>5</td>\n",
              "      <td>OO</td>\n",
              "      <td>JAC</td>\n",
              "      <td>WY</td>\n",
              "      <td>SLC</td>\n",
              "      <td>UT</td>\n",
              "      <td>935</td>\n",
              "      <td>996</td>\n",
              "      <td>61.0</td>\n",
              "      <td>205.0</td>\n",
              "      <td>134078</td>\n",
              "      <td>1423</td>\n",
              "      <td>2636</td>\n",
              "      <td>21960</td>\n",
              "      <td>23244</td>\n",
              "    </tr>\n",
              "    <tr>\n",
              "      <th>1291909</th>\n",
              "      <td>3</td>\n",
              "      <td>7</td>\n",
              "      <td>30</td>\n",
              "      <td>5</td>\n",
              "      <td>F9</td>\n",
              "      <td>DTW</td>\n",
              "      <td>MI</td>\n",
              "      <td>MIA</td>\n",
              "      <td>FL</td>\n",
              "      <td>616</td>\n",
              "      <td>799</td>\n",
              "      <td>183.0</td>\n",
              "      <td>1145.0</td>\n",
              "      <td>25224</td>\n",
              "      <td>23046</td>\n",
              "      <td>29663</td>\n",
              "      <td>16307</td>\n",
              "      <td>103199</td>\n",
              "    </tr>\n",
              "  </tbody>\n",
              "</table>\n",
              "</div>"
            ],
            "text/plain": [
              "         QUARTER  MONTH  ...  DEST_COUNT  DEST_STATE_ABR_COUNT\n",
              "1378354        3      7  ...       45180                 60103\n",
              "1308693        3      7  ...        8784                 19632\n",
              "332664         2      5  ...        3743                  4483\n",
              "1617872        3      7  ...       21960                 23244\n",
              "1291909        3      7  ...       16307                103199\n",
              "\n",
              "[5 rows x 18 columns]"
            ]
          },
          "metadata": {},
          "execution_count": 44
        }
      ]
    },
    {
      "cell_type": "code",
      "metadata": {
        "id": "H7pTdkyYsSCE"
      },
      "source": [
        "# initial attempt with one hot encoding\n",
        "# prefixs = ['CARRIER', 'ORIGIN_AIRPORT', 'ORIGIN_CITY', 'ORIGIN_STATE', 'DEST_AIRPORT', 'DEST_CITY', 'DEST_STATE']\n",
        "df = df.drop(columns=['ORIGIN_CITY_NAME', 'DEST_CITY_NAME'])\n",
        "prefixs = ['CARRIER', 'ORIGIN_AIRPORT', 'ORIGIN_STATE', 'DEST_AIRPORT', 'DEST_STATE']"
      ],
      "execution_count": null,
      "outputs": []
    },
    {
      "cell_type": "code",
      "metadata": {
        "id": "FjLWROv_dWTw"
      },
      "source": [
        "df = df.drop(columns=['FLIGHTS'])"
      ],
      "execution_count": null,
      "outputs": []
    },
    {
      "cell_type": "code",
      "metadata": {
        "id": "Rg23Kfd3vVhN"
      },
      "source": [
        "# Since variables like carrier, origin, and destination are categorical variables, we make convert them into dummies. \n",
        "df_num = pd.get_dummies(df, prefix=prefixs)"
      ],
      "execution_count": null,
      "outputs": []
    },
    {
      "cell_type": "code",
      "metadata": {
        "colab": {
          "background_save": true
        },
        "id": "nH1b1gyAzN4i"
      },
      "source": [
        "df_num.to_csv(\"numericals.csv\", index=False)"
      ],
      "execution_count": null,
      "outputs": []
    },
    {
      "cell_type": "code",
      "metadata": {
        "colab": {
          "base_uri": "https://localhost:8080/",
          "height": 253
        },
        "id": "8PdVuysOWCXa",
        "outputId": "4bff892e-21ba-48ee-9056-3752c9a46471"
      },
      "source": [
        "df_num.head()\n",
        "# found too many features, that which may cause problem. now considering other methods"
      ],
      "execution_count": null,
      "outputs": [
        {
          "data": {
            "text/html": [
              "<div>\n",
              "<style scoped>\n",
              "    .dataframe tbody tr th:only-of-type {\n",
              "        vertical-align: middle;\n",
              "    }\n",
              "\n",
              "    .dataframe tbody tr th {\n",
              "        vertical-align: top;\n",
              "    }\n",
              "\n",
              "    .dataframe thead th {\n",
              "        text-align: right;\n",
              "    }\n",
              "</style>\n",
              "<table border=\"1\" class=\"dataframe\">\n",
              "  <thead>\n",
              "    <tr style=\"text-align: right;\">\n",
              "      <th></th>\n",
              "      <th>QUARTER</th>\n",
              "      <th>MONTH</th>\n",
              "      <th>DAY_OF_MONTH</th>\n",
              "      <th>DAY_OF_WEEK</th>\n",
              "      <th>CRS_DEP_TIME</th>\n",
              "      <th>CRS_ARR_TIME</th>\n",
              "      <th>CRS_ELAPSED_TIME</th>\n",
              "      <th>DISTANCE</th>\n",
              "      <th>CARRIER_9E</th>\n",
              "      <th>CARRIER_AA</th>\n",
              "      <th>CARRIER_AS</th>\n",
              "      <th>CARRIER_B6</th>\n",
              "      <th>CARRIER_DL</th>\n",
              "      <th>CARRIER_F9</th>\n",
              "      <th>CARRIER_G4</th>\n",
              "      <th>CARRIER_HA</th>\n",
              "      <th>CARRIER_MQ</th>\n",
              "      <th>CARRIER_NK</th>\n",
              "      <th>CARRIER_OH</th>\n",
              "      <th>CARRIER_OO</th>\n",
              "      <th>CARRIER_QX</th>\n",
              "      <th>CARRIER_UA</th>\n",
              "      <th>CARRIER_WN</th>\n",
              "      <th>CARRIER_YV</th>\n",
              "      <th>CARRIER_YX</th>\n",
              "      <th>ORIGIN_AIRPORT_ABE</th>\n",
              "      <th>ORIGIN_AIRPORT_ABI</th>\n",
              "      <th>ORIGIN_AIRPORT_ABQ</th>\n",
              "      <th>ORIGIN_AIRPORT_ABR</th>\n",
              "      <th>ORIGIN_AIRPORT_ABY</th>\n",
              "      <th>ORIGIN_AIRPORT_ACK</th>\n",
              "      <th>ORIGIN_AIRPORT_ACT</th>\n",
              "      <th>ORIGIN_AIRPORT_ACV</th>\n",
              "      <th>ORIGIN_AIRPORT_ACY</th>\n",
              "      <th>ORIGIN_AIRPORT_ADK</th>\n",
              "      <th>ORIGIN_AIRPORT_ADQ</th>\n",
              "      <th>ORIGIN_AIRPORT_AEX</th>\n",
              "      <th>ORIGIN_AIRPORT_AGS</th>\n",
              "      <th>ORIGIN_AIRPORT_AKN</th>\n",
              "      <th>ORIGIN_AIRPORT_ALB</th>\n",
              "      <th>...</th>\n",
              "      <th>DEST_STATE_IL</th>\n",
              "      <th>DEST_STATE_IN</th>\n",
              "      <th>DEST_STATE_KS</th>\n",
              "      <th>DEST_STATE_KY</th>\n",
              "      <th>DEST_STATE_LA</th>\n",
              "      <th>DEST_STATE_MA</th>\n",
              "      <th>DEST_STATE_MD</th>\n",
              "      <th>DEST_STATE_ME</th>\n",
              "      <th>DEST_STATE_MI</th>\n",
              "      <th>DEST_STATE_MN</th>\n",
              "      <th>DEST_STATE_MO</th>\n",
              "      <th>DEST_STATE_MS</th>\n",
              "      <th>DEST_STATE_MT</th>\n",
              "      <th>DEST_STATE_NC</th>\n",
              "      <th>DEST_STATE_ND</th>\n",
              "      <th>DEST_STATE_NE</th>\n",
              "      <th>DEST_STATE_NH</th>\n",
              "      <th>DEST_STATE_NJ</th>\n",
              "      <th>DEST_STATE_NM</th>\n",
              "      <th>DEST_STATE_NV</th>\n",
              "      <th>DEST_STATE_NY</th>\n",
              "      <th>DEST_STATE_OH</th>\n",
              "      <th>DEST_STATE_OK</th>\n",
              "      <th>DEST_STATE_OR</th>\n",
              "      <th>DEST_STATE_PA</th>\n",
              "      <th>DEST_STATE_PR</th>\n",
              "      <th>DEST_STATE_RI</th>\n",
              "      <th>DEST_STATE_SC</th>\n",
              "      <th>DEST_STATE_SD</th>\n",
              "      <th>DEST_STATE_TN</th>\n",
              "      <th>DEST_STATE_TT</th>\n",
              "      <th>DEST_STATE_TX</th>\n",
              "      <th>DEST_STATE_UT</th>\n",
              "      <th>DEST_STATE_VA</th>\n",
              "      <th>DEST_STATE_VI</th>\n",
              "      <th>DEST_STATE_VT</th>\n",
              "      <th>DEST_STATE_WA</th>\n",
              "      <th>DEST_STATE_WI</th>\n",
              "      <th>DEST_STATE_WV</th>\n",
              "      <th>DEST_STATE_WY</th>\n",
              "    </tr>\n",
              "  </thead>\n",
              "  <tbody>\n",
              "    <tr>\n",
              "      <th>0</th>\n",
              "      <td>2</td>\n",
              "      <td>5</td>\n",
              "      <td>29</td>\n",
              "      <td>6</td>\n",
              "      <td>2035</td>\n",
              "      <td>2256</td>\n",
              "      <td>141.0</td>\n",
              "      <td>761.0</td>\n",
              "      <td>0</td>\n",
              "      <td>0</td>\n",
              "      <td>0</td>\n",
              "      <td>0</td>\n",
              "      <td>0</td>\n",
              "      <td>0</td>\n",
              "      <td>0</td>\n",
              "      <td>0</td>\n",
              "      <td>0</td>\n",
              "      <td>0</td>\n",
              "      <td>1</td>\n",
              "      <td>0</td>\n",
              "      <td>0</td>\n",
              "      <td>0</td>\n",
              "      <td>0</td>\n",
              "      <td>0</td>\n",
              "      <td>0</td>\n",
              "      <td>0</td>\n",
              "      <td>0</td>\n",
              "      <td>0</td>\n",
              "      <td>0</td>\n",
              "      <td>0</td>\n",
              "      <td>0</td>\n",
              "      <td>0</td>\n",
              "      <td>0</td>\n",
              "      <td>0</td>\n",
              "      <td>0</td>\n",
              "      <td>0</td>\n",
              "      <td>0</td>\n",
              "      <td>0</td>\n",
              "      <td>0</td>\n",
              "      <td>0</td>\n",
              "      <td>...</td>\n",
              "      <td>0</td>\n",
              "      <td>0</td>\n",
              "      <td>0</td>\n",
              "      <td>0</td>\n",
              "      <td>0</td>\n",
              "      <td>0</td>\n",
              "      <td>0</td>\n",
              "      <td>0</td>\n",
              "      <td>0</td>\n",
              "      <td>0</td>\n",
              "      <td>0</td>\n",
              "      <td>0</td>\n",
              "      <td>0</td>\n",
              "      <td>0</td>\n",
              "      <td>0</td>\n",
              "      <td>0</td>\n",
              "      <td>0</td>\n",
              "      <td>0</td>\n",
              "      <td>0</td>\n",
              "      <td>0</td>\n",
              "      <td>0</td>\n",
              "      <td>0</td>\n",
              "      <td>0</td>\n",
              "      <td>0</td>\n",
              "      <td>0</td>\n",
              "      <td>0</td>\n",
              "      <td>0</td>\n",
              "      <td>0</td>\n",
              "      <td>0</td>\n",
              "      <td>0</td>\n",
              "      <td>0</td>\n",
              "      <td>0</td>\n",
              "      <td>0</td>\n",
              "      <td>0</td>\n",
              "      <td>0</td>\n",
              "      <td>1</td>\n",
              "      <td>0</td>\n",
              "      <td>0</td>\n",
              "      <td>0</td>\n",
              "      <td>0</td>\n",
              "    </tr>\n",
              "    <tr>\n",
              "      <th>1</th>\n",
              "      <td>2</td>\n",
              "      <td>5</td>\n",
              "      <td>30</td>\n",
              "      <td>7</td>\n",
              "      <td>2035</td>\n",
              "      <td>2256</td>\n",
              "      <td>141.0</td>\n",
              "      <td>761.0</td>\n",
              "      <td>0</td>\n",
              "      <td>0</td>\n",
              "      <td>0</td>\n",
              "      <td>0</td>\n",
              "      <td>0</td>\n",
              "      <td>0</td>\n",
              "      <td>0</td>\n",
              "      <td>0</td>\n",
              "      <td>0</td>\n",
              "      <td>0</td>\n",
              "      <td>1</td>\n",
              "      <td>0</td>\n",
              "      <td>0</td>\n",
              "      <td>0</td>\n",
              "      <td>0</td>\n",
              "      <td>0</td>\n",
              "      <td>0</td>\n",
              "      <td>0</td>\n",
              "      <td>0</td>\n",
              "      <td>0</td>\n",
              "      <td>0</td>\n",
              "      <td>0</td>\n",
              "      <td>0</td>\n",
              "      <td>0</td>\n",
              "      <td>0</td>\n",
              "      <td>0</td>\n",
              "      <td>0</td>\n",
              "      <td>0</td>\n",
              "      <td>0</td>\n",
              "      <td>0</td>\n",
              "      <td>0</td>\n",
              "      <td>0</td>\n",
              "      <td>...</td>\n",
              "      <td>0</td>\n",
              "      <td>0</td>\n",
              "      <td>0</td>\n",
              "      <td>0</td>\n",
              "      <td>0</td>\n",
              "      <td>0</td>\n",
              "      <td>0</td>\n",
              "      <td>0</td>\n",
              "      <td>0</td>\n",
              "      <td>0</td>\n",
              "      <td>0</td>\n",
              "      <td>0</td>\n",
              "      <td>0</td>\n",
              "      <td>0</td>\n",
              "      <td>0</td>\n",
              "      <td>0</td>\n",
              "      <td>0</td>\n",
              "      <td>0</td>\n",
              "      <td>0</td>\n",
              "      <td>0</td>\n",
              "      <td>0</td>\n",
              "      <td>0</td>\n",
              "      <td>0</td>\n",
              "      <td>0</td>\n",
              "      <td>0</td>\n",
              "      <td>0</td>\n",
              "      <td>0</td>\n",
              "      <td>0</td>\n",
              "      <td>0</td>\n",
              "      <td>0</td>\n",
              "      <td>0</td>\n",
              "      <td>0</td>\n",
              "      <td>0</td>\n",
              "      <td>0</td>\n",
              "      <td>0</td>\n",
              "      <td>1</td>\n",
              "      <td>0</td>\n",
              "      <td>0</td>\n",
              "      <td>0</td>\n",
              "      <td>0</td>\n",
              "    </tr>\n",
              "    <tr>\n",
              "      <th>2</th>\n",
              "      <td>2</td>\n",
              "      <td>5</td>\n",
              "      <td>31</td>\n",
              "      <td>1</td>\n",
              "      <td>2035</td>\n",
              "      <td>2256</td>\n",
              "      <td>141.0</td>\n",
              "      <td>761.0</td>\n",
              "      <td>0</td>\n",
              "      <td>0</td>\n",
              "      <td>0</td>\n",
              "      <td>0</td>\n",
              "      <td>0</td>\n",
              "      <td>0</td>\n",
              "      <td>0</td>\n",
              "      <td>0</td>\n",
              "      <td>0</td>\n",
              "      <td>0</td>\n",
              "      <td>1</td>\n",
              "      <td>0</td>\n",
              "      <td>0</td>\n",
              "      <td>0</td>\n",
              "      <td>0</td>\n",
              "      <td>0</td>\n",
              "      <td>0</td>\n",
              "      <td>0</td>\n",
              "      <td>0</td>\n",
              "      <td>0</td>\n",
              "      <td>0</td>\n",
              "      <td>0</td>\n",
              "      <td>0</td>\n",
              "      <td>0</td>\n",
              "      <td>0</td>\n",
              "      <td>0</td>\n",
              "      <td>0</td>\n",
              "      <td>0</td>\n",
              "      <td>0</td>\n",
              "      <td>0</td>\n",
              "      <td>0</td>\n",
              "      <td>0</td>\n",
              "      <td>...</td>\n",
              "      <td>0</td>\n",
              "      <td>0</td>\n",
              "      <td>0</td>\n",
              "      <td>0</td>\n",
              "      <td>0</td>\n",
              "      <td>0</td>\n",
              "      <td>0</td>\n",
              "      <td>0</td>\n",
              "      <td>0</td>\n",
              "      <td>0</td>\n",
              "      <td>0</td>\n",
              "      <td>0</td>\n",
              "      <td>0</td>\n",
              "      <td>0</td>\n",
              "      <td>0</td>\n",
              "      <td>0</td>\n",
              "      <td>0</td>\n",
              "      <td>0</td>\n",
              "      <td>0</td>\n",
              "      <td>0</td>\n",
              "      <td>0</td>\n",
              "      <td>0</td>\n",
              "      <td>0</td>\n",
              "      <td>0</td>\n",
              "      <td>0</td>\n",
              "      <td>0</td>\n",
              "      <td>0</td>\n",
              "      <td>0</td>\n",
              "      <td>0</td>\n",
              "      <td>0</td>\n",
              "      <td>0</td>\n",
              "      <td>0</td>\n",
              "      <td>0</td>\n",
              "      <td>0</td>\n",
              "      <td>0</td>\n",
              "      <td>1</td>\n",
              "      <td>0</td>\n",
              "      <td>0</td>\n",
              "      <td>0</td>\n",
              "      <td>0</td>\n",
              "    </tr>\n",
              "    <tr>\n",
              "      <th>3</th>\n",
              "      <td>2</td>\n",
              "      <td>5</td>\n",
              "      <td>6</td>\n",
              "      <td>4</td>\n",
              "      <td>1616</td>\n",
              "      <td>1802</td>\n",
              "      <td>166.0</td>\n",
              "      <td>861.0</td>\n",
              "      <td>0</td>\n",
              "      <td>0</td>\n",
              "      <td>0</td>\n",
              "      <td>0</td>\n",
              "      <td>0</td>\n",
              "      <td>0</td>\n",
              "      <td>0</td>\n",
              "      <td>0</td>\n",
              "      <td>0</td>\n",
              "      <td>0</td>\n",
              "      <td>1</td>\n",
              "      <td>0</td>\n",
              "      <td>0</td>\n",
              "      <td>0</td>\n",
              "      <td>0</td>\n",
              "      <td>0</td>\n",
              "      <td>0</td>\n",
              "      <td>0</td>\n",
              "      <td>0</td>\n",
              "      <td>0</td>\n",
              "      <td>0</td>\n",
              "      <td>0</td>\n",
              "      <td>0</td>\n",
              "      <td>0</td>\n",
              "      <td>0</td>\n",
              "      <td>0</td>\n",
              "      <td>0</td>\n",
              "      <td>0</td>\n",
              "      <td>0</td>\n",
              "      <td>0</td>\n",
              "      <td>0</td>\n",
              "      <td>0</td>\n",
              "      <td>...</td>\n",
              "      <td>0</td>\n",
              "      <td>0</td>\n",
              "      <td>0</td>\n",
              "      <td>0</td>\n",
              "      <td>0</td>\n",
              "      <td>0</td>\n",
              "      <td>0</td>\n",
              "      <td>0</td>\n",
              "      <td>0</td>\n",
              "      <td>0</td>\n",
              "      <td>0</td>\n",
              "      <td>0</td>\n",
              "      <td>0</td>\n",
              "      <td>0</td>\n",
              "      <td>0</td>\n",
              "      <td>0</td>\n",
              "      <td>0</td>\n",
              "      <td>0</td>\n",
              "      <td>0</td>\n",
              "      <td>0</td>\n",
              "      <td>0</td>\n",
              "      <td>0</td>\n",
              "      <td>0</td>\n",
              "      <td>0</td>\n",
              "      <td>0</td>\n",
              "      <td>0</td>\n",
              "      <td>0</td>\n",
              "      <td>0</td>\n",
              "      <td>0</td>\n",
              "      <td>0</td>\n",
              "      <td>0</td>\n",
              "      <td>1</td>\n",
              "      <td>0</td>\n",
              "      <td>0</td>\n",
              "      <td>0</td>\n",
              "      <td>0</td>\n",
              "      <td>0</td>\n",
              "      <td>0</td>\n",
              "      <td>0</td>\n",
              "      <td>0</td>\n",
              "    </tr>\n",
              "    <tr>\n",
              "      <th>4</th>\n",
              "      <td>2</td>\n",
              "      <td>5</td>\n",
              "      <td>7</td>\n",
              "      <td>5</td>\n",
              "      <td>1616</td>\n",
              "      <td>1802</td>\n",
              "      <td>166.0</td>\n",
              "      <td>861.0</td>\n",
              "      <td>0</td>\n",
              "      <td>0</td>\n",
              "      <td>0</td>\n",
              "      <td>0</td>\n",
              "      <td>0</td>\n",
              "      <td>0</td>\n",
              "      <td>0</td>\n",
              "      <td>0</td>\n",
              "      <td>0</td>\n",
              "      <td>0</td>\n",
              "      <td>1</td>\n",
              "      <td>0</td>\n",
              "      <td>0</td>\n",
              "      <td>0</td>\n",
              "      <td>0</td>\n",
              "      <td>0</td>\n",
              "      <td>0</td>\n",
              "      <td>0</td>\n",
              "      <td>0</td>\n",
              "      <td>0</td>\n",
              "      <td>0</td>\n",
              "      <td>0</td>\n",
              "      <td>0</td>\n",
              "      <td>0</td>\n",
              "      <td>0</td>\n",
              "      <td>0</td>\n",
              "      <td>0</td>\n",
              "      <td>0</td>\n",
              "      <td>0</td>\n",
              "      <td>0</td>\n",
              "      <td>0</td>\n",
              "      <td>0</td>\n",
              "      <td>...</td>\n",
              "      <td>0</td>\n",
              "      <td>0</td>\n",
              "      <td>0</td>\n",
              "      <td>0</td>\n",
              "      <td>0</td>\n",
              "      <td>0</td>\n",
              "      <td>0</td>\n",
              "      <td>0</td>\n",
              "      <td>0</td>\n",
              "      <td>0</td>\n",
              "      <td>0</td>\n",
              "      <td>0</td>\n",
              "      <td>0</td>\n",
              "      <td>0</td>\n",
              "      <td>0</td>\n",
              "      <td>0</td>\n",
              "      <td>0</td>\n",
              "      <td>0</td>\n",
              "      <td>0</td>\n",
              "      <td>0</td>\n",
              "      <td>0</td>\n",
              "      <td>0</td>\n",
              "      <td>0</td>\n",
              "      <td>0</td>\n",
              "      <td>0</td>\n",
              "      <td>0</td>\n",
              "      <td>0</td>\n",
              "      <td>0</td>\n",
              "      <td>0</td>\n",
              "      <td>0</td>\n",
              "      <td>0</td>\n",
              "      <td>1</td>\n",
              "      <td>0</td>\n",
              "      <td>0</td>\n",
              "      <td>0</td>\n",
              "      <td>0</td>\n",
              "      <td>0</td>\n",
              "      <td>0</td>\n",
              "      <td>0</td>\n",
              "      <td>0</td>\n",
              "    </tr>\n",
              "  </tbody>\n",
              "</table>\n",
              "<p>5 rows × 861 columns</p>\n",
              "</div>"
            ],
            "text/plain": [
              "   QUARTER  MONTH  DAY_OF_MONTH  ...  DEST_STATE_WI  DEST_STATE_WV  DEST_STATE_WY\n",
              "0        2      5            29  ...              0              0              0\n",
              "1        2      5            30  ...              0              0              0\n",
              "2        2      5            31  ...              0              0              0\n",
              "3        2      5             6  ...              0              0              0\n",
              "4        2      5             7  ...              0              0              0\n",
              "\n",
              "[5 rows x 861 columns]"
            ]
          },
          "execution_count": 49,
          "metadata": {},
          "output_type": "execute_result"
        }
      ]
    },
    {
      "cell_type": "code",
      "metadata": {
        "id": "h_ZNVpfbCt1N"
      },
      "source": [
        "# attempt with pca?\n",
        "from sklearn.preprocessing import OneHotEncoder\n",
        "from sklearn.decomposition import PCA\n",
        "ecd = OneHotEncoder().fit_transform(np.array(df_full['DEST_CITY_NAME']).reshape(-1,1))\n",
        "num_cities = ecd.toarray()\n",
        "pca = PCA(n_components=0.95).fit(num_cities)\n",
        "# ram ran out issue (suspect not working anyway)"
      ],
      "execution_count": null,
      "outputs": []
    },
    {
      "cell_type": "code",
      "metadata": {
        "colab": {
          "base_uri": "https://localhost:8080/",
          "height": 226
        },
        "id": "hMsUWeyhE4NK",
        "outputId": "a958382b-7b48-41ad-ccc6-0bf948cee4f6"
      },
      "source": [
        "# attempt with binary encoding\n",
        "\n",
        "ecd = ce.BinaryEncoder()\n",
        "data = ecd.fit_transform(df_full['DEST_CITY_NAME'])\n",
        "data.head()\n",
        "# seems feasible with 9 cols? (but interpretability reduced?)\n",
        "# also weird implication that some cities is similar to some cities \n",
        "# (when sharing a same digit) maybe not use"
      ],
      "execution_count": null,
      "outputs": [
        {
          "output_type": "execute_result",
          "data": {
            "text/html": [
              "<div>\n",
              "<style scoped>\n",
              "    .dataframe tbody tr th:only-of-type {\n",
              "        vertical-align: middle;\n",
              "    }\n",
              "\n",
              "    .dataframe tbody tr th {\n",
              "        vertical-align: top;\n",
              "    }\n",
              "\n",
              "    .dataframe thead th {\n",
              "        text-align: right;\n",
              "    }\n",
              "</style>\n",
              "<table border=\"1\" class=\"dataframe\">\n",
              "  <thead>\n",
              "    <tr style=\"text-align: right;\">\n",
              "      <th></th>\n",
              "      <th>DEST_CITY_NAME_0</th>\n",
              "      <th>DEST_CITY_NAME_1</th>\n",
              "      <th>DEST_CITY_NAME_2</th>\n",
              "      <th>DEST_CITY_NAME_3</th>\n",
              "      <th>DEST_CITY_NAME_4</th>\n",
              "      <th>DEST_CITY_NAME_5</th>\n",
              "      <th>DEST_CITY_NAME_6</th>\n",
              "      <th>DEST_CITY_NAME_7</th>\n",
              "      <th>DEST_CITY_NAME_8</th>\n",
              "    </tr>\n",
              "  </thead>\n",
              "  <tbody>\n",
              "    <tr>\n",
              "      <th>0</th>\n",
              "      <td>0</td>\n",
              "      <td>0</td>\n",
              "      <td>0</td>\n",
              "      <td>0</td>\n",
              "      <td>0</td>\n",
              "      <td>0</td>\n",
              "      <td>0</td>\n",
              "      <td>0</td>\n",
              "      <td>1</td>\n",
              "    </tr>\n",
              "    <tr>\n",
              "      <th>1</th>\n",
              "      <td>0</td>\n",
              "      <td>0</td>\n",
              "      <td>0</td>\n",
              "      <td>0</td>\n",
              "      <td>0</td>\n",
              "      <td>0</td>\n",
              "      <td>0</td>\n",
              "      <td>0</td>\n",
              "      <td>1</td>\n",
              "    </tr>\n",
              "    <tr>\n",
              "      <th>2</th>\n",
              "      <td>0</td>\n",
              "      <td>0</td>\n",
              "      <td>0</td>\n",
              "      <td>0</td>\n",
              "      <td>0</td>\n",
              "      <td>0</td>\n",
              "      <td>0</td>\n",
              "      <td>0</td>\n",
              "      <td>1</td>\n",
              "    </tr>\n",
              "    <tr>\n",
              "      <th>3</th>\n",
              "      <td>0</td>\n",
              "      <td>0</td>\n",
              "      <td>0</td>\n",
              "      <td>0</td>\n",
              "      <td>0</td>\n",
              "      <td>0</td>\n",
              "      <td>0</td>\n",
              "      <td>1</td>\n",
              "      <td>0</td>\n",
              "    </tr>\n",
              "    <tr>\n",
              "      <th>4</th>\n",
              "      <td>0</td>\n",
              "      <td>0</td>\n",
              "      <td>0</td>\n",
              "      <td>0</td>\n",
              "      <td>0</td>\n",
              "      <td>0</td>\n",
              "      <td>0</td>\n",
              "      <td>1</td>\n",
              "      <td>0</td>\n",
              "    </tr>\n",
              "  </tbody>\n",
              "</table>\n",
              "</div>"
            ],
            "text/plain": [
              "   DEST_CITY_NAME_0  DEST_CITY_NAME_1  ...  DEST_CITY_NAME_7  DEST_CITY_NAME_8\n",
              "0                 0                 0  ...                 0                 1\n",
              "1                 0                 0  ...                 0                 1\n",
              "2                 0                 0  ...                 0                 1\n",
              "3                 0                 0  ...                 1                 0\n",
              "4                 0                 0  ...                 1                 0\n",
              "\n",
              "[5 rows x 9 columns]"
            ]
          },
          "metadata": {},
          "execution_count": 21
        }
      ]
    },
    {
      "cell_type": "code",
      "metadata": {
        "colab": {
          "base_uri": "https://localhost:8080/",
          "height": 206
        },
        "id": "oKU8uPZzK5Oe",
        "outputId": "f9c36c87-fa40-4c85-c6e8-d5dc02e9859e"
      },
      "source": [
        "# attempt with count encoder\n",
        "ecd2 = ce.CountEncoder(normalize=True)\n",
        "data2 = ecd2.fit_transform(df_full['DEST_CITY_NAME'])\n",
        "data2.head()\n",
        "# probably worthy but not sufficient. likely need normalization\n",
        "# category imbalance noticed"
      ],
      "execution_count": null,
      "outputs": [
        {
          "output_type": "execute_result",
          "data": {
            "text/html": [
              "<div>\n",
              "<style scoped>\n",
              "    .dataframe tbody tr th:only-of-type {\n",
              "        vertical-align: middle;\n",
              "    }\n",
              "\n",
              "    .dataframe tbody tr th {\n",
              "        vertical-align: top;\n",
              "    }\n",
              "\n",
              "    .dataframe thead th {\n",
              "        text-align: right;\n",
              "    }\n",
              "</style>\n",
              "<table border=\"1\" class=\"dataframe\">\n",
              "  <thead>\n",
              "    <tr style=\"text-align: right;\">\n",
              "      <th></th>\n",
              "      <th>DEST_CITY_NAME</th>\n",
              "    </tr>\n",
              "  </thead>\n",
              "  <tbody>\n",
              "    <tr>\n",
              "      <th>0</th>\n",
              "      <td>0.000909</td>\n",
              "    </tr>\n",
              "    <tr>\n",
              "      <th>1</th>\n",
              "      <td>0.000909</td>\n",
              "    </tr>\n",
              "    <tr>\n",
              "      <th>2</th>\n",
              "      <td>0.000909</td>\n",
              "    </tr>\n",
              "    <tr>\n",
              "      <th>3</th>\n",
              "      <td>0.047155</td>\n",
              "    </tr>\n",
              "    <tr>\n",
              "      <th>4</th>\n",
              "      <td>0.047155</td>\n",
              "    </tr>\n",
              "  </tbody>\n",
              "</table>\n",
              "</div>"
            ],
            "text/plain": [
              "   DEST_CITY_NAME\n",
              "0        0.000909\n",
              "1        0.000909\n",
              "2        0.000909\n",
              "3        0.047155\n",
              "4        0.047155"
            ]
          },
          "metadata": {},
          "execution_count": 32
        }
      ]
    },
    {
      "cell_type": "code",
      "metadata": {
        "colab": {
          "base_uri": "https://localhost:8080/",
          "height": 206
        },
        "id": "CnqNOKpBFt1N",
        "outputId": "6c2a9d74-6c3e-49ae-8825-28236c6a8f8f"
      },
      "source": [
        "# attempt with target encoder / m estimate\n",
        "ecd3 = ce.m_estimate.MEstimateEncoder(m=1.0)\n",
        "ecd3.fit(df_full['DEST_CITY_NAME'], df_full['DEP_DELAY'])\n",
        "data3 = ecd3.transform(df_full['DEST_CITY_NAME'])\n",
        "data3.head()\n",
        "# issue with data (mainly target) leakage\n",
        "# => regularization is needed , one paremeter for m estimate \n",
        "# => careful cross validation \n",
        "# => tuning will be painful (or just set to m=1)"
      ],
      "execution_count": null,
      "outputs": [
        {
          "output_type": "execute_result",
          "data": {
            "text/html": [
              "<div>\n",
              "<style scoped>\n",
              "    .dataframe tbody tr th:only-of-type {\n",
              "        vertical-align: middle;\n",
              "    }\n",
              "\n",
              "    .dataframe tbody tr th {\n",
              "        vertical-align: top;\n",
              "    }\n",
              "\n",
              "    .dataframe thead th {\n",
              "        text-align: right;\n",
              "    }\n",
              "</style>\n",
              "<table border=\"1\" class=\"dataframe\">\n",
              "  <thead>\n",
              "    <tr style=\"text-align: right;\">\n",
              "      <th></th>\n",
              "      <th>DEST_CITY_NAME</th>\n",
              "    </tr>\n",
              "  </thead>\n",
              "  <tbody>\n",
              "    <tr>\n",
              "      <th>0</th>\n",
              "      <td>12.144771</td>\n",
              "    </tr>\n",
              "    <tr>\n",
              "      <th>1</th>\n",
              "      <td>12.144771</td>\n",
              "    </tr>\n",
              "    <tr>\n",
              "      <th>2</th>\n",
              "      <td>12.144771</td>\n",
              "    </tr>\n",
              "    <tr>\n",
              "      <th>3</th>\n",
              "      <td>19.675100</td>\n",
              "    </tr>\n",
              "    <tr>\n",
              "      <th>4</th>\n",
              "      <td>19.675100</td>\n",
              "    </tr>\n",
              "  </tbody>\n",
              "</table>\n",
              "</div>"
            ],
            "text/plain": [
              "   DEST_CITY_NAME\n",
              "0       12.144771\n",
              "1       12.144771\n",
              "2       12.144771\n",
              "3       19.675100\n",
              "4       19.675100"
            ]
          },
          "metadata": {},
          "execution_count": 28
        }
      ]
    },
    {
      "cell_type": "code",
      "metadata": {
        "id": "2gq8O_-JZt9U"
      },
      "source": [
        "# attempt with glmm encoder\n",
        "ecd4 = ce.glmm.GLMMEncoder()\n",
        "ecd4.fit(df_full['DEST_CITY_NAME'], df_full['DEP_DELAY'])\n",
        "data4 = ecd4.transform(df_full['DEST_CITY_NAME'])\n",
        "data4.head()\n",
        "# run failure"
      ],
      "execution_count": null,
      "outputs": []
    },
    {
      "cell_type": "code",
      "metadata": {
        "id": "62Z5tPnBPZWt"
      },
      "source": [
        ""
      ],
      "execution_count": null,
      "outputs": []
    },
    {
      "cell_type": "code",
      "metadata": {
        "id": "sBudKqR81Wsw"
      },
      "source": [
        ""
      ],
      "execution_count": null,
      "outputs": []
    },
    {
      "cell_type": "code",
      "metadata": {
        "id": "B4x_fyrq1WwP"
      },
      "source": [
        ""
      ],
      "execution_count": null,
      "outputs": []
    },
    {
      "cell_type": "code",
      "metadata": {
        "id": "N2yKcW-P1Wzw"
      },
      "source": [
        ""
      ],
      "execution_count": null,
      "outputs": []
    },
    {
      "cell_type": "code",
      "metadata": {
        "id": "3iau_XPQ1W27"
      },
      "source": [
        ""
      ],
      "execution_count": null,
      "outputs": []
    },
    {
      "cell_type": "code",
      "metadata": {
        "colab": {
          "base_uri": "https://localhost:8080/"
        },
        "id": "SSlnLI891v4Q",
        "outputId": "af53779f-ccd0-4296-844c-db3ef4f672fb"
      },
      "source": [
        "%ls"
      ],
      "execution_count": null,
      "outputs": [
        {
          "name": "stdout",
          "output_type": "stream",
          "text": [
            "july.csv  june.csv  may.csv  numericals.csv\n"
          ]
        }
      ]
    },
    {
      "cell_type": "code",
      "metadata": {
        "colab": {
          "base_uri": "https://localhost:8080/"
        },
        "id": "Xdve77sJW3d7",
        "outputId": "e2387b03-22ec-40db-a6de-5fea8b6ea363"
      },
      "source": [
        "df.isnull().sum()\n",
        "# No attribute has any null value. "
      ],
      "execution_count": null,
      "outputs": [
        {
          "data": {
            "text/plain": [
              "QUARTER              0\n",
              "MONTH                0\n",
              "DAY_OF_MONTH         0\n",
              "DAY_OF_WEEK          0\n",
              "OP_UNIQUE_CARRIER    0\n",
              "ORIGIN               0\n",
              "ORIGIN_STATE_ABR     0\n",
              "DEST                 0\n",
              "DEST_STATE_ABR       0\n",
              "CRS_DEP_TIME         0\n",
              "CRS_ARR_TIME         0\n",
              "CRS_ELAPSED_TIME     0\n",
              "DISTANCE             0\n",
              "dtype: int64"
            ]
          },
          "execution_count": 51,
          "metadata": {},
          "output_type": "execute_result"
        }
      ]
    },
    {
      "cell_type": "code",
      "metadata": {
        "id": "13zlJb_-XDw6"
      },
      "source": [
        "import matplotlib.pyplot as plt\n",
        "import seaborn as sn"
      ],
      "execution_count": null,
      "outputs": []
    },
    {
      "cell_type": "code",
      "metadata": {
        "colab": {
          "base_uri": "https://localhost:8080/"
        },
        "id": "FTx1-TzmaUB3",
        "outputId": "60ca4a95-c9f4-4561-b855-f22563c51009"
      },
      "source": [
        "dep_delay = df_full['DEP_DELAY']\n",
        "dep_delay.head()"
      ],
      "execution_count": null,
      "outputs": [
        {
          "data": {
            "text/plain": [
              "0    15.0\n",
              "1    -5.0\n",
              "2   -10.0\n",
              "3    -4.0\n",
              "4    10.0\n",
              "Name: DEP_DELAY, dtype: float64"
            ]
          },
          "execution_count": 53,
          "metadata": {},
          "output_type": "execute_result"
        }
      ]
    },
    {
      "cell_type": "code",
      "metadata": {
        "colab": {
          "base_uri": "https://localhost:8080/",
          "height": 224
        },
        "id": "-opZyDiEaiLY",
        "outputId": "ff271f2f-a213-4c66-c3be-9108a280ef65"
      },
      "source": [
        "df_dep_delay = df\n",
        "df_dep_delay['target(dep_delay)'] = dep_delay\n",
        "df_dep_delay.head()"
      ],
      "execution_count": null,
      "outputs": [
        {
          "data": {
            "text/html": [
              "<div>\n",
              "<style scoped>\n",
              "    .dataframe tbody tr th:only-of-type {\n",
              "        vertical-align: middle;\n",
              "    }\n",
              "\n",
              "    .dataframe tbody tr th {\n",
              "        vertical-align: top;\n",
              "    }\n",
              "\n",
              "    .dataframe thead th {\n",
              "        text-align: right;\n",
              "    }\n",
              "</style>\n",
              "<table border=\"1\" class=\"dataframe\">\n",
              "  <thead>\n",
              "    <tr style=\"text-align: right;\">\n",
              "      <th></th>\n",
              "      <th>QUARTER</th>\n",
              "      <th>MONTH</th>\n",
              "      <th>DAY_OF_MONTH</th>\n",
              "      <th>DAY_OF_WEEK</th>\n",
              "      <th>OP_UNIQUE_CARRIER</th>\n",
              "      <th>ORIGIN</th>\n",
              "      <th>ORIGIN_STATE_ABR</th>\n",
              "      <th>DEST</th>\n",
              "      <th>DEST_STATE_ABR</th>\n",
              "      <th>CRS_DEP_TIME</th>\n",
              "      <th>CRS_ARR_TIME</th>\n",
              "      <th>CRS_ELAPSED_TIME</th>\n",
              "      <th>DISTANCE</th>\n",
              "      <th>target(dep_delay)</th>\n",
              "    </tr>\n",
              "  </thead>\n",
              "  <tbody>\n",
              "    <tr>\n",
              "      <th>0</th>\n",
              "      <td>2</td>\n",
              "      <td>5</td>\n",
              "      <td>29</td>\n",
              "      <td>6</td>\n",
              "      <td>OH</td>\n",
              "      <td>CLT</td>\n",
              "      <td>NC</td>\n",
              "      <td>BTV</td>\n",
              "      <td>VT</td>\n",
              "      <td>2035</td>\n",
              "      <td>2256</td>\n",
              "      <td>141.0</td>\n",
              "      <td>761.0</td>\n",
              "      <td>15.0</td>\n",
              "    </tr>\n",
              "    <tr>\n",
              "      <th>1</th>\n",
              "      <td>2</td>\n",
              "      <td>5</td>\n",
              "      <td>30</td>\n",
              "      <td>7</td>\n",
              "      <td>OH</td>\n",
              "      <td>CLT</td>\n",
              "      <td>NC</td>\n",
              "      <td>BTV</td>\n",
              "      <td>VT</td>\n",
              "      <td>2035</td>\n",
              "      <td>2256</td>\n",
              "      <td>141.0</td>\n",
              "      <td>761.0</td>\n",
              "      <td>-5.0</td>\n",
              "    </tr>\n",
              "    <tr>\n",
              "      <th>2</th>\n",
              "      <td>2</td>\n",
              "      <td>5</td>\n",
              "      <td>31</td>\n",
              "      <td>1</td>\n",
              "      <td>OH</td>\n",
              "      <td>CLT</td>\n",
              "      <td>NC</td>\n",
              "      <td>BTV</td>\n",
              "      <td>VT</td>\n",
              "      <td>2035</td>\n",
              "      <td>2256</td>\n",
              "      <td>141.0</td>\n",
              "      <td>761.0</td>\n",
              "      <td>-10.0</td>\n",
              "    </tr>\n",
              "    <tr>\n",
              "      <th>3</th>\n",
              "      <td>2</td>\n",
              "      <td>5</td>\n",
              "      <td>6</td>\n",
              "      <td>4</td>\n",
              "      <td>OH</td>\n",
              "      <td>DAY</td>\n",
              "      <td>OH</td>\n",
              "      <td>DFW</td>\n",
              "      <td>TX</td>\n",
              "      <td>1616</td>\n",
              "      <td>1802</td>\n",
              "      <td>166.0</td>\n",
              "      <td>861.0</td>\n",
              "      <td>-4.0</td>\n",
              "    </tr>\n",
              "    <tr>\n",
              "      <th>4</th>\n",
              "      <td>2</td>\n",
              "      <td>5</td>\n",
              "      <td>7</td>\n",
              "      <td>5</td>\n",
              "      <td>OH</td>\n",
              "      <td>DAY</td>\n",
              "      <td>OH</td>\n",
              "      <td>DFW</td>\n",
              "      <td>TX</td>\n",
              "      <td>1616</td>\n",
              "      <td>1802</td>\n",
              "      <td>166.0</td>\n",
              "      <td>861.0</td>\n",
              "      <td>10.0</td>\n",
              "    </tr>\n",
              "  </tbody>\n",
              "</table>\n",
              "</div>"
            ],
            "text/plain": [
              "   QUARTER  MONTH  DAY_OF_MONTH  ...  CRS_ELAPSED_TIME DISTANCE target(dep_delay)\n",
              "0        2      5            29  ...             141.0    761.0              15.0\n",
              "1        2      5            30  ...             141.0    761.0              -5.0\n",
              "2        2      5            31  ...             141.0    761.0             -10.0\n",
              "3        2      5             6  ...             166.0    861.0              -4.0\n",
              "4        2      5             7  ...             166.0    861.0              10.0\n",
              "\n",
              "[5 rows x 14 columns]"
            ]
          },
          "execution_count": 54,
          "metadata": {},
          "output_type": "execute_result"
        }
      ]
    },
    {
      "cell_type": "code",
      "metadata": {
        "colab": {
          "base_uri": "https://localhost:8080/",
          "height": 313
        },
        "id": "YeKcJBz0tG0f",
        "outputId": "0e9198fb-790a-4e9e-a8a4-95ba2bcdaeba"
      },
      "source": [
        "df_full.head()"
      ],
      "execution_count": 9,
      "outputs": [
        {
          "output_type": "execute_result",
          "data": {
            "text/html": [
              "<div>\n",
              "<style scoped>\n",
              "    .dataframe tbody tr th:only-of-type {\n",
              "        vertical-align: middle;\n",
              "    }\n",
              "\n",
              "    .dataframe tbody tr th {\n",
              "        vertical-align: top;\n",
              "    }\n",
              "\n",
              "    .dataframe thead th {\n",
              "        text-align: right;\n",
              "    }\n",
              "</style>\n",
              "<table border=\"1\" class=\"dataframe\">\n",
              "  <thead>\n",
              "    <tr style=\"text-align: right;\">\n",
              "      <th></th>\n",
              "      <th>YEAR</th>\n",
              "      <th>QUARTER</th>\n",
              "      <th>MONTH</th>\n",
              "      <th>DAY_OF_MONTH</th>\n",
              "      <th>DAY_OF_WEEK</th>\n",
              "      <th>FL_DATE</th>\n",
              "      <th>OP_UNIQUE_CARRIER</th>\n",
              "      <th>ORIGIN</th>\n",
              "      <th>ORIGIN_CITY_NAME</th>\n",
              "      <th>ORIGIN_STATE_ABR</th>\n",
              "      <th>DEST</th>\n",
              "      <th>DEST_CITY_NAME</th>\n",
              "      <th>DEST_STATE_ABR</th>\n",
              "      <th>CRS_DEP_TIME</th>\n",
              "      <th>DEP_TIME</th>\n",
              "      <th>DEP_DELAY</th>\n",
              "      <th>DEP_DEL15</th>\n",
              "      <th>CRS_ARR_TIME</th>\n",
              "      <th>ARR_TIME</th>\n",
              "      <th>ARR_DELAY</th>\n",
              "      <th>ARR_DEL15</th>\n",
              "      <th>CANCELLED</th>\n",
              "      <th>DIVERTED</th>\n",
              "      <th>CRS_ELAPSED_TIME</th>\n",
              "      <th>ACTUAL_ELAPSED_TIME</th>\n",
              "      <th>FLIGHTS</th>\n",
              "      <th>DISTANCE</th>\n",
              "    </tr>\n",
              "  </thead>\n",
              "  <tbody>\n",
              "    <tr>\n",
              "      <th>0</th>\n",
              "      <td>2021</td>\n",
              "      <td>2</td>\n",
              "      <td>5</td>\n",
              "      <td>29</td>\n",
              "      <td>6</td>\n",
              "      <td>2021-05-29</td>\n",
              "      <td>OH</td>\n",
              "      <td>CLT</td>\n",
              "      <td>Charlotte, NC</td>\n",
              "      <td>NC</td>\n",
              "      <td>BTV</td>\n",
              "      <td>Burlington, VT</td>\n",
              "      <td>VT</td>\n",
              "      <td>1235</td>\n",
              "      <td>2050.0</td>\n",
              "      <td>15.0</td>\n",
              "      <td>1.0</td>\n",
              "      <td>1376</td>\n",
              "      <td>2255.0</td>\n",
              "      <td>-1.0</td>\n",
              "      <td>0.0</td>\n",
              "      <td>0.0</td>\n",
              "      <td>0.0</td>\n",
              "      <td>141.0</td>\n",
              "      <td>125.0</td>\n",
              "      <td>1.0</td>\n",
              "      <td>761.0</td>\n",
              "    </tr>\n",
              "    <tr>\n",
              "      <th>1</th>\n",
              "      <td>2021</td>\n",
              "      <td>2</td>\n",
              "      <td>5</td>\n",
              "      <td>30</td>\n",
              "      <td>7</td>\n",
              "      <td>2021-05-30</td>\n",
              "      <td>OH</td>\n",
              "      <td>CLT</td>\n",
              "      <td>Charlotte, NC</td>\n",
              "      <td>NC</td>\n",
              "      <td>BTV</td>\n",
              "      <td>Burlington, VT</td>\n",
              "      <td>VT</td>\n",
              "      <td>1235</td>\n",
              "      <td>2030.0</td>\n",
              "      <td>-5.0</td>\n",
              "      <td>0.0</td>\n",
              "      <td>1376</td>\n",
              "      <td>2236.0</td>\n",
              "      <td>-20.0</td>\n",
              "      <td>0.0</td>\n",
              "      <td>0.0</td>\n",
              "      <td>0.0</td>\n",
              "      <td>141.0</td>\n",
              "      <td>126.0</td>\n",
              "      <td>1.0</td>\n",
              "      <td>761.0</td>\n",
              "    </tr>\n",
              "    <tr>\n",
              "      <th>2</th>\n",
              "      <td>2021</td>\n",
              "      <td>2</td>\n",
              "      <td>5</td>\n",
              "      <td>31</td>\n",
              "      <td>1</td>\n",
              "      <td>2021-05-31</td>\n",
              "      <td>OH</td>\n",
              "      <td>CLT</td>\n",
              "      <td>Charlotte, NC</td>\n",
              "      <td>NC</td>\n",
              "      <td>BTV</td>\n",
              "      <td>Burlington, VT</td>\n",
              "      <td>VT</td>\n",
              "      <td>1235</td>\n",
              "      <td>2025.0</td>\n",
              "      <td>-10.0</td>\n",
              "      <td>0.0</td>\n",
              "      <td>1376</td>\n",
              "      <td>2252.0</td>\n",
              "      <td>-4.0</td>\n",
              "      <td>0.0</td>\n",
              "      <td>0.0</td>\n",
              "      <td>0.0</td>\n",
              "      <td>141.0</td>\n",
              "      <td>147.0</td>\n",
              "      <td>1.0</td>\n",
              "      <td>761.0</td>\n",
              "    </tr>\n",
              "    <tr>\n",
              "      <th>3</th>\n",
              "      <td>2021</td>\n",
              "      <td>2</td>\n",
              "      <td>5</td>\n",
              "      <td>6</td>\n",
              "      <td>4</td>\n",
              "      <td>2021-05-06</td>\n",
              "      <td>OH</td>\n",
              "      <td>DAY</td>\n",
              "      <td>Dayton, OH</td>\n",
              "      <td>OH</td>\n",
              "      <td>DFW</td>\n",
              "      <td>Dallas/Fort Worth, TX</td>\n",
              "      <td>TX</td>\n",
              "      <td>976</td>\n",
              "      <td>1612.0</td>\n",
              "      <td>-4.0</td>\n",
              "      <td>0.0</td>\n",
              "      <td>1082</td>\n",
              "      <td>1808.0</td>\n",
              "      <td>6.0</td>\n",
              "      <td>0.0</td>\n",
              "      <td>0.0</td>\n",
              "      <td>0.0</td>\n",
              "      <td>166.0</td>\n",
              "      <td>176.0</td>\n",
              "      <td>1.0</td>\n",
              "      <td>861.0</td>\n",
              "    </tr>\n",
              "    <tr>\n",
              "      <th>4</th>\n",
              "      <td>2021</td>\n",
              "      <td>2</td>\n",
              "      <td>5</td>\n",
              "      <td>7</td>\n",
              "      <td>5</td>\n",
              "      <td>2021-05-07</td>\n",
              "      <td>OH</td>\n",
              "      <td>DAY</td>\n",
              "      <td>Dayton, OH</td>\n",
              "      <td>OH</td>\n",
              "      <td>DFW</td>\n",
              "      <td>Dallas/Fort Worth, TX</td>\n",
              "      <td>TX</td>\n",
              "      <td>976</td>\n",
              "      <td>1626.0</td>\n",
              "      <td>10.0</td>\n",
              "      <td>0.0</td>\n",
              "      <td>1082</td>\n",
              "      <td>1805.0</td>\n",
              "      <td>3.0</td>\n",
              "      <td>0.0</td>\n",
              "      <td>0.0</td>\n",
              "      <td>0.0</td>\n",
              "      <td>166.0</td>\n",
              "      <td>159.0</td>\n",
              "      <td>1.0</td>\n",
              "      <td>861.0</td>\n",
              "    </tr>\n",
              "  </tbody>\n",
              "</table>\n",
              "</div>"
            ],
            "text/plain": [
              "   YEAR  QUARTER  MONTH  ...  ACTUAL_ELAPSED_TIME  FLIGHTS DISTANCE\n",
              "0  2021        2      5  ...                125.0      1.0    761.0\n",
              "1  2021        2      5  ...                126.0      1.0    761.0\n",
              "2  2021        2      5  ...                147.0      1.0    761.0\n",
              "3  2021        2      5  ...                176.0      1.0    861.0\n",
              "4  2021        2      5  ...                159.0      1.0    861.0\n",
              "\n",
              "[5 rows x 27 columns]"
            ]
          },
          "metadata": {},
          "execution_count": 9
        }
      ]
    },
    {
      "cell_type": "code",
      "metadata": {
        "id": "-uiQEX36tKYS"
      },
      "source": [
        "df_15 = df_full[['DAY_OF_MONTH','DAY_OF_WEEK','CRS_DEP_TIME','CRS_ARR_TIME','CRS_ELAPSED_TIME','DISTANCE','DEP_DEL15']]\n",
        "df_con = df_full[['DAY_OF_MONTH','DAY_OF_WEEK','CRS_DEP_TIME','CRS_ARR_TIME','CRS_ELAPSED_TIME','DISTANCE','DEP_DELAY']]"
      ],
      "execution_count": 17,
      "outputs": []
    },
    {
      "cell_type": "code",
      "metadata": {
        "colab": {
          "base_uri": "https://localhost:8080/",
          "height": 684
        },
        "id": "dxA6DXbQt-CG",
        "outputId": "df6bbdf5-8d22-4647-d922-c077381c5aa0"
      },
      "source": [
        "corrMatrix = df_15.corr()\n",
        "plt.figure(figsize=(10,10))\n",
        "sn.heatmap(corrMatrix, annot=True)\n",
        "plt.show()"
      ],
      "execution_count": 16,
      "outputs": [
        {
          "output_type": "display_data",
          "data": {
            "image/png": "[encoded data removed]",
            "text/plain": [
              "<Figure size 720x720 with 2 Axes>"
            ]
          },
          "metadata": {
            "needs_background": "light"
          }
        }
      ]
    },
    {
      "cell_type": "code",
      "metadata": {
        "colab": {
          "base_uri": "https://localhost:8080/",
          "height": 684
        },
        "id": "ASe0mpnXt7iD",
        "outputId": "7e0e5291-3e7a-49ae-a8e4-6f3c2c951595"
      },
      "source": [
        "corrMatrix = df_con.corr()\n",
        "plt.figure(figsize=(10,10))\n",
        "sn.heatmap(corrMatrix, annot=True)\n",
        "plt.show()"
      ],
      "execution_count": 18,
      "outputs": [
        {
          "output_type": "display_data",
          "data": {
            "image/png": "[encoded data removed]",
            "text/plain": [
              "<Figure size 720x720 with 2 Axes>"
            ]
          },
          "metadata": {
            "needs_background": "light"
          }
        }
      ]
    },
    {
      "cell_type": "code",
      "metadata": {
        "colab": {
          "base_uri": "https://localhost:8080/",
          "height": 684
        },
        "id": "BmiAoKKhYfGR",
        "outputId": "b2dd1e41-b971-4bd4-a49a-69451155d60f"
      },
      "source": [
        "corrMatrix = df_dep_delay.corr()\n",
        "plt.figure(figsize=(10,10))\n",
        "sn.heatmap(corrMatrix, annot=True)\n",
        "plt.show()\n",
        "# From the correlation plot, we can see that \n",
        "# The correlation between quarter and month is 0.87, \n",
        "# The correlation between planned departure time and planned arrival time is 0.71\n",
        "# The correlation between planned elapsed time and distance is 0.99.\n",
        "# So we decide to drop one of each from original dataset to exclude correlation between variables."
      ],
      "execution_count": null,
      "outputs": [
        {
          "data": {
            "image/png": "[encoded data removed]",
            "text/plain": [
              "<Figure size 720x720 with 2 Axes>"
            ]
          },
          "metadata": {},
          "output_type": "display_data"
        }
      ]
    },
    {
      "cell_type": "code",
      "metadata": {
        "id": "Dtc5xyKfh5p0"
      },
      "source": [
        "df = df.drop(columns=['CRS_ARR_TIME','QUARTER','CRS_ELAPSED_TIME'])"
      ],
      "execution_count": null,
      "outputs": []
    },
    {
      "cell_type": "code",
      "metadata": {
        "colab": {
          "base_uri": "https://localhost:8080/",
          "height": 675
        },
        "id": "0O0irwDKg19o",
        "outputId": "4555518c-99a5-421f-d6b5-442593496410"
      },
      "source": [
        "# Draw the correlation matrix again.\n",
        "df_dep_delay = df\n",
        "df_dep_delay['target(dep_delay)'] = dep_delay\n",
        "corrMatrix = df_dep_delay.corr()\n",
        "plt.figure(figsize=(10,10))\n",
        "sn.heatmap(corrMatrix, annot=True)\n",
        "plt.show()\n",
        "# Now the data is ready for prediction."
      ],
      "execution_count": null,
      "outputs": [
        {
          "data": {
            "image/png": "[encoded data removed]",
            "text/plain": [
              "<Figure size 720x720 with 2 Axes>"
            ]
          },
          "metadata": {},
          "output_type": "display_data"
        }
      ]
    },
    {
      "cell_type": "code",
      "metadata": {
        "id": "P3imRH6akjzs"
      },
      "source": [
        "# Exploratory Data Analysis"
      ],
      "execution_count": null,
      "outputs": []
    },
    {
      "cell_type": "code",
      "metadata": {
        "colab": {
          "base_uri": "https://localhost:8080/",
          "height": 309
        },
        "id": "1c8wbFh1krXM",
        "outputId": "993985da-b0ea-4768-a2da-d5f6bb5cdd7b"
      },
      "source": [
        "df_full.head()"
      ],
      "execution_count": null,
      "outputs": [
        {
          "data": {
            "text/html": [
              "<div>\n",
              "<style scoped>\n",
              "    .dataframe tbody tr th:only-of-type {\n",
              "        vertical-align: middle;\n",
              "    }\n",
              "\n",
              "    .dataframe tbody tr th {\n",
              "        vertical-align: top;\n",
              "    }\n",
              "\n",
              "    .dataframe thead th {\n",
              "        text-align: right;\n",
              "    }\n",
              "</style>\n",
              "<table border=\"1\" class=\"dataframe\">\n",
              "  <thead>\n",
              "    <tr style=\"text-align: right;\">\n",
              "      <th></th>\n",
              "      <th>YEAR</th>\n",
              "      <th>QUARTER</th>\n",
              "      <th>MONTH</th>\n",
              "      <th>DAY_OF_MONTH</th>\n",
              "      <th>DAY_OF_WEEK</th>\n",
              "      <th>FL_DATE</th>\n",
              "      <th>OP_UNIQUE_CARRIER</th>\n",
              "      <th>ORIGIN</th>\n",
              "      <th>ORIGIN_CITY_NAME</th>\n",
              "      <th>ORIGIN_STATE_ABR</th>\n",
              "      <th>DEST</th>\n",
              "      <th>DEST_CITY_NAME</th>\n",
              "      <th>DEST_STATE_ABR</th>\n",
              "      <th>CRS_DEP_TIME</th>\n",
              "      <th>DEP_TIME</th>\n",
              "      <th>DEP_DELAY</th>\n",
              "      <th>DEP_DEL15</th>\n",
              "      <th>CRS_ARR_TIME</th>\n",
              "      <th>ARR_TIME</th>\n",
              "      <th>ARR_DELAY</th>\n",
              "      <th>ARR_DEL15</th>\n",
              "      <th>CANCELLED</th>\n",
              "      <th>DIVERTED</th>\n",
              "      <th>CRS_ELAPSED_TIME</th>\n",
              "      <th>ACTUAL_ELAPSED_TIME</th>\n",
              "      <th>FLIGHTS</th>\n",
              "      <th>DISTANCE</th>\n",
              "    </tr>\n",
              "  </thead>\n",
              "  <tbody>\n",
              "    <tr>\n",
              "      <th>0</th>\n",
              "      <td>2021</td>\n",
              "      <td>2</td>\n",
              "      <td>5</td>\n",
              "      <td>29</td>\n",
              "      <td>6</td>\n",
              "      <td>2021-05-29</td>\n",
              "      <td>OH</td>\n",
              "      <td>CLT</td>\n",
              "      <td>Charlotte, NC</td>\n",
              "      <td>NC</td>\n",
              "      <td>BTV</td>\n",
              "      <td>Burlington, VT</td>\n",
              "      <td>VT</td>\n",
              "      <td>2035</td>\n",
              "      <td>2050.0</td>\n",
              "      <td>15.0</td>\n",
              "      <td>1.0</td>\n",
              "      <td>2256</td>\n",
              "      <td>2255.0</td>\n",
              "      <td>-1.0</td>\n",
              "      <td>0.0</td>\n",
              "      <td>0.0</td>\n",
              "      <td>0.0</td>\n",
              "      <td>141.0</td>\n",
              "      <td>125.0</td>\n",
              "      <td>1.0</td>\n",
              "      <td>761.0</td>\n",
              "    </tr>\n",
              "    <tr>\n",
              "      <th>1</th>\n",
              "      <td>2021</td>\n",
              "      <td>2</td>\n",
              "      <td>5</td>\n",
              "      <td>30</td>\n",
              "      <td>7</td>\n",
              "      <td>2021-05-30</td>\n",
              "      <td>OH</td>\n",
              "      <td>CLT</td>\n",
              "      <td>Charlotte, NC</td>\n",
              "      <td>NC</td>\n",
              "      <td>BTV</td>\n",
              "      <td>Burlington, VT</td>\n",
              "      <td>VT</td>\n",
              "      <td>2035</td>\n",
              "      <td>2030.0</td>\n",
              "      <td>-5.0</td>\n",
              "      <td>0.0</td>\n",
              "      <td>2256</td>\n",
              "      <td>2236.0</td>\n",
              "      <td>-20.0</td>\n",
              "      <td>0.0</td>\n",
              "      <td>0.0</td>\n",
              "      <td>0.0</td>\n",
              "      <td>141.0</td>\n",
              "      <td>126.0</td>\n",
              "      <td>1.0</td>\n",
              "      <td>761.0</td>\n",
              "    </tr>\n",
              "    <tr>\n",
              "      <th>2</th>\n",
              "      <td>2021</td>\n",
              "      <td>2</td>\n",
              "      <td>5</td>\n",
              "      <td>31</td>\n",
              "      <td>1</td>\n",
              "      <td>2021-05-31</td>\n",
              "      <td>OH</td>\n",
              "      <td>CLT</td>\n",
              "      <td>Charlotte, NC</td>\n",
              "      <td>NC</td>\n",
              "      <td>BTV</td>\n",
              "      <td>Burlington, VT</td>\n",
              "      <td>VT</td>\n",
              "      <td>2035</td>\n",
              "      <td>2025.0</td>\n",
              "      <td>-10.0</td>\n",
              "      <td>0.0</td>\n",
              "      <td>2256</td>\n",
              "      <td>2252.0</td>\n",
              "      <td>-4.0</td>\n",
              "      <td>0.0</td>\n",
              "      <td>0.0</td>\n",
              "      <td>0.0</td>\n",
              "      <td>141.0</td>\n",
              "      <td>147.0</td>\n",
              "      <td>1.0</td>\n",
              "      <td>761.0</td>\n",
              "    </tr>\n",
              "    <tr>\n",
              "      <th>3</th>\n",
              "      <td>2021</td>\n",
              "      <td>2</td>\n",
              "      <td>5</td>\n",
              "      <td>6</td>\n",
              "      <td>4</td>\n",
              "      <td>2021-05-06</td>\n",
              "      <td>OH</td>\n",
              "      <td>DAY</td>\n",
              "      <td>Dayton, OH</td>\n",
              "      <td>OH</td>\n",
              "      <td>DFW</td>\n",
              "      <td>Dallas/Fort Worth, TX</td>\n",
              "      <td>TX</td>\n",
              "      <td>1616</td>\n",
              "      <td>1612.0</td>\n",
              "      <td>-4.0</td>\n",
              "      <td>0.0</td>\n",
              "      <td>1802</td>\n",
              "      <td>1808.0</td>\n",
              "      <td>6.0</td>\n",
              "      <td>0.0</td>\n",
              "      <td>0.0</td>\n",
              "      <td>0.0</td>\n",
              "      <td>166.0</td>\n",
              "      <td>176.0</td>\n",
              "      <td>1.0</td>\n",
              "      <td>861.0</td>\n",
              "    </tr>\n",
              "    <tr>\n",
              "      <th>4</th>\n",
              "      <td>2021</td>\n",
              "      <td>2</td>\n",
              "      <td>5</td>\n",
              "      <td>7</td>\n",
              "      <td>5</td>\n",
              "      <td>2021-05-07</td>\n",
              "      <td>OH</td>\n",
              "      <td>DAY</td>\n",
              "      <td>Dayton, OH</td>\n",
              "      <td>OH</td>\n",
              "      <td>DFW</td>\n",
              "      <td>Dallas/Fort Worth, TX</td>\n",
              "      <td>TX</td>\n",
              "      <td>1616</td>\n",
              "      <td>1626.0</td>\n",
              "      <td>10.0</td>\n",
              "      <td>0.0</td>\n",
              "      <td>1802</td>\n",
              "      <td>1805.0</td>\n",
              "      <td>3.0</td>\n",
              "      <td>0.0</td>\n",
              "      <td>0.0</td>\n",
              "      <td>0.0</td>\n",
              "      <td>166.0</td>\n",
              "      <td>159.0</td>\n",
              "      <td>1.0</td>\n",
              "      <td>861.0</td>\n",
              "    </tr>\n",
              "  </tbody>\n",
              "</table>\n",
              "</div>"
            ],
            "text/plain": [
              "   YEAR  QUARTER  MONTH  ...  ACTUAL_ELAPSED_TIME  FLIGHTS DISTANCE\n",
              "0  2021        2      5  ...                125.0      1.0    761.0\n",
              "1  2021        2      5  ...                126.0      1.0    761.0\n",
              "2  2021        2      5  ...                147.0      1.0    761.0\n",
              "3  2021        2      5  ...                176.0      1.0    861.0\n",
              "4  2021        2      5  ...                159.0      1.0    861.0\n",
              "\n",
              "[5 rows x 27 columns]"
            ]
          },
          "execution_count": 59,
          "metadata": {},
          "output_type": "execute_result"
        }
      ]
    },
    {
      "cell_type": "code",
      "metadata": {
        "id": "hiHonC0sDKLb"
      },
      "source": [
        ""
      ],
      "execution_count": null,
      "outputs": []
    },
    {
      "cell_type": "code",
      "metadata": {
        "colab": {
          "base_uri": "https://localhost:8080/"
        },
        "id": "KRJGciTWkmrd",
        "outputId": "86dd3165-1623-4ad4-ab25-a0202df14939"
      },
      "source": [
        "# Carrier Distribution\n",
        "carrier_count = df_full.groupby(\"OP_UNIQUE_CARRIER\").size()\n",
        "carrier_count"
      ],
      "execution_count": null,
      "outputs": [
        {
          "data": {
            "text/plain": [
              "OP_UNIQUE_CARRIER\n",
              "9E     74374\n",
              "AA    204423\n",
              "AS     50340\n",
              "B6     56060\n",
              "DL    196999\n",
              "F9     37997\n",
              "G4     35618\n",
              "HA     16774\n",
              "MQ     69295\n",
              "NK     52633\n",
              "OH     62346\n",
              "OO    200044\n",
              "QX     32144\n",
              "UA    110162\n",
              "WN    289774\n",
              "YV     43102\n",
              "YX     92841\n",
              "dtype: int64"
            ]
          },
          "execution_count": 60,
          "metadata": {},
          "output_type": "execute_result"
        }
      ]
    },
    {
      "cell_type": "code",
      "metadata": {
        "colab": {
          "base_uri": "https://localhost:8080/",
          "height": 482
        },
        "id": "qLhynZ-KlE8h",
        "outputId": "7593bde2-5dfe-4f9d-ae7c-2c6b088e0d8c"
      },
      "source": [
        "plt.figure(figsize=(8,8))\n",
        "carrier_count.plot.pie(autopct=\"%.1f%%\")\n",
        "plt.title(\"Pie Chart of Flight Airline\")\n",
        "plt.show()"
      ],
      "execution_count": null,
      "outputs": [
        {
          "data": {
            "image/png": "[encoded data removed]",
            "text/plain": [
              "<Figure size 576x576 with 1 Axes>"
            ]
          },
          "metadata": {},
          "output_type": "display_data"
        }
      ]
    },
    {
      "cell_type": "code",
      "metadata": {
        "colab": {
          "base_uri": "https://localhost:8080/",
          "height": 309
        },
        "id": "E4ilz4xGmMkT",
        "outputId": "b736eeb7-2f79-4e29-82ce-72501942a6d0"
      },
      "source": [
        "df_full.head()"
      ],
      "execution_count": null,
      "outputs": [
        {
          "data": {
            "text/html": [
              "<div>\n",
              "<style scoped>\n",
              "    .dataframe tbody tr th:only-of-type {\n",
              "        vertical-align: middle;\n",
              "    }\n",
              "\n",
              "    .dataframe tbody tr th {\n",
              "        vertical-align: top;\n",
              "    }\n",
              "\n",
              "    .dataframe thead th {\n",
              "        text-align: right;\n",
              "    }\n",
              "</style>\n",
              "<table border=\"1\" class=\"dataframe\">\n",
              "  <thead>\n",
              "    <tr style=\"text-align: right;\">\n",
              "      <th></th>\n",
              "      <th>YEAR</th>\n",
              "      <th>QUARTER</th>\n",
              "      <th>MONTH</th>\n",
              "      <th>DAY_OF_MONTH</th>\n",
              "      <th>DAY_OF_WEEK</th>\n",
              "      <th>FL_DATE</th>\n",
              "      <th>OP_UNIQUE_CARRIER</th>\n",
              "      <th>ORIGIN</th>\n",
              "      <th>ORIGIN_CITY_NAME</th>\n",
              "      <th>ORIGIN_STATE_ABR</th>\n",
              "      <th>DEST</th>\n",
              "      <th>DEST_CITY_NAME</th>\n",
              "      <th>DEST_STATE_ABR</th>\n",
              "      <th>CRS_DEP_TIME</th>\n",
              "      <th>DEP_TIME</th>\n",
              "      <th>DEP_DELAY</th>\n",
              "      <th>DEP_DEL15</th>\n",
              "      <th>CRS_ARR_TIME</th>\n",
              "      <th>ARR_TIME</th>\n",
              "      <th>ARR_DELAY</th>\n",
              "      <th>ARR_DEL15</th>\n",
              "      <th>CANCELLED</th>\n",
              "      <th>DIVERTED</th>\n",
              "      <th>CRS_ELAPSED_TIME</th>\n",
              "      <th>ACTUAL_ELAPSED_TIME</th>\n",
              "      <th>FLIGHTS</th>\n",
              "      <th>DISTANCE</th>\n",
              "    </tr>\n",
              "  </thead>\n",
              "  <tbody>\n",
              "    <tr>\n",
              "      <th>0</th>\n",
              "      <td>2021</td>\n",
              "      <td>2</td>\n",
              "      <td>5</td>\n",
              "      <td>29</td>\n",
              "      <td>6</td>\n",
              "      <td>2021-05-29</td>\n",
              "      <td>OH</td>\n",
              "      <td>CLT</td>\n",
              "      <td>Charlotte, NC</td>\n",
              "      <td>NC</td>\n",
              "      <td>BTV</td>\n",
              "      <td>Burlington, VT</td>\n",
              "      <td>VT</td>\n",
              "      <td>2035</td>\n",
              "      <td>2050.0</td>\n",
              "      <td>15.0</td>\n",
              "      <td>1.0</td>\n",
              "      <td>2256</td>\n",
              "      <td>2255.0</td>\n",
              "      <td>-1.0</td>\n",
              "      <td>0.0</td>\n",
              "      <td>0.0</td>\n",
              "      <td>0.0</td>\n",
              "      <td>141.0</td>\n",
              "      <td>125.0</td>\n",
              "      <td>1.0</td>\n",
              "      <td>761.0</td>\n",
              "    </tr>\n",
              "    <tr>\n",
              "      <th>1</th>\n",
              "      <td>2021</td>\n",
              "      <td>2</td>\n",
              "      <td>5</td>\n",
              "      <td>30</td>\n",
              "      <td>7</td>\n",
              "      <td>2021-05-30</td>\n",
              "      <td>OH</td>\n",
              "      <td>CLT</td>\n",
              "      <td>Charlotte, NC</td>\n",
              "      <td>NC</td>\n",
              "      <td>BTV</td>\n",
              "      <td>Burlington, VT</td>\n",
              "      <td>VT</td>\n",
              "      <td>2035</td>\n",
              "      <td>2030.0</td>\n",
              "      <td>-5.0</td>\n",
              "      <td>0.0</td>\n",
              "      <td>2256</td>\n",
              "      <td>2236.0</td>\n",
              "      <td>-20.0</td>\n",
              "      <td>0.0</td>\n",
              "      <td>0.0</td>\n",
              "      <td>0.0</td>\n",
              "      <td>141.0</td>\n",
              "      <td>126.0</td>\n",
              "      <td>1.0</td>\n",
              "      <td>761.0</td>\n",
              "    </tr>\n",
              "    <tr>\n",
              "      <th>2</th>\n",
              "      <td>2021</td>\n",
              "      <td>2</td>\n",
              "      <td>5</td>\n",
              "      <td>31</td>\n",
              "      <td>1</td>\n",
              "      <td>2021-05-31</td>\n",
              "      <td>OH</td>\n",
              "      <td>CLT</td>\n",
              "      <td>Charlotte, NC</td>\n",
              "      <td>NC</td>\n",
              "      <td>BTV</td>\n",
              "      <td>Burlington, VT</td>\n",
              "      <td>VT</td>\n",
              "      <td>2035</td>\n",
              "      <td>2025.0</td>\n",
              "      <td>-10.0</td>\n",
              "      <td>0.0</td>\n",
              "      <td>2256</td>\n",
              "      <td>2252.0</td>\n",
              "      <td>-4.0</td>\n",
              "      <td>0.0</td>\n",
              "      <td>0.0</td>\n",
              "      <td>0.0</td>\n",
              "      <td>141.0</td>\n",
              "      <td>147.0</td>\n",
              "      <td>1.0</td>\n",
              "      <td>761.0</td>\n",
              "    </tr>\n",
              "    <tr>\n",
              "      <th>3</th>\n",
              "      <td>2021</td>\n",
              "      <td>2</td>\n",
              "      <td>5</td>\n",
              "      <td>6</td>\n",
              "      <td>4</td>\n",
              "      <td>2021-05-06</td>\n",
              "      <td>OH</td>\n",
              "      <td>DAY</td>\n",
              "      <td>Dayton, OH</td>\n",
              "      <td>OH</td>\n",
              "      <td>DFW</td>\n",
              "      <td>Dallas/Fort Worth, TX</td>\n",
              "      <td>TX</td>\n",
              "      <td>1616</td>\n",
              "      <td>1612.0</td>\n",
              "      <td>-4.0</td>\n",
              "      <td>0.0</td>\n",
              "      <td>1802</td>\n",
              "      <td>1808.0</td>\n",
              "      <td>6.0</td>\n",
              "      <td>0.0</td>\n",
              "      <td>0.0</td>\n",
              "      <td>0.0</td>\n",
              "      <td>166.0</td>\n",
              "      <td>176.0</td>\n",
              "      <td>1.0</td>\n",
              "      <td>861.0</td>\n",
              "    </tr>\n",
              "    <tr>\n",
              "      <th>4</th>\n",
              "      <td>2021</td>\n",
              "      <td>2</td>\n",
              "      <td>5</td>\n",
              "      <td>7</td>\n",
              "      <td>5</td>\n",
              "      <td>2021-05-07</td>\n",
              "      <td>OH</td>\n",
              "      <td>DAY</td>\n",
              "      <td>Dayton, OH</td>\n",
              "      <td>OH</td>\n",
              "      <td>DFW</td>\n",
              "      <td>Dallas/Fort Worth, TX</td>\n",
              "      <td>TX</td>\n",
              "      <td>1616</td>\n",
              "      <td>1626.0</td>\n",
              "      <td>10.0</td>\n",
              "      <td>0.0</td>\n",
              "      <td>1802</td>\n",
              "      <td>1805.0</td>\n",
              "      <td>3.0</td>\n",
              "      <td>0.0</td>\n",
              "      <td>0.0</td>\n",
              "      <td>0.0</td>\n",
              "      <td>166.0</td>\n",
              "      <td>159.0</td>\n",
              "      <td>1.0</td>\n",
              "      <td>861.0</td>\n",
              "    </tr>\n",
              "  </tbody>\n",
              "</table>\n",
              "</div>"
            ],
            "text/plain": [
              "   YEAR  QUARTER  MONTH  ...  ACTUAL_ELAPSED_TIME  FLIGHTS DISTANCE\n",
              "0  2021        2      5  ...                125.0      1.0    761.0\n",
              "1  2021        2      5  ...                126.0      1.0    761.0\n",
              "2  2021        2      5  ...                147.0      1.0    761.0\n",
              "3  2021        2      5  ...                176.0      1.0    861.0\n",
              "4  2021        2      5  ...                159.0      1.0    861.0\n",
              "\n",
              "[5 rows x 27 columns]"
            ]
          },
          "execution_count": 62,
          "metadata": {},
          "output_type": "execute_result"
        }
      ]
    },
    {
      "cell_type": "code",
      "metadata": {
        "colab": {
          "base_uri": "https://localhost:8080/",
          "height": 526
        },
        "id": "oJQNjmkllmq5",
        "outputId": "ec829f91-e071-4234-a27d-eb1204a1cf00"
      },
      "source": [
        "# Origin Distribution\n",
        "origin_airport = df_full.groupby(\"ORIGIN\").size()\n",
        "origin_airport = origin_airport.sort_values(ascending=False)[:20]\n",
        "plt.figure(figsize=(15,8))\n",
        "origin_airport.plot.bar()\n",
        "plt.title(\"Bar Chart of Top 20 Flight Origin Airport\")\n",
        "plt.show()"
      ],
      "execution_count": null,
      "outputs": [
        {
          "data": {
            "image/png": "[encoded data removed]",
            "text/plain": [
              "<Figure size 1080x576 with 1 Axes>"
            ]
          },
          "metadata": {},
          "output_type": "display_data"
        }
      ]
    },
    {
      "cell_type": "code",
      "metadata": {
        "colab": {
          "base_uri": "https://localhost:8080/",
          "height": 482
        },
        "id": "TtJJpqnSlq9A",
        "outputId": "1ef3282f-2370-4db0-81e0-c3a5a5d8fe6f"
      },
      "source": [
        "origin_state = df_full.groupby(\"ORIGIN_STATE_ABR\").size()\n",
        "plt.figure(figsize=(8,8))\n",
        "origin_state.plot.pie(autopct=\"%.1f%%\")\n",
        "plt.title(\"Pie Chart of Origin States\")\n",
        "plt.show()"
      ],
      "execution_count": 22,
      "outputs": [
        {
          "output_type": "display_data",
          "data": {
            "image/png": "[encoded data removed]",
            "text/plain": [
              "<Figure size 576x576 with 1 Axes>"
            ]
          },
          "metadata": {}
        }
      ]
    },
    {
      "cell_type": "code",
      "metadata": {
        "colab": {
          "base_uri": "https://localhost:8080/",
          "height": 509
        },
        "id": "w3Aug0LFpvm3",
        "outputId": "3dfafd1a-1c3b-491b-f9e8-e6ede9e7f6c0"
      },
      "source": [
        "month = df_full.groupby(\"MONTH\").size()\n",
        "month = month.sort_index()\n",
        "plt.figure(figsize=(15,8))\n",
        "month.plot.bar()\n",
        "plt.title(\"Bar Chart of Flight Amount in May, June, July\")\n",
        "plt.show()"
      ],
      "execution_count": null,
      "outputs": [
        {
          "data": {
            "image/png": "[encoded data removed]",
            "text/plain": [
              "<Figure size 1080x576 with 1 Axes>"
            ]
          },
          "metadata": {},
          "output_type": "display_data"
        }
      ]
    },
    {
      "cell_type": "code",
      "metadata": {
        "colab": {
          "base_uri": "https://localhost:8080/",
          "height": 510
        },
        "id": "f2jc-HZmqkJD",
        "outputId": "55d403d4-a485-401f-fec1-058d8bbe5c58"
      },
      "source": [
        "day_of_week = df_full.groupby(\"DAY_OF_WEEK\").size()\n",
        "day_of_week = day_of_week.sort_index()\n",
        "plt.figure(figsize=(15,8))\n",
        "day_of_week.plot.bar()\n",
        "plt.title(\"Bar Chart of Flight Amount in Days of Week\")\n",
        "plt.show()"
      ],
      "execution_count": null,
      "outputs": [
        {
          "data": {
            "image/png": "[encoded data removed]",
            "text/plain": [
              "<Figure size 1080x576 with 1 Axes>"
            ]
          },
          "metadata": {},
          "output_type": "display_data"
        }
      ]
    },
    {
      "cell_type": "code",
      "metadata": {
        "colab": {
          "base_uri": "https://localhost:8080/",
          "height": 516
        },
        "id": "VK5GYx0BwI9J",
        "outputId": "a5a937f9-b166-4f34-8ac7-49c37915eb97"
      },
      "source": [
        "day_of_month = df_full.groupby(\"DAY_OF_MONTH\").size()\n",
        "day_of_month = day_of_month.sort_index()\n",
        "plt.figure(figsize=(15,8))\n",
        "day_of_month.plot.bar()\n",
        "plt.title(\"Bar Chart of Flight Amount in Days of Month\")\n",
        "plt.show()"
      ],
      "execution_count": 19,
      "outputs": [
        {
          "output_type": "display_data",
          "data": {
            "image/png": "[encoded data removed]",
            "text/plain": [
              "<Figure size 1080x576 with 1 Axes>"
            ]
          },
          "metadata": {
            "needs_background": "light"
          }
        }
      ]
    },
    {
      "cell_type": "code",
      "metadata": {
        "id": "v80AQJBNj1gx"
      },
      "source": [
        "## Build the model"
      ],
      "execution_count": null,
      "outputs": []
    },
    {
      "cell_type": "code",
      "metadata": {
        "id": "N_UdACwLj46U"
      },
      "source": [
        "from sklearn.model_selection import train_test_split"
      ],
      "execution_count": null,
      "outputs": []
    },
    {
      "cell_type": "code",
      "metadata": {
        "id": "8_WLYsjNrQLB"
      },
      "source": [
        "train_x, test_x, train_y, test_y = train_test_split(df_num, df_full['DEP_DEL15'], test_size=0.2, random_state=42)"
      ],
      "execution_count": null,
      "outputs": []
    },
    {
      "cell_type": "code",
      "metadata": {
        "colab": {
          "base_uri": "https://localhost:8080/"
        },
        "id": "oVhiMZqqrzcu",
        "outputId": "e7aa9f57-2d18-4bf9-fa25-4fcb9900d78c"
      },
      "source": [
        "train_x.shape"
      ],
      "execution_count": null,
      "outputs": [
        {
          "data": {
            "text/plain": [
              "(1299940, 861)"
            ]
          },
          "execution_count": 70,
          "metadata": {},
          "output_type": "execute_result"
        }
      ]
    },
    {
      "cell_type": "code",
      "metadata": {
        "id": "WO9D4TGar8jb"
      },
      "source": [
        "from sklearn.ensemble import RandomForestClassifier\n",
        "model = RandomForestClassifier(random_state=29, n_estimators = 100)\n",
        "model.fit(train_x, train_y)"
      ],
      "execution_count": null,
      "outputs": []
    },
    {
      "cell_type": "code",
      "metadata": {
        "colab": {
          "base_uri": "https://localhost:8080/"
        },
        "id": "fRelLwk0D_YJ",
        "outputId": "bc8f98fb-c464-4312-ef4d-7c0edf8df505"
      },
      "source": [
        "df_weekday = df_full.groupby(\"DAY_OF_WEEK\")['DEP_DEL15'].sum()\n",
        "df_weekday"
      ],
      "execution_count": null,
      "outputs": [
        {
          "output_type": "execute_result",
          "data": {
            "text/plain": [
              "DAY_OF_WEEK\n",
              "1    53913.0\n",
              "2    43849.0\n",
              "3    41691.0\n",
              "4    49491.0\n",
              "5    53186.0\n",
              "6    50410.0\n",
              "7    50888.0\n",
              "Name: DEP_DEL15, dtype: float64"
            ]
          },
          "metadata": {},
          "execution_count": 9
        }
      ]
    },
    {
      "cell_type": "code",
      "metadata": {
        "colab": {
          "base_uri": "https://localhost:8080/",
          "height": 302
        },
        "id": "RKHB9vGdwZDs",
        "outputId": "e71e9dcb-8c33-4a57-8ec9-b88b68258a0b"
      },
      "source": [
        "df_month = df_full.groupby(\"DAY_OF_MONTH\")['DEP_DEL15'].mean()\n",
        "df_month.plot.bar()"
      ],
      "execution_count": 21,
      "outputs": [
        {
          "output_type": "execute_result",
          "data": {
            "text/plain": [
              "<matplotlib.axes._subplots.AxesSubplot at 0x7f670d6f5d90>"
            ]
          },
          "metadata": {},
          "execution_count": 21
        },
        {
          "output_type": "display_data",
          "data": {
            "image/png": "[encoded data removed]",
            "text/plain": [
              "<Figure size 432x288 with 1 Axes>"
            ]
          },
          "metadata": {
            "needs_background": "light"
          }
        }
      ]
    },
    {
      "cell_type": "code",
      "metadata": {
        "colab": {
          "base_uri": "https://localhost:8080/"
        },
        "id": "o9Pnn-rHTkoN",
        "outputId": "b2d932f9-1169-4804-aeb2-5878b840464f"
      },
      "source": [
        "avg_weekday_dep = df_full.groupby(\"DAY_OF_WEEK\")['ARR_DEL15'].mean()\n",
        "avg_weekday_dep"
      ],
      "execution_count": null,
      "outputs": [
        {
          "output_type": "execute_result",
          "data": {
            "text/plain": [
              "DAY_OF_WEEK\n",
              "1    0.234233\n",
              "2    0.203982\n",
              "3    0.183872\n",
              "4    0.209596\n",
              "5    0.220094\n",
              "6    0.206559\n",
              "7    0.211377\n",
              "Name: ARR_DEL15, dtype: float64"
            ]
          },
          "metadata": {},
          "execution_count": 26
        }
      ]
    },
    {
      "cell_type": "code",
      "metadata": {
        "colab": {
          "base_uri": "https://localhost:8080/"
        },
        "id": "Rpdq8tiSP053",
        "outputId": "5480739b-b7ed-4712-ca2b-4f7942967ca1"
      },
      "source": [
        "type(df_weekday)"
      ],
      "execution_count": null,
      "outputs": [
        {
          "output_type": "execute_result",
          "data": {
            "text/plain": [
              "pandas.core.series.Series"
            ]
          },
          "metadata": {},
          "execution_count": 10
        }
      ]
    },
    {
      "cell_type": "code",
      "metadata": {
        "colab": {
          "base_uri": "https://localhost:8080/",
          "height": 294
        },
        "id": "R1AAsHsuD_Lg",
        "outputId": "ef7e73e5-ab85-440f-a34e-fed9d4d1a04e"
      },
      "source": [
        "df_weekday.plot.bar()\n"
      ],
      "execution_count": null,
      "outputs": [
        {
          "output_type": "execute_result",
          "data": {
            "text/plain": [
              "<matplotlib.axes._subplots.AxesSubplot at 0x7fd3c3e80990>"
            ]
          },
          "metadata": {},
          "execution_count": 20
        },
        {
          "output_type": "display_data",
          "data": {
            "image/png": "[encoded data removed]",
            "text/plain": [
              "<Figure size 432x288 with 1 Axes>"
            ]
          },
          "metadata": {
            "needs_background": "light"
          }
        }
      ]
    },
    {
      "cell_type": "code",
      "metadata": {
        "colab": {
          "base_uri": "https://localhost:8080/",
          "height": 294
        },
        "id": "d2zTiAw8T3FM",
        "outputId": "c2945975-4081-4daa-a906-041448bf3ea9"
      },
      "source": [
        "avg_weekday_dep.plot.bar()"
      ],
      "execution_count": null,
      "outputs": [
        {
          "output_type": "execute_result",
          "data": {
            "text/plain": [
              "<matplotlib.axes._subplots.AxesSubplot at 0x7fd3c3be7e10>"
            ]
          },
          "metadata": {},
          "execution_count": 27
        },
        {
          "output_type": "display_data",
          "data": {
            "image/png": "[encoded data removed]",
            "text/plain": [
              "<Figure size 432x288 with 1 Axes>"
            ]
          },
          "metadata": {
            "needs_background": "light"
          }
        }
      ]
    },
    {
      "cell_type": "code",
      "metadata": {
        "colab": {
          "base_uri": "https://localhost:8080/"
        },
        "id": "TyNkgNhiTOC8",
        "outputId": "bad008a7-d4dd-4339-c320-b0f4deaefedb"
      },
      "source": [
        "sum_month = df_full.groupby(\"MONTH\")['DEP_DEL15'].sum()\n",
        "sum_month"
      ],
      "execution_count": null,
      "outputs": [
        {
          "output_type": "execute_result",
          "data": {
            "text/plain": [
              "MONTH\n",
              "5     68004.0\n",
              "6    129702.0\n",
              "7    145722.0\n",
              "Name: DEP_DEL15, dtype: float64"
            ]
          },
          "metadata": {},
          "execution_count": 21
        }
      ]
    },
    {
      "cell_type": "code",
      "metadata": {
        "colab": {
          "base_uri": "https://localhost:8080/"
        },
        "id": "VdX9zxFEUzUM",
        "outputId": "182135af-4be3-4624-f227-9492a4f16eb5"
      },
      "source": [
        "avg_month = df_full.groupby(\"MONTH\")['DEP_DEL15'].mean()\n",
        "avg_month"
      ],
      "execution_count": null,
      "outputs": [
        {
          "output_type": "execute_result",
          "data": {
            "text/plain": [
              "MONTH\n",
              "5    0.137836\n",
              "6    0.241286\n",
              "7    0.253685\n",
              "Name: DEP_DEL15, dtype: float64"
            ]
          },
          "metadata": {},
          "execution_count": 28
        }
      ]
    },
    {
      "cell_type": "code",
      "metadata": {
        "colab": {
          "base_uri": "https://localhost:8080/",
          "height": 293
        },
        "id": "ZE2FwvW6TY5o",
        "outputId": "9870aba5-eb98-4d97-d9ea-333623f1daba"
      },
      "source": [
        "sum_month.plot.bar()"
      ],
      "execution_count": null,
      "outputs": [
        {
          "output_type": "execute_result",
          "data": {
            "text/plain": [
              "<matplotlib.axes._subplots.AxesSubplot at 0x7fd3c3d3eb10>"
            ]
          },
          "metadata": {},
          "execution_count": 23
        },
        {
          "output_type": "display_data",
          "data": {
            "image/png": "[encoded data removed]",
            "text/plain": [
              "<Figure size 432x288 with 1 Axes>"
            ]
          },
          "metadata": {
            "needs_background": "light"
          }
        }
      ]
    },
    {
      "cell_type": "code",
      "metadata": {
        "colab": {
          "base_uri": "https://localhost:8080/",
          "height": 293
        },
        "id": "xJggZsAuU5jk",
        "outputId": "2bb5eb14-d7a6-4815-9104-09f54865dc87"
      },
      "source": [
        "avg_month.plot.bar()"
      ],
      "execution_count": null,
      "outputs": [
        {
          "output_type": "execute_result",
          "data": {
            "text/plain": [
              "<matplotlib.axes._subplots.AxesSubplot at 0x7fd3c3af2190>"
            ]
          },
          "metadata": {},
          "execution_count": 29
        },
        {
          "output_type": "display_data",
          "data": {
            "image/png": "[encoded data removed]",
            "text/plain": [
              "<Figure size 432x288 with 1 Axes>"
            ]
          },
          "metadata": {
            "needs_background": "light"
          }
        }
      ]
    },
    {
      "cell_type": "code",
      "metadata": {
        "id": "dGWksbGDWLec"
      },
      "source": [
        "df['DataFrame Column'] = df['DataFrame Column'].apply(str)"
      ],
      "execution_count": null,
      "outputs": []
    }
  ]
}