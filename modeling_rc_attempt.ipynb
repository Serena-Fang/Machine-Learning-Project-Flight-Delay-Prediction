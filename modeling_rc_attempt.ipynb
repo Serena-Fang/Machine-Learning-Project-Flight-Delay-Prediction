{
  "nbformat": 4,
  "nbformat_minor": 0,
  "metadata": {
    "colab": {
      "name": "modeling_rc_attempt.ipynb",
      "provenance": [],
      "collapsed_sections": [],
      "machine_shape": "hm"
    },
    "kernelspec": {
      "display_name": "Python 3",
      "name": "python3"
    },
    "language_info": {
      "name": "python"
    }
  },
  "cells": [
    {
      "cell_type": "code",
      "metadata": {
        "id": "yMCbPkZNW73k",
        "colab": {
          "base_uri": "https://localhost:8080/"
        },
        "outputId": "def910f7-2001-485a-b647-60d8ddc5c73a"
      },
      "source": [
        "from google.colab import drive\n",
        "drive.mount('/content/gdrive')"
      ],
      "execution_count": null,
      "outputs": [
        {
          "output_type": "stream",
          "name": "stdout",
          "text": [
            "Mounted at /content/gdrive\n"
          ]
        }
      ]
    },
    {
      "cell_type": "code",
      "metadata": {
        "colab": {
          "base_uri": "https://localhost:8080/"
        },
        "id": "xbd3UL07XPgs",
        "outputId": "e8f40c6e-d1b0-48c7-cd6b-abd326a6aba7"
      },
      "source": [
        "%cd gdrive/MyDrive/cs334/data/"
      ],
      "execution_count": null,
      "outputs": [
        {
          "output_type": "stream",
          "name": "stdout",
          "text": [
            "/content/gdrive/MyDrive/cs334/data\n"
          ]
        }
      ]
    },
    {
      "cell_type": "code",
      "metadata": {
        "colab": {
          "base_uri": "https://localhost:8080/"
        },
        "id": "4GnFOEYaC_em",
        "outputId": "6a5f3fd3-7e4a-4275-8a1b-92bcd25066ab"
      },
      "source": [
        "!ls"
      ],
      "execution_count": null,
      "outputs": [
        {
          "name": "stdout",
          "output_type": "stream",
          "text": [
            "july.csv  june.csv  may.csv  xTest.csv\txTrain.csv  yTest.csv  yTrain.csv\n"
          ]
        }
      ]
    },
    {
      "cell_type": "code",
      "metadata": {
        "id": "hChbKUmcXPHC"
      },
      "source": [
        "import pandas as pd\n",
        "import numpy as np\n",
        "import matplotlib.pyplot as plt"
      ],
      "execution_count": null,
      "outputs": []
    },
    {
      "cell_type": "code",
      "metadata": {
        "id": "vGf76rwEYaTH"
      },
      "source": [
        "xTrain = pd.read_csv('xTrain.csv')\n",
        "xTest = pd.read_csv('xTest.csv')\n",
        "yTrain = pd.read_csv('yTrain.csv')\n",
        "yTest = pd.read_csv('yTest.csv')"
      ],
      "execution_count": null,
      "outputs": []
    },
    {
      "cell_type": "code",
      "metadata": {
        "colab": {
          "base_uri": "https://localhost:8080/"
        },
        "id": "c5iyY3gP5u5h",
        "outputId": "ccd26a76-4d5f-43ef-a9b2-50aa0d9ad30a"
      },
      "source": [
        "%cd ../models"
      ],
      "execution_count": null,
      "outputs": [
        {
          "output_type": "stream",
          "name": "stdout",
          "text": [
            "/content/gdrive/MyDrive/cs334/models\n"
          ]
        }
      ]
    },
    {
      "cell_type": "code",
      "metadata": {
        "colab": {
          "base_uri": "https://localhost:8080/"
        },
        "id": "3hgKhXnN2z-s",
        "outputId": "050fa55d-6cbb-425c-afe6-6388fa62ca98"
      },
      "source": [
        "%cd ../data"
      ],
      "execution_count": null,
      "outputs": [
        {
          "output_type": "stream",
          "name": "stdout",
          "text": [
            "/content/gdrive/My Drive/cs334/data\n"
          ]
        }
      ]
    },
    {
      "cell_type": "code",
      "metadata": {
        "id": "QAqdsbThuKXl"
      },
      "source": [
        "# when read, these become int again, thus need mapping\n",
        "xTrain['DAY_OF_MONTH'] = xTrain['DAY_OF_MONTH'].map(lambda x: str(x))\n",
        "xTrain['DAY_OF_WEEK'] = xTrain['DAY_OF_WEEK'].map(lambda x: str(x))\n",
        "xTest['DAY_OF_MONTH'] = xTest['DAY_OF_MONTH'].map(lambda x: str(x))\n",
        "xTest['DAY_OF_WEEK'] = xTest['DAY_OF_WEEK'].map(lambda x: str(x))"
      ],
      "execution_count": null,
      "outputs": []
    },
    {
      "cell_type": "code",
      "metadata": {
        "colab": {
          "base_uri": "https://localhost:8080/"
        },
        "id": "3mB_g5YanHdp",
        "outputId": "77c3734b-4d1f-4479-bd40-480bf3d5c48e"
      },
      "source": [
        "!pip install category_encoders"
      ],
      "execution_count": null,
      "outputs": [
        {
          "output_type": "stream",
          "name": "stdout",
          "text": [
            "Collecting category_encoders\n",
            "  Downloading category_encoders-2.3.0-py2.py3-none-any.whl (82 kB)\n",
            "\u001b[?25l\r\u001b[K     |████                            | 10 kB 21.1 MB/s eta 0:00:01\r\u001b[K     |████████                        | 20 kB 9.9 MB/s eta 0:00:01\r\u001b[K     |████████████                    | 30 kB 6.7 MB/s eta 0:00:01\r\u001b[K     |████████████████                | 40 kB 3.6 MB/s eta 0:00:01\r\u001b[K     |████████████████████            | 51 kB 4.1 MB/s eta 0:00:01\r\u001b[K     |████████████████████████        | 61 kB 4.3 MB/s eta 0:00:01\r\u001b[K     |████████████████████████████    | 71 kB 4.3 MB/s eta 0:00:01\r\u001b[K     |███████████████████████████████▉| 81 kB 4.9 MB/s eta 0:00:01\r\u001b[K     |████████████████████████████████| 82 kB 310 kB/s \n",
            "\u001b[?25hRequirement already satisfied: statsmodels>=0.9.0 in /usr/local/lib/python3.7/dist-packages (from category_encoders) (0.10.2)\n",
            "Requirement already satisfied: scipy>=1.0.0 in /usr/local/lib/python3.7/dist-packages (from category_encoders) (1.4.1)\n",
            "Requirement already satisfied: numpy>=1.14.0 in /usr/local/lib/python3.7/dist-packages (from category_encoders) (1.19.5)\n",
            "Requirement already satisfied: scikit-learn>=0.20.0 in /usr/local/lib/python3.7/dist-packages (from category_encoders) (1.0.1)\n",
            "Requirement already satisfied: pandas>=0.21.1 in /usr/local/lib/python3.7/dist-packages (from category_encoders) (1.1.5)\n",
            "Requirement already satisfied: patsy>=0.5.1 in /usr/local/lib/python3.7/dist-packages (from category_encoders) (0.5.2)\n",
            "Requirement already satisfied: pytz>=2017.2 in /usr/local/lib/python3.7/dist-packages (from pandas>=0.21.1->category_encoders) (2018.9)\n",
            "Requirement already satisfied: python-dateutil>=2.7.3 in /usr/local/lib/python3.7/dist-packages (from pandas>=0.21.1->category_encoders) (2.8.2)\n",
            "Requirement already satisfied: six in /usr/local/lib/python3.7/dist-packages (from patsy>=0.5.1->category_encoders) (1.15.0)\n",
            "Requirement already satisfied: joblib>=0.11 in /usr/local/lib/python3.7/dist-packages (from scikit-learn>=0.20.0->category_encoders) (1.1.0)\n",
            "Requirement already satisfied: threadpoolctl>=2.0.0 in /usr/local/lib/python3.7/dist-packages (from scikit-learn>=0.20.0->category_encoders) (3.0.0)\n",
            "Installing collected packages: category-encoders\n",
            "Successfully installed category-encoders-2.3.0\n"
          ]
        }
      ]
    },
    {
      "cell_type": "code",
      "metadata": {
        "colab": {
          "base_uri": "https://localhost:8080/"
        },
        "id": "v3KDyQ1dLRbl",
        "outputId": "198bd3d7-1d78-44cf-980f-83871f8299c2"
      },
      "source": [
        "!pip install tune-sklearn ray[tune]"
      ],
      "execution_count": null,
      "outputs": [
        {
          "output_type": "stream",
          "name": "stdout",
          "text": [
            "Collecting tune-sklearn\n",
            "  Downloading tune_sklearn-0.4.1-py3-none-any.whl (40 kB)\n",
            "\u001b[K     |████████████████████████████████| 40 kB 3.2 MB/s \n",
            "\u001b[?25hCollecting ray[tune]\n",
            "  Downloading ray-1.8.0-cp37-cp37m-manylinux2014_x86_64.whl (54.7 MB)\n",
            "\u001b[K     |████████████████████████████████| 54.7 MB 157 kB/s \n",
            "\u001b[?25hRequirement already satisfied: numpy>=1.16 in /usr/local/lib/python3.7/dist-packages (from tune-sklearn) (1.19.5)\n",
            "Requirement already satisfied: scipy in /usr/local/lib/python3.7/dist-packages (from tune-sklearn) (1.4.1)\n",
            "Requirement already satisfied: scikit-learn in /usr/local/lib/python3.7/dist-packages (from tune-sklearn) (1.0.1)\n",
            "Requirement already satisfied: msgpack<2.0.0,>=1.0.0 in /usr/local/lib/python3.7/dist-packages (from ray[tune]) (1.0.2)\n",
            "Collecting redis>=3.5.0\n",
            "  Downloading redis-4.0.2-py3-none-any.whl (119 kB)\n",
            "\u001b[K     |████████████████████████████████| 119 kB 57.2 MB/s \n",
            "\u001b[?25hRequirement already satisfied: click>=7.0 in /usr/local/lib/python3.7/dist-packages (from ray[tune]) (7.1.2)\n",
            "Requirement already satisfied: filelock in /usr/local/lib/python3.7/dist-packages (from ray[tune]) (3.4.0)\n",
            "Requirement already satisfied: protobuf>=3.15.3 in /usr/local/lib/python3.7/dist-packages (from ray[tune]) (3.17.3)\n",
            "Requirement already satisfied: grpcio>=1.28.1 in /usr/local/lib/python3.7/dist-packages (from ray[tune]) (1.42.0)\n",
            "Requirement already satisfied: attrs in /usr/local/lib/python3.7/dist-packages (from ray[tune]) (21.2.0)\n",
            "Requirement already satisfied: pyyaml in /usr/local/lib/python3.7/dist-packages (from ray[tune]) (3.13)\n",
            "Requirement already satisfied: jsonschema in /usr/local/lib/python3.7/dist-packages (from ray[tune]) (2.6.0)\n",
            "Requirement already satisfied: tabulate in /usr/local/lib/python3.7/dist-packages (from ray[tune]) (0.8.9)\n",
            "Collecting tensorboardX>=1.9\n",
            "  Downloading tensorboardX-2.4.1-py2.py3-none-any.whl (124 kB)\n",
            "\u001b[K     |████████████████████████████████| 124 kB 67.8 MB/s \n",
            "\u001b[?25hRequirement already satisfied: requests in /usr/local/lib/python3.7/dist-packages (from ray[tune]) (2.23.0)\n",
            "Requirement already satisfied: pandas in /usr/local/lib/python3.7/dist-packages (from ray[tune]) (1.1.5)\n",
            "Requirement already satisfied: six>=1.5.2 in /usr/local/lib/python3.7/dist-packages (from grpcio>=1.28.1->ray[tune]) (1.15.0)\n",
            "Collecting deprecated\n",
            "  Downloading Deprecated-1.2.13-py2.py3-none-any.whl (9.6 kB)\n",
            "Requirement already satisfied: wrapt<2,>=1.10 in /usr/local/lib/python3.7/dist-packages (from deprecated->redis>=3.5.0->ray[tune]) (1.13.3)\n",
            "Requirement already satisfied: python-dateutil>=2.7.3 in /usr/local/lib/python3.7/dist-packages (from pandas->ray[tune]) (2.8.2)\n",
            "Requirement already satisfied: pytz>=2017.2 in /usr/local/lib/python3.7/dist-packages (from pandas->ray[tune]) (2018.9)\n",
            "Requirement already satisfied: chardet<4,>=3.0.2 in /usr/local/lib/python3.7/dist-packages (from requests->ray[tune]) (3.0.4)\n",
            "Requirement already satisfied: idna<3,>=2.5 in /usr/local/lib/python3.7/dist-packages (from requests->ray[tune]) (2.10)\n",
            "Requirement already satisfied: certifi>=2017.4.17 in /usr/local/lib/python3.7/dist-packages (from requests->ray[tune]) (2021.10.8)\n",
            "Requirement already satisfied: urllib3!=1.25.0,!=1.25.1,<1.26,>=1.21.1 in /usr/local/lib/python3.7/dist-packages (from requests->ray[tune]) (1.24.3)\n",
            "Requirement already satisfied: threadpoolctl>=2.0.0 in /usr/local/lib/python3.7/dist-packages (from scikit-learn->tune-sklearn) (3.0.0)\n",
            "Requirement already satisfied: joblib>=0.11 in /usr/local/lib/python3.7/dist-packages (from scikit-learn->tune-sklearn) (1.1.0)\n",
            "Installing collected packages: deprecated, redis, tensorboardX, ray, tune-sklearn\n",
            "Successfully installed deprecated-1.2.13 ray-1.8.0 redis-4.0.2 tensorboardX-2.4.1 tune-sklearn-0.4.1\n"
          ]
        }
      ]
    },
    {
      "cell_type": "code",
      "metadata": {
        "id": "kJko1pU3YnXH"
      },
      "source": [
        "# attempt with pipeline\n",
        "from sklearn.pipeline import Pipeline\n",
        "from sklearn.pipeline import make_pipeline\n",
        "from sklearn.preprocessing import StandardScaler\n",
        "from category_encoders.m_estimate import MEstimateEncoder\n",
        "from sklearn.linear_model import LogisticRegression\n",
        "from sklearn.tree import DecisionTreeClassifier\n",
        "from sklearn.model_selection import GridSearchCV, RandomizedSearchCV\n",
        "from sklearn.linear_model import LinearRegression\n",
        "from sklearn.svm import SVC\n",
        "from sklearn.metrics import f1_score, accuracy_score, fbeta_score, plot_roc_curve, make_scorer, precision_score, recall_score\n",
        "from sklearn.ensemble import RandomForestClassifier\n",
        "from sklearn.utils import resample\n",
        "from sklearn.neighbors import KNeighborsClassifier\n",
        "import scipy \n",
        "from ray import tune\n",
        "from tune_sklearn import TuneSearchCV"
      ],
      "execution_count": null,
      "outputs": []
    },
    {
      "cell_type": "code",
      "metadata": {
        "id": "47rrnvJQE_tg"
      },
      "source": [
        "# up down sample\n",
        "xTrain1 = xTrain[yTrain['DEP_DEL15'] == 1]\n",
        "xTrain0 = xTrain[yTrain['DEP_DEL15'] == 0]\n",
        "yTrain1 = yTrain[yTrain['DEP_DEL15'] == 1]\n",
        "yTrain0 = yTrain[yTrain['DEP_DEL15'] == 0]\n",
        "xTrain1_up32, yTrain1_up32 = resample(xTrain1, yTrain1, n_samples=xTrain0.shape[0]*2//3, random_state=42)\n",
        "xTrain_up32 = pd.concat([xTrain1_up32, xTrain0])\n",
        "yTrain_up32 = pd.concat([yTrain1_up32, yTrain0])\n",
        "xTrain0_down, yTrain0_down = resample(xTrain0, yTrain0, n_samples=xTrain1.shape[0], random_state=42)\n",
        "xTrain_down = pd.concat([xTrain0_down, xTrain1])\n",
        "yTrain_down = pd.concat([yTrain0_down, yTrain1])"
      ],
      "execution_count": null,
      "outputs": []
    },
    {
      "cell_type": "code",
      "metadata": {
        "colab": {
          "base_uri": "https://localhost:8080/"
        },
        "id": "L0LH5R0cGSF_",
        "outputId": "fc68e46c-bb74-459d-ae0a-3bc54ef6e447"
      },
      "source": [
        "yTrain_up['DEP_DEL15'].value_counts()"
      ],
      "execution_count": null,
      "outputs": [
        {
          "data": {
            "text/plain": [
              "1.0    843165\n",
              "0.0    843165\n",
              "Name: DEP_DEL15, dtype: int64"
            ]
          },
          "execution_count": 16,
          "metadata": {},
          "output_type": "execute_result"
        }
      ]
    },
    {
      "cell_type": "code",
      "metadata": {
        "colab": {
          "base_uri": "https://localhost:8080/"
        },
        "id": "5b2I54fRYpp9",
        "outputId": "7dd60176-e2cb-4458-b77d-22fae7454aa3"
      },
      "source": [
        "# create pipeline\n",
        "# check https://scikit-learn.org/stable/modules/compose.html nested params\n",
        "estimators = [('me', MEstimateEncoder()), ('ss', StandardScaler()), ('clf', RandomForestClassifier(random_state=42))]\n",
        "pipe = Pipeline(estimators)\n",
        "pipe"
      ],
      "execution_count": null,
      "outputs": [
        {
          "data": {
            "text/plain": [
              "Pipeline(steps=[('me', MEstimateEncoder()), ('ss', StandardScaler()),\n",
              "                ('clf', RandomForestClassifier(random_state=42))])"
            ]
          },
          "execution_count": 22,
          "metadata": {},
          "output_type": "execute_result"
        }
      ]
    },
    {
      "cell_type": "code",
      "metadata": {
        "id": "UHSRqk6pz-FU"
      },
      "source": [
        "# cheat test for what model might be better\n",
        "with joblib.parallel_backend('ray'):\n",
        "  pipe.fit(xTrain_up, yTrain_up['DEP_DEL15'])"
      ],
      "execution_count": null,
      "outputs": []
    },
    {
      "cell_type": "code",
      "metadata": {
        "id": "u-GM6DHnCKeE"
      },
      "source": [
        "print(fbeta_score(yTest['DEP_DEL15'], pipe.predict(xTest), beta=2))\n",
        "print(accuracy_score(yTest['DEP_DEL15'], pipe.predict(xTest)))"
      ],
      "execution_count": null,
      "outputs": []
    },
    {
      "cell_type": "code",
      "metadata": {
        "id": "byUYuqGpHWZT"
      },
      "source": [
        "plot_roc_curve(pipe, xTest, yTest['DEP_DEL15'])"
      ],
      "execution_count": null,
      "outputs": []
    },
    {
      "cell_type": "code",
      "metadata": {
        "id": "J3n_q0hRZAtD"
      },
      "source": [
        "# set parameters grid, could also use RandomizedSearchCV (probably better even)\n",
        "param_dists = {\n",
        "    'me__m': tune.uniform(1,100),\n",
        "    # 'clf__C': tune.loguniform(1e-3, 1),\n",
        "    # 'clf__solver': tune.choice(['lbfgs', 'saga', 'newton-cg']),\n",
        "    # 'clf__warm_start': tune.choice([True, False]),\n",
        "    # 'clf__max_iter': tune.uniform(100,500)\n",
        "    # 'clf__n_neighbors': tune.randint(5,500),\n",
        "    'clf__n_estimators': tune.randint(0,120),\n",
        "    'clf__criterion': tune.choice(['gini', 'entropy']),\n",
        "    'clf__max_depth': tune.choice([None, tune.randint(2,50)]),\n",
        "    'clf__min_samples_leaf': tune.randint(1,1000),\n",
        "    'clf__max_samples': tune.choice([None, 0.9, 0.8, 0.7]),\n",
        "    # 'clf__max_features': tune.choice([None, 0.9, 0.8, 0.7]),\n",
        "    # 'clf__alpha': tune.loguniform(1e-3, 1e2),\n",
        "}\n",
        "scoring = {\n",
        "    'f1': 'f1',\n",
        "    'f2': make_scorer(fbeta_score, beta=2),\n",
        "    'accuracy': 'accuracy'\n",
        "}"
      ],
      "execution_count": null,
      "outputs": []
    },
    {
      "cell_type": "code",
      "metadata": {
        "id": "-TDzOHqxOnNp"
      },
      "source": [
        "clf = TuneSearchCV(pipe,\n",
        "                   param_distributions=param_dists,\n",
        "                   search_optimization=\"random\",\n",
        "                   scoring=scoring,\n",
        "                   refit='f2'\n",
        "                   )"
      ],
      "execution_count": null,
      "outputs": []
    },
    {
      "cell_type": "code",
      "metadata": {
        "colab": {
          "background_save": true,
          "base_uri": "https://localhost:8080/"
        },
        "id": "wHZhfrlcPbig",
        "outputId": "8ec52891-d7ad-4f19-b8b5-ae257b15b078"
      },
      "source": [
        "clf.fit(xTrain_up32, yTrain_up32['DEP_DEL15'])"
      ],
      "execution_count": null,
      "outputs": [
        {
          "name": "stderr",
          "output_type": "stream",
          "text": [
            "/usr/local/lib/python3.7/dist-packages/ray/tune/tune.py:369: UserWarning:\n",
            "\n",
            "The `loggers` argument is deprecated. Please pass the respective `LoggerCallback` classes to the `callbacks` argument instead. See https://docs.ray.io/en/latest/tune/api_docs/logging.html\n",
            "\n",
            "\u001b[2m\u001b[36m(pid=21196)\u001b[0m /usr/local/lib/python3.7/dist-packages/statsmodels/tools/_testing.py:19: FutureWarning:\n",
            "\u001b[2m\u001b[36m(pid=21196)\u001b[0m \n",
            "\u001b[2m\u001b[36m(pid=21196)\u001b[0m pandas.util.testing is deprecated. Use the functions in the public API at pandas.testing instead.\n",
            "\u001b[2m\u001b[36m(pid=21196)\u001b[0m \n",
            "\u001b[2m\u001b[36m(pid=21197)\u001b[0m /usr/local/lib/python3.7/dist-packages/statsmodels/tools/_testing.py:19: FutureWarning:\n",
            "\u001b[2m\u001b[36m(pid=21197)\u001b[0m \n",
            "\u001b[2m\u001b[36m(pid=21197)\u001b[0m pandas.util.testing is deprecated. Use the functions in the public API at pandas.testing instead.\n",
            "\u001b[2m\u001b[36m(pid=21197)\u001b[0m \n",
            "\u001b[2m\u001b[36m(pid=21194)\u001b[0m /usr/local/lib/python3.7/dist-packages/statsmodels/tools/_testing.py:19: FutureWarning:\n",
            "\u001b[2m\u001b[36m(pid=21194)\u001b[0m \n",
            "\u001b[2m\u001b[36m(pid=21194)\u001b[0m pandas.util.testing is deprecated. Use the functions in the public API at pandas.testing instead.\n",
            "\u001b[2m\u001b[36m(pid=21194)\u001b[0m \n",
            "\u001b[2m\u001b[36m(pid=21198)\u001b[0m /usr/local/lib/python3.7/dist-packages/statsmodels/tools/_testing.py:19: FutureWarning:\n",
            "\u001b[2m\u001b[36m(pid=21198)\u001b[0m \n",
            "\u001b[2m\u001b[36m(pid=21198)\u001b[0m pandas.util.testing is deprecated. Use the functions in the public API at pandas.testing instead.\n",
            "\u001b[2m\u001b[36m(pid=21198)\u001b[0m \n",
            "The `reset` operation took 0.855 s, which may be a performance bottleneck.\n",
            "The `start_trial` operation took 0.872 s, which may be a performance bottleneck.\n",
            "The `reset` operation took 0.835 s, which may be a performance bottleneck.\n",
            "The `start_trial` operation took 0.853 s, which may be a performance bottleneck.\n",
            "The `reset` operation took 0.832 s, which may be a performance bottleneck.\n",
            "The `start_trial` operation took 0.851 s, which may be a performance bottleneck.\n",
            "The `reset` operation took 0.948 s, which may be a performance bottleneck.\n",
            "The `start_trial` operation took 0.972 s, which may be a performance bottleneck.\n",
            "The `reset` operation took 0.859 s, which may be a performance bottleneck.\n",
            "The `start_trial` operation took 0.881 s, which may be a performance bottleneck.\n",
            "The `reset` operation took 0.784 s, which may be a performance bottleneck.\n",
            "The `start_trial` operation took 0.805 s, which may be a performance bottleneck.\n"
          ]
        },
        {
          "data": {
            "text/plain": [
              "TuneSearchCV(estimator=Pipeline(steps=[('me', MEstimateEncoder()),\n",
              "                                       ('ss', StandardScaler()),\n",
              "                                       ('clf',\n",
              "                                        RandomForestClassifier(random_state=42))]),\n",
              "             loggers=[<class 'ray.tune.logger.CSVLogger'>,\n",
              "                      <class 'ray.tune.logger.JsonLogger'>],\n",
              "             mode='max', n_jobs=-1,\n",
              "             param_distributions={'clf__criterion': <ray.tune.sample.Categorical object at 0x7f5601fdd690>,\n",
              "                                  'clf__max_depth': <r...\n",
              "                                  'clf__max_samples': <ray.tune.sample.Categorical object at 0x7f56016cb390>,\n",
              "                                  'clf__min_samples_leaf': <ray.tune.sample.Integer object at 0x7f56016cb490>,\n",
              "                                  'clf__n_estimators': <ray.tune.sample.Integer object at 0x7f5601fdded0>,\n",
              "                                  'me__m': <ray.tune.sample.Float object at 0x7f5601fdd150>},\n",
              "             refit='f2',\n",
              "             scoring={'accuracy': make_scorer(accuracy_score),\n",
              "                      'f1': make_scorer(f1_score, average=binary),\n",
              "                      'f2': make_scorer(fbeta_score, beta=2)},\n",
              "             sk_n_jobs=1)"
            ]
          },
          "execution_count": null,
          "metadata": {},
          "output_type": "execute_result"
        }
      ]
    },
    {
      "cell_type": "code",
      "metadata": {
        "colab": {
          "background_save": true
        },
        "id": "13zFueThSQDm",
        "outputId": "18e88549-56d4-43ab-ab37-728615e33a6a"
      },
      "source": [
        "clf.best_params_"
      ],
      "execution_count": null,
      "outputs": [
        {
          "data": {
            "text/plain": [
              "{'clf__criterion': 'gini',\n",
              " 'clf__max_depth': 16,\n",
              " 'clf__max_samples': None,\n",
              " 'clf__min_samples_leaf': 88,\n",
              " 'clf__n_estimators': 47,\n",
              " 'me__m': 20.562544229314856}"
            ]
          },
          "execution_count": null,
          "metadata": {},
          "output_type": "execute_result"
        }
      ]
    },
    {
      "cell_type": "code",
      "metadata": {
        "colab": {
          "background_save": true
        },
        "id": "kCO6FgvdSojc",
        "outputId": "913da8aa-5a48-4d3a-f4dc-85c405b7e1d2"
      },
      "source": [
        "clf.best_score_"
      ],
      "execution_count": null,
      "outputs": [
        {
          "data": {
            "text/plain": [
              "0.5196900044247466"
            ]
          },
          "execution_count": null,
          "metadata": {},
          "output_type": "execute_result"
        }
      ]
    },
    {
      "cell_type": "code",
      "metadata": {
        "colab": {
          "background_save": true
        },
        "id": "Vkta_HPETK9A",
        "outputId": "a4188e4e-11f3-4f08-fe08-20a88f3b9c18"
      },
      "source": [
        "clf.score(xTrain, yTrain['DEP_DEL15'])"
      ],
      "execution_count": null,
      "outputs": [
        {
          "data": {
            "text/plain": [
              "0.4957013232647092"
            ]
          },
          "execution_count": null,
          "metadata": {},
          "output_type": "execute_result"
        }
      ]
    },
    {
      "cell_type": "code",
      "metadata": {
        "id": "Ja3-rK0KTjaL",
        "colab": {
          "base_uri": "https://localhost:8080/",
          "height": 418
        },
        "outputId": "13da9ca7-f693-459f-864f-740a39009679"
      },
      "source": [
        "yHat = clf.predict(xTest)\n",
        "print(fbeta_score(yTest['DEP_DEL15'], yHat, beta=2))\n",
        "print(accuracy_score(yTest['DEP_DEL15'], yHat))\n",
        "print(precision_score(yTest['DEP_DEL15'], yHat))\n",
        "print(recall_score(yTest['DEP_DEL15'], yHat))\n",
        "plot_roc_curve(clf, xTest, yTest['DEP_DEL15'])"
      ],
      "execution_count": null,
      "outputs": [
        {
          "output_type": "stream",
          "name": "stdout",
          "text": [
            "0.5554799036157384\n",
            "0.7540414260379246\n",
            "0.44375385554236285\n",
            "0.592792457511475\n"
          ]
        },
        {
          "output_type": "stream",
          "name": "stderr",
          "text": [
            "/usr/local/lib/python3.7/dist-packages/sklearn/utils/deprecation.py:87: FutureWarning: Function plot_roc_curve is deprecated; Function `plot_roc_curve` is deprecated in 1.0 and will be removed in 1.2. Use one of the class methods: RocCurveDisplay.from_predictions or RocCurveDisplay.from_estimator.\n",
            "  warnings.warn(msg, category=FutureWarning)\n"
          ]
        },
        {
          "output_type": "execute_result",
          "data": {
            "text/plain": [
              "<sklearn.metrics._plot.roc_curve.RocCurveDisplay at 0x7f63c8e89cd0>"
            ]
          },
          "metadata": {},
          "execution_count": 37
        },
        {
          "output_type": "display_data",
          "data": {
            "image/png": "[encoded data removed]",
            "text/plain": [
              "<Figure size 432x288 with 1 Axes>"
            ]
          },
          "metadata": {
            "needs_background": "light"
          }
        }
      ]
    },
    {
      "cell_type": "code",
      "metadata": {
        "colab": {
          "base_uri": "https://localhost:8080/"
        },
        "id": "nIK-FOv0Tjdb",
        "outputId": "f55bcd99-627f-453b-b161-99b9f3846fe4"
      },
      "source": [
        "dump(clf, 'rf_up_2thirds_cv_need_check.joblib')\n",
        "# dump(clf, 'rf_up_2thirds_cv_best_f2_057_test_f2_048_accuracy_075.joblib')"
      ],
      "execution_count": null,
      "outputs": [
        {
          "data": {
            "text/plain": [
              "['rf_up_2thirds_cv_best_f2_057_test_f2_048_accuracy_075.joblib']"
            ]
          },
          "execution_count": 21,
          "metadata": {},
          "output_type": "execute_result"
        }
      ]
    },
    {
      "cell_type": "code",
      "metadata": {
        "id": "w1xH3tc2Tjgq"
      },
      "source": [
        "clf = load('rf_up_cv_best_f2_077_test_f2_056_accuracy_075.joblib')"
      ],
      "execution_count": null,
      "outputs": []
    },
    {
      "cell_type": "code",
      "metadata": {
        "id": "h6iNxityTjkR",
        "colab": {
          "base_uri": "https://localhost:8080/"
        },
        "outputId": "1e6dba71-4f13-4d0c-ed62-3c53137e1fd6"
      },
      "source": [
        "clf.__dict__"
      ],
      "execution_count": null,
      "outputs": [
        {
          "output_type": "execute_result",
          "data": {
            "text/plain": [
              "{'_base_metric_name': 'f2',\n",
              " '_metric_name': 'average_test_f2',\n",
              " 'base_estimator': RandomForestClassifier(random_state=42),\n",
              " 'best_estimator': Pipeline(steps=[('me',\n",
              "                  MEstimateEncoder(cols=['DAY_OF_MONTH', 'DAY_OF_WEEK',\n",
              "                                         'OP_UNIQUE_CARRIER', 'ORIGIN',\n",
              "                                         'ORIGIN_STATE_ABR', 'DEST',\n",
              "                                         'DEST_STATE_ABR'],\n",
              "                                   m=88.20815624166465)),\n",
              "                 ('ss', StandardScaler()),\n",
              "                 ('clf',\n",
              "                  RandomForestClassifier(criterion='entropy',\n",
              "                                         min_samples_leaf=15, n_estimators=84,\n",
              "                                         random_state=42, warm_start=True))]),\n",
              " 'best_index': 1,\n",
              " 'best_params': {'clf__criterion': 'entropy',\n",
              "  'clf__max_samples': None,\n",
              "  'clf__min_samples_leaf': 15,\n",
              "  'clf__n_estimators': 84,\n",
              "  'clf__warm_start': True,\n",
              "  'me__m': 88.20815624166465},\n",
              " 'best_score': 0.7734454595154787,\n",
              " 'cv': None,\n",
              " 'cv_results_': {'mean_test_accuracy': array([0.67273191, 0.77886831, 0.68540262, 0.72720701, 0.73033155,\n",
              "         0.7213173 , 0.67951469, 0.67814663, 0.68245005, 0.67493492]),\n",
              "  'mean_test_f1': array([0.66050377, 0.77711823, 0.67426369, 0.71957694, 0.72296722,\n",
              "         0.71286278, 0.6679246 , 0.66621543, 0.67105015, 0.66292794]),\n",
              "  'mean_test_f2': array([0.64602163, 0.77344546, 0.66023835, 0.70770038, 0.71131254,\n",
              "         0.70011936, 0.6537407 , 0.6517206 , 0.65690198, 0.64855454]),\n",
              "  'param_clf__criterion': masked_array(data=['entropy', 'entropy', 'gini', 'entropy', 'gini',\n",
              "                     'gini', 'entropy', 'gini', 'entropy', 'gini'],\n",
              "               mask=[False, False, False, False, False, False, False, False,\n",
              "                     False, False],\n",
              "         fill_value='?',\n",
              "              dtype=object),\n",
              "  'param_clf__max_samples': masked_array(data=[None, None, 0.7, 0.7, 0.7, 0.8, None, 0.7, 0.8, None],\n",
              "               mask=[False, False, False, False, False, False, False, False,\n",
              "                     False, False],\n",
              "         fill_value='?',\n",
              "              dtype=object),\n",
              "  'param_clf__min_samples_leaf': masked_array(data=[842, 15, 235, 35, 32, 46, 470, 410, 318, 660],\n",
              "               mask=[False, False, False, False, False, False, False, False,\n",
              "                     False, False],\n",
              "         fill_value='?',\n",
              "              dtype=object),\n",
              "  'param_clf__n_estimators': masked_array(data=[95, 84, 104, 101, 113, 111, 97, 93, 53, 53],\n",
              "               mask=[False, False, False, False, False, False, False, False,\n",
              "                     False, False],\n",
              "         fill_value='?',\n",
              "              dtype=object),\n",
              "  'param_clf__warm_start': masked_array(data=[False, True, True, True, True, False, False, True,\n",
              "                     True, True],\n",
              "               mask=[False, False, False, False, False, False, False, False,\n",
              "                     False, False],\n",
              "         fill_value='?',\n",
              "              dtype=object),\n",
              "  'param_me__m': masked_array(data=[42.85627334864937, 88.20815624166465,\n",
              "                     43.453317363325176, 98.54181045267357,\n",
              "                     5.130365446687365, 12.6237874352197, 37.53404017979035,\n",
              "                     61.16068992753121, 92.62517730762436,\n",
              "                     10.722732760132214],\n",
              "               mask=[False, False, False, False, False, False, False, False,\n",
              "                     False, False],\n",
              "         fill_value='?',\n",
              "              dtype=object),\n",
              "  'params': [{'clf__criterion': 'entropy',\n",
              "    'clf__max_samples': None,\n",
              "    'clf__min_samples_leaf': 842,\n",
              "    'clf__n_estimators': 95,\n",
              "    'clf__warm_start': False,\n",
              "    'me__m': 42.85627334864937},\n",
              "   {'clf__criterion': 'entropy',\n",
              "    'clf__max_samples': None,\n",
              "    'clf__min_samples_leaf': 15,\n",
              "    'clf__n_estimators': 84,\n",
              "    'clf__warm_start': True,\n",
              "    'me__m': 88.20815624166465},\n",
              "   {'clf__criterion': 'gini',\n",
              "    'clf__max_samples': 0.7,\n",
              "    'clf__min_samples_leaf': 235,\n",
              "    'clf__n_estimators': 104,\n",
              "    'clf__warm_start': True,\n",
              "    'me__m': 43.453317363325176},\n",
              "   {'clf__criterion': 'entropy',\n",
              "    'clf__max_samples': 0.7,\n",
              "    'clf__min_samples_leaf': 35,\n",
              "    'clf__n_estimators': 101,\n",
              "    'clf__warm_start': True,\n",
              "    'me__m': 98.54181045267357},\n",
              "   {'clf__criterion': 'gini',\n",
              "    'clf__max_samples': 0.7,\n",
              "    'clf__min_samples_leaf': 32,\n",
              "    'clf__n_estimators': 113,\n",
              "    'clf__warm_start': True,\n",
              "    'me__m': 5.130365446687365},\n",
              "   {'clf__criterion': 'gini',\n",
              "    'clf__max_samples': 0.8,\n",
              "    'clf__min_samples_leaf': 46,\n",
              "    'clf__n_estimators': 111,\n",
              "    'clf__warm_start': False,\n",
              "    'me__m': 12.6237874352197},\n",
              "   {'clf__criterion': 'entropy',\n",
              "    'clf__max_samples': None,\n",
              "    'clf__min_samples_leaf': 470,\n",
              "    'clf__n_estimators': 97,\n",
              "    'clf__warm_start': False,\n",
              "    'me__m': 37.53404017979035},\n",
              "   {'clf__criterion': 'gini',\n",
              "    'clf__max_samples': 0.7,\n",
              "    'clf__min_samples_leaf': 410,\n",
              "    'clf__n_estimators': 93,\n",
              "    'clf__warm_start': True,\n",
              "    'me__m': 61.16068992753121},\n",
              "   {'clf__criterion': 'entropy',\n",
              "    'clf__max_samples': 0.8,\n",
              "    'clf__min_samples_leaf': 318,\n",
              "    'clf__n_estimators': 53,\n",
              "    'clf__warm_start': True,\n",
              "    'me__m': 92.62517730762436},\n",
              "   {'clf__criterion': 'gini',\n",
              "    'clf__max_samples': None,\n",
              "    'clf__min_samples_leaf': 660,\n",
              "    'clf__n_estimators': 53,\n",
              "    'clf__warm_start': True,\n",
              "    'me__m': 10.722732760132214}],\n",
              "  'rank_test_accuracy': array([10,  1,  5,  3,  2,  4,  7,  8,  6,  9], dtype=int32),\n",
              "  'rank_test_f1': array([10,  1,  5,  3,  2,  4,  7,  8,  6,  9], dtype=int32),\n",
              "  'rank_test_f2': array([10,  1,  5,  3,  2,  4,  7,  8,  6,  9], dtype=int32),\n",
              "  'split0_test_accuracy': array([0.67170423, 0.77890448, 0.68534925, 0.72709375, 0.73007063,\n",
              "         0.72124377, 0.67881435, 0.67754236, 0.68198692, 0.67364632]),\n",
              "  'split0_test_f1': array([0.65902323, 0.77687078, 0.67371379, 0.71930884, 0.72229611,\n",
              "         0.71244223, 0.66651068, 0.66514564, 0.66966851, 0.66153752]),\n",
              "  'split0_test_f2': array([0.64409563, 0.77260678, 0.65909031, 0.70720463, 0.71002599,\n",
              "         0.69919625, 0.65153565, 0.65014885, 0.65445805, 0.64713109]),\n",
              "  'split1_test_accuracy': array([0.67293472, 0.77872065, 0.68523658, 0.72701073, 0.73001429,\n",
              "         0.72103918, 0.67958525, 0.67862755, 0.68258585, 0.67551132]),\n",
              "  'split1_test_f1': array([0.66061583, 0.77717599, 0.67421799, 0.7195792 , 0.72292361,\n",
              "         0.71263989, 0.66828536, 0.66663796, 0.67123637, 0.66364444]),\n",
              "  'split1_test_f2': array([0.64601654, 0.77393447, 0.66034832, 0.70801473, 0.71170857,\n",
              "         0.69999412, 0.65443755, 0.65204233, 0.65713836, 0.64939502]),\n",
              "  'split2_test_accuracy': array([0.67368783, 0.77943819, 0.68528105, 0.72742287, 0.73069625,\n",
              "         0.72121412, 0.68000925, 0.67850895, 0.68321444, 0.67542237]),\n",
              "  'split2_test_f1': array([0.66082336, 0.77763562, 0.67371631, 0.71961229, 0.72312978,\n",
              "         0.71255935, 0.66815694, 0.66598279, 0.67186929, 0.66295349]),\n",
              "  'split2_test_f2': array([0.64555326, 0.77384104, 0.65918281, 0.7074493 , 0.71114146,\n",
              "         0.69952942, 0.65363083, 0.65076934, 0.65773586, 0.64801707]),\n",
              "  'split3_test_accuracy': array([0.67258188, 0.7787503 , 0.68545599, 0.72715601, 0.73045311,\n",
              "         0.72175968, 0.67957932, 0.67804641, 0.6821915 , 0.67447949]),\n",
              "  'split3_test_f1': array([0.66117437, 0.77700211, 0.67490201, 0.7194131 , 0.72312626,\n",
              "         0.71348972, 0.66860474, 0.66676896, 0.67140816, 0.66281323]),\n",
              "  'split3_test_f2': array([0.64763588, 0.77333582, 0.66158305, 0.70736864, 0.71152186,\n",
              "         0.70098869, 0.65514137, 0.653044  , 0.65801223, 0.64886061]),\n",
              "  'split4_test_accuracy': array([0.67275089, 0.77852793, 0.68569023, 0.7273517 , 0.73042346,\n",
              "         0.72132975, 0.67958525, 0.67800786, 0.68227156, 0.67561509]),\n",
              "  'split4_test_f1': array([0.66088207, 0.77690665, 0.67476836, 0.71997125, 0.72336036,\n",
              "         0.71318274, 0.66806528, 0.6665418 , 0.67106842, 0.66369103]),\n",
              "  'split4_test_f2': array([0.64680686, 0.77350918, 0.66098728, 0.70846458, 0.71216482,\n",
              "         0.70088833, 0.6539581 , 0.65259846, 0.65716539, 0.64936893]),\n",
              "  'std_test_accuracy': array([0.00063779, 0.00030908, 0.00016172, 0.00015588, 0.00025494,\n",
              "         0.00024052, 0.00038709, 0.0003891 , 0.000428  , 0.00076163]),\n",
              "  'std_test_f1': array([0.00076151, 0.00027947, 0.00050324, 0.00022604, 0.00036292,\n",
              "         0.00040349, 0.00073016, 0.00059834, 0.00074069, 0.0007801 ]),\n",
              "  'std_test_f2': array([0.00119593, 0.00047225, 0.00098116, 0.0004694 , 0.00072271,\n",
              "         0.00071595, 0.00121401, 0.00109552, 0.00126697, 0.0008693 ]),\n",
              "  'time_total_s': array([3274.44700193, 4040.60200453, 3332.29381585, 3589.28182077,\n",
              "         3957.18695235, 4286.17748451, 3569.13130546, 2728.69896054,\n",
              "         1527.2999413 , 1512.07532215]),\n",
              "  'training_iteration': array([1, 1, 1, 1, 1, 1, 1, 1, 1, 1])},\n",
              " 'early_stop_type': <EarlyStopping.NO_EARLY_STOP: 7>,\n",
              " 'early_stopping': None,\n",
              " 'error_score': nan,\n",
              " 'estimator': Pipeline(steps=[('me', MEstimateEncoder()), ('ss', StandardScaler()),\n",
              "                 ('clf', RandomForestClassifier(random_state=42))]),\n",
              " 'is_multi': True,\n",
              " 'local_dir': '~/ray_results',\n",
              " 'loggers': [ray.tune.logger.JsonLogger, ray.tune.logger.CSVLogger],\n",
              " 'max_iters': 1,\n",
              " 'mode': 'max',\n",
              " 'n_jobs': -1,\n",
              " 'n_splits': 5,\n",
              " 'n_trials': 10,\n",
              " 'name': None,\n",
              " 'param_distributions': {'clf__criterion': <ray.tune.sample.Categorical at 0x7f63d5826f10>,\n",
              "  'clf__max_samples': <ray.tune.sample.Categorical at 0x7f63d5826a50>,\n",
              "  'clf__min_samples_leaf': <ray.tune.sample.Integer at 0x7f63d5826b10>,\n",
              "  'clf__n_estimators': <ray.tune.sample.Integer at 0x7f63d5826710>,\n",
              "  'clf__warm_start': <ray.tune.sample.Categorical at 0x7f63f815e950>,\n",
              "  'me__m': <ray.tune.sample.Float at 0x7f63d5816410>},\n",
              " 'pipeline_auto_early_stop': True,\n",
              " 'random_state': None,\n",
              " 'refit': 'f2',\n",
              " 'refit_time': 835.2396178245544,\n",
              " 'return_train_score': False,\n",
              " 'scoring': {'accuracy': make_scorer(accuracy_score),\n",
              "  'f1': make_scorer(f1_score, average=binary),\n",
              "  'f2': make_scorer(fbeta_score, beta=2)},\n",
              " 'search_kwargs': {},\n",
              " 'search_optimization': 'random',\n",
              " 'seed': None,\n",
              " 'sk_n_jobs': 1,\n",
              " 'stopper': None,\n",
              " 'time_budget_s': None,\n",
              " 'use_gpu': False,\n",
              " 'verbose': 0}"
            ]
          },
          "metadata": {},
          "execution_count": 30
        }
      ]
    },
    {
      "cell_type": "code",
      "metadata": {
        "id": "6ZtlhGpVTjmR"
      },
      "source": [
        ""
      ],
      "execution_count": null,
      "outputs": []
    },
    {
      "cell_type": "code",
      "metadata": {
        "id": "E_YQvtCuTjqI"
      },
      "source": [
        ""
      ],
      "execution_count": null,
      "outputs": []
    },
    {
      "cell_type": "code",
      "metadata": {
        "id": "ShCQpErwTjtR"
      },
      "source": [
        ""
      ],
      "execution_count": null,
      "outputs": []
    },
    {
      "cell_type": "code",
      "metadata": {
        "id": "1fBw2NVw_ALL"
      },
      "source": [
        "import joblib"
      ],
      "execution_count": null,
      "outputs": []
    },
    {
      "cell_type": "code",
      "metadata": {
        "colab": {
          "base_uri": "https://localhost:8080/"
        },
        "id": "7Vd0ANVY_Ejh",
        "outputId": "58337699-dcd1-41a4-b5b5-a957c2e80d8f"
      },
      "source": [
        "!pip install ray"
      ],
      "execution_count": null,
      "outputs": [
        {
          "name": "stdout",
          "output_type": "stream",
          "text": [
            "Requirement already satisfied: ray in /usr/local/lib/python3.7/dist-packages (1.8.0)\n",
            "Requirement already satisfied: protobuf>=3.15.3 in /usr/local/lib/python3.7/dist-packages (from ray) (3.17.3)\n",
            "Requirement already satisfied: jsonschema in /usr/local/lib/python3.7/dist-packages (from ray) (2.6.0)\n",
            "Requirement already satisfied: attrs in /usr/local/lib/python3.7/dist-packages (from ray) (21.2.0)\n",
            "Requirement already satisfied: redis>=3.5.0 in /usr/local/lib/python3.7/dist-packages (from ray) (4.0.2)\n",
            "Requirement already satisfied: grpcio>=1.28.1 in /usr/local/lib/python3.7/dist-packages (from ray) (1.42.0)\n",
            "Requirement already satisfied: filelock in /usr/local/lib/python3.7/dist-packages (from ray) (3.4.0)\n",
            "Requirement already satisfied: pyyaml in /usr/local/lib/python3.7/dist-packages (from ray) (3.13)\n",
            "Requirement already satisfied: numpy>=1.16 in /usr/local/lib/python3.7/dist-packages (from ray) (1.19.5)\n",
            "Requirement already satisfied: msgpack<2.0.0,>=1.0.0 in /usr/local/lib/python3.7/dist-packages (from ray) (1.0.2)\n",
            "Requirement already satisfied: click>=7.0 in /usr/local/lib/python3.7/dist-packages (from ray) (7.1.2)\n",
            "Requirement already satisfied: six>=1.5.2 in /usr/local/lib/python3.7/dist-packages (from grpcio>=1.28.1->ray) (1.15.0)\n",
            "Requirement already satisfied: deprecated in /usr/local/lib/python3.7/dist-packages (from redis>=3.5.0->ray) (1.2.13)\n",
            "Requirement already satisfied: wrapt<2,>=1.10 in /usr/local/lib/python3.7/dist-packages (from deprecated->redis>=3.5.0->ray) (1.13.3)\n"
          ]
        }
      ]
    },
    {
      "cell_type": "code",
      "metadata": {
        "id": "zq0t5Qut_H6q"
      },
      "source": [
        "from ray.util.joblib import register_ray"
      ],
      "execution_count": null,
      "outputs": []
    },
    {
      "cell_type": "code",
      "metadata": {
        "id": "u4ndH7wOZOHG"
      },
      "source": [
        "# cross validation with the parameters grid\n",
        "# very slow (at least with svc, don) hummmmm\n",
        "# logistic regression much faster\n",
        "# attempt to boost up (probably not) with joblib and ray\n",
        "register_ray() # only set once"
      ],
      "execution_count": null,
      "outputs": []
    },
    {
      "cell_type": "code",
      "metadata": {
        "colab": {
          "base_uri": "https://localhost:8080/"
        },
        "id": "DVrT6hKOFUf4",
        "outputId": "bbe8e72c-0030-40b1-b70f-79a5322a2974"
      },
      "source": [
        "with joblib.parallel_backend('ray'):\n",
        "  grid_search.fit(xTrain, yTrain['DEP_DEL15'])"
      ],
      "execution_count": null,
      "outputs": [
        {
          "name": "stderr",
          "output_type": "stream",
          "text": [
            "\u001b[2m\u001b[36m(pid=3682)\u001b[0m /usr/local/lib/python3.7/dist-packages/statsmodels/tools/_testing.py:19: FutureWarning: pandas.util.testing is deprecated. Use the functions in the public API at pandas.testing instead.\n",
            "\u001b[2m\u001b[36m(pid=3682)\u001b[0m   import pandas.util.testing as tm\n",
            "\u001b[2m\u001b[36m(pid=3680)\u001b[0m /usr/local/lib/python3.7/dist-packages/statsmodels/tools/_testing.py:19: FutureWarning: pandas.util.testing is deprecated. Use the functions in the public API at pandas.testing instead.\n",
            "\u001b[2m\u001b[36m(pid=3680)\u001b[0m   import pandas.util.testing as tm\n",
            "\u001b[2m\u001b[36m(pid=3681)\u001b[0m /usr/local/lib/python3.7/dist-packages/statsmodels/tools/_testing.py:19: FutureWarning: pandas.util.testing is deprecated. Use the functions in the public API at pandas.testing instead.\n",
            "\u001b[2m\u001b[36m(pid=3681)\u001b[0m   import pandas.util.testing as tm\n",
            "\u001b[2m\u001b[36m(pid=3683)\u001b[0m /usr/local/lib/python3.7/dist-packages/statsmodels/tools/_testing.py:19: FutureWarning: pandas.util.testing is deprecated. Use the functions in the public API at pandas.testing instead.\n",
            "\u001b[2m\u001b[36m(pid=3683)\u001b[0m   import pandas.util.testing as tm\n"
          ]
        }
      ]
    },
    {
      "cell_type": "code",
      "metadata": {
        "id": "rDUfbKMVZOd7"
      },
      "source": [
        "# check params\n",
        "grid_search.get_params()"
      ],
      "execution_count": null,
      "outputs": []
    },
    {
      "cell_type": "code",
      "metadata": {
        "colab": {
          "base_uri": "https://localhost:8080/"
        },
        "id": "ouP2HpawDn6z",
        "outputId": "703b0be8-15e8-4e80-91f5-b9b6bc9df671"
      },
      "source": [
        "grid_search.best_score_"
      ],
      "execution_count": null,
      "outputs": [
        {
          "data": {
            "text/plain": [
              "0.37529687599368017"
            ]
          },
          "execution_count": 30,
          "metadata": {},
          "output_type": "execute_result"
        }
      ]
    },
    {
      "cell_type": "code",
      "metadata": {
        "colab": {
          "base_uri": "https://localhost:8080/"
        },
        "id": "5LQknYcPByWU",
        "outputId": "91683d92-47f0-4568-c28a-e878810a3374"
      },
      "source": [
        "# bad lol, need more models and tuning (hopefully)\n",
        "# otherwise have to check and explain why kaggel get 80%\n",
        "# i remember they have some\n",
        "grid_search.score(xTest, yTest['DEP_DEL15'])"
      ],
      "execution_count": null,
      "outputs": [
        {
          "data": {
            "text/plain": [
              "0.37853259821876084"
            ]
          },
          "execution_count": 14,
          "metadata": {},
          "output_type": "execute_result"
        }
      ]
    },
    {
      "cell_type": "code",
      "metadata": {
        "id": "9hYgKqtKbnS2"
      },
      "source": [
        "# for saving data\n",
        "from joblib import dump, load"
      ],
      "execution_count": null,
      "outputs": []
    },
    {
      "cell_type": "code",
      "metadata": {
        "colab": {
          "base_uri": "https://localhost:8080/"
        },
        "id": "np6vtd8r5pL9",
        "outputId": "5d3a832e-81e8-4a57-8939-24f344b5333c"
      },
      "source": [
        "dump(grid_search, 'dct_v0.joblib')"
      ],
      "execution_count": null,
      "outputs": [
        {
          "data": {
            "text/plain": [
              "['dct_v0.joblib']"
            ]
          },
          "execution_count": 32,
          "metadata": {},
          "output_type": "execute_result"
        }
      ]
    },
    {
      "cell_type": "code",
      "metadata": {
        "id": "s5908K1BtcgZ"
      },
      "source": [
        "grid_search = load('dct_v0.joblib')"
      ],
      "execution_count": null,
      "outputs": []
    },
    {
      "cell_type": "code",
      "metadata": {
        "id": "49Pm41ik1iJq"
      },
      "source": [
        "# categorical nb?\n",
        "xTrain['DISTANCE'] = pd.cut(xTrain['DISTANCE'], bins=[0,500,1000,np.inf], labels = ['short', 'medium', 'long'])\n",
        "xTrain['CRS_DEP_TIME'] = pd.cut(xTrain['CRS_DEP_TIME'], bins=[0,480,960,np.inf], labels = ['morning', 'noon', 'evening'])\n",
        "xTest['DISTANCE'] = pd.cut(xTest['DISTANCE'], bins=[0,500,1000,np.inf], labels = ['short', 'medium', 'long'])\n",
        "xTest['CRS_DEP_TIME'] = pd.cut(xTest['CRS_DEP_TIME'], bins=[0,480,960,np.inf], labels = ['morning', 'noon', 'evening'])\n",
        "xTrain = xTrain.iloc[:,0:9]\n",
        "xTest = xTest.iloc[:,0:9]"
      ],
      "execution_count": null,
      "outputs": []
    },
    {
      "cell_type": "code",
      "metadata": {
        "colab": {
          "base_uri": "https://localhost:8080/",
          "height": 282
        },
        "id": "gF1McbMa4Psc",
        "outputId": "5be7638c-fcb5-4778-93e8-79cab9a5296c"
      },
      "source": [
        "xTrain['CRS_DEP_TIME'].plot(kind=\"hist\", bins = 4)"
      ],
      "execution_count": null,
      "outputs": [
        {
          "data": {
            "text/plain": [
              "<matplotlib.axes._subplots.AxesSubplot at 0x7f6df132c450>"
            ]
          },
          "execution_count": 66,
          "metadata": {},
          "output_type": "execute_result"
        },
        {
          "data": {
            "image/png": "[encoded data removed]",
            "text/plain": [
              "<Figure size 432x288 with 1 Axes>"
            ]
          },
          "metadata": {},
          "output_type": "display_data"
        }
      ]
    },
    {
      "cell_type": "code",
      "metadata": {
        "id": "ONcufMg965_q"
      },
      "source": [
        "from sklearn.preprocessing import LabelEncoder\n",
        "from sklearn.naive_bayes import CategoricalNB"
      ],
      "execution_count": null,
      "outputs": []
    },
    {
      "cell_type": "code",
      "metadata": {
        "id": "5OWcmnED7grR"
      },
      "source": [
        "le = LabelEncoder()\n",
        "for c in xTrain.columns:\n",
        "  xTrain[c] = le.fit_transform(xTrain[c])\n",
        "  xTtest[c] = le.transform(xTest[c])"
      ],
      "execution_count": null,
      "outputs": []
    },
    {
      "cell_type": "code",
      "metadata": {
        "id": "V9ydWukV8IFo"
      },
      "source": [
        "cnb = CategoricalNB()\n",
        "cnb.fit(xTn, yTrain['ARR_DELAY'])\n",
        "f1_score(yTest['ARR_DELAY'], cnb.predict(xTt))"
      ],
      "execution_count": null,
      "outputs": []
    },
    {
      "cell_type": "code",
      "metadata": {
        "id": "LQ_TOG3Tt496"
      },
      "source": [
        ""
      ],
      "execution_count": null,
      "outputs": []
    },
    {
      "cell_type": "code",
      "metadata": {
        "id": "dpwaEJxPt5BC"
      },
      "source": [
        ""
      ],
      "execution_count": null,
      "outputs": []
    },
    {
      "cell_type": "code",
      "metadata": {
        "id": "_eUQxT3bt5EI"
      },
      "source": [
        ""
      ],
      "execution_count": null,
      "outputs": []
    },
    {
      "cell_type": "code",
      "metadata": {
        "id": "wK2CZABRt5HP"
      },
      "source": [
        "# 分解尝试？\n",
        "me = MEstimateEncoder()\n",
        "ss = StandardScaler()\n",
        "dtc = DecisionTreeClassifier(random_state=42)"
      ],
      "execution_count": null,
      "outputs": []
    },
    {
      "cell_type": "code",
      "metadata": {
        "id": "aedOJkD-vEy3"
      },
      "source": [
        "me.fit(xTrain, yTrain['DEP_DEL15'])\n",
        "xTrain = me.transform(xTrain)\n",
        "xTest = me.transform(xTest)"
      ],
      "execution_count": null,
      "outputs": []
    },
    {
      "cell_type": "code",
      "metadata": {
        "colab": {
          "base_uri": "https://localhost:8080/"
        },
        "id": "HD7YaBJavhYH",
        "outputId": "9283ac31-ed37-40dd-b7d5-f4766210211f"
      },
      "source": [
        "ss.fit_transform(xTrain)\n",
        "ss.transform(xTest)"
      ],
      "execution_count": null,
      "outputs": [
        {
          "data": {
            "text/plain": [
              "array([[-0.2870776 , -1.93526265, -1.45238282, ...,  0.15983674,\n",
              "        -0.57956676, -1.20946058],\n",
              "       [-1.09673412, -0.67720868, -0.47748726, ..., -1.25599743,\n",
              "         0.05781053, -1.86885456],\n",
              "       [ 1.49908133,  1.41772996, -0.58386763, ...,  0.1225369 ,\n",
              "        -0.20809531,  0.35599556],\n",
              "       ...,\n",
              "       [ 0.98763519,  1.41772996, -1.45238282, ...,  0.15983674,\n",
              "         0.67526978,  0.35599556],\n",
              "       [ 1.39449227,  0.31753777,  0.22964285, ...,  1.27984552,\n",
              "        -0.14186782,  0.24976882],\n",
              "       [-0.2870776 ,  0.42648827,  1.55145982, ..., -0.04610514,\n",
              "        -0.57956676,  0.1951328 ]])"
            ]
          },
          "execution_count": 19,
          "metadata": {},
          "output_type": "execute_result"
        }
      ]
    },
    {
      "cell_type": "code",
      "metadata": {
        "colab": {
          "base_uri": "https://localhost:8080/"
        },
        "id": "GVl9YUSlvlkp",
        "outputId": "d3695f53-20d0-4c4f-c746-8480fe691b33"
      },
      "source": [
        "dtc.fit(xTrain,yTrain['DEP_DEL15'])"
      ],
      "execution_count": null,
      "outputs": [
        {
          "data": {
            "text/plain": [
              "DecisionTreeClassifier(random_state=42)"
            ]
          },
          "execution_count": 20,
          "metadata": {},
          "output_type": "execute_result"
        }
      ]
    },
    {
      "cell_type": "code",
      "metadata": {
        "colab": {
          "base_uri": "https://localhost:8080/"
        },
        "id": "F6nF-smpwKS-",
        "outputId": "027abd86-08e2-4e15-c759-afc521b015ac"
      },
      "source": [
        "dtc.score(xTest,yTest['DEP_DEL15'])"
      ],
      "execution_count": null,
      "outputs": [
        {
          "data": {
            "text/plain": [
              "0.7245710366361997"
            ]
          },
          "execution_count": 21,
          "metadata": {},
          "output_type": "execute_result"
        }
      ]
    },
    {
      "cell_type": "code",
      "metadata": {
        "colab": {
          "base_uri": "https://localhost:8080/"
        },
        "id": "6Bevy9lTwwjF",
        "outputId": "654e542b-285b-4d6e-ef17-007ba22a40fa"
      },
      "source": [
        "pipe.fit(xTrain,yTrain['DEP_DEL15'])\n",
        "pipe.score(xTest,yTest['DEP_DEL15'])"
      ],
      "execution_count": null,
      "outputs": [
        {
          "data": {
            "text/plain": [
              "0.7245369317751201"
            ]
          },
          "execution_count": 23,
          "metadata": {},
          "output_type": "execute_result"
        }
      ]
    },
    {
      "cell_type": "code",
      "metadata": {
        "colab": {
          "base_uri": "https://localhost:8080/"
        },
        "id": "vUS_G27GxjLm",
        "outputId": "0c8959c4-e185-4567-aaca-99ec18fa2696"
      },
      "source": [
        "precision_score(yTest['DEP_DEL15'], pipe.predict(xTest))"
      ],
      "execution_count": null,
      "outputs": [
        {
          "data": {
            "text/plain": [
              "0.3656887112623139"
            ]
          },
          "execution_count": 31,
          "metadata": {},
          "output_type": "execute_result"
        }
      ]
    },
    {
      "cell_type": "code",
      "metadata": {
        "colab": {
          "base_uri": "https://localhost:8080/"
        },
        "id": "RfUDVlfLzEN3",
        "outputId": "0705c89b-745e-4afa-a7ee-5ee57b8fc286"
      },
      "source": [
        "yTrain['DEP_DEL15'].value_counts()"
      ],
      "execution_count": null,
      "outputs": [
        {
          "data": {
            "text/plain": [
              "0.0    843165\n",
              "1.0    228396\n",
              "Name: DEP_DEL15, dtype: int64"
            ]
          },
          "execution_count": 36,
          "metadata": {},
          "output_type": "execute_result"
        }
      ]
    }
  ]
}