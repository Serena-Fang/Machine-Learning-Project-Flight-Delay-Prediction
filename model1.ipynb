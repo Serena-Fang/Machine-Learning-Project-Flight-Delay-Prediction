{
  "nbformat": 4,
  "nbformat_minor": 0,
  "metadata": {
    "colab": {
      "name": "model1.ipynb",
      "provenance": [],
      "machine_shape": "hm"
    },
    "kernelspec": {
      "name": "python3",
      "display_name": "Python 3"
    },
    "language_info": {
      "name": "python"
    }
  },
  "cells": [
    {
      "cell_type": "code",
      "metadata": {
        "colab": {
          "base_uri": "https://localhost:8080/"
        },
        "id": "yMCbPkZNW73k",
        "outputId": "3abb31d2-f755-43b8-96f0-42638bcae0b2"
      },
      "source": [
        "from google.colab import drive\n",
        "drive.mount('/content/gdrive')"
      ],
      "execution_count": null,
      "outputs": [
        {
          "output_type": "stream",
          "name": "stdout",
          "text": [
            "Drive already mounted at /content/gdrive; to attempt to forcibly remount, call drive.mount(\"/content/gdrive\", force_remount=True).\n"
          ]
        }
      ]
    },
    {
      "cell_type": "code",
      "metadata": {
        "id": "xbd3UL07XPgs",
        "colab": {
          "base_uri": "https://localhost:8080/"
        },
        "outputId": "23a9ea32-fb40-4101-9c4d-91ad0ea19ed3"
      },
      "source": [
        "%cd gdrive/MyDrive/cs334/data/"
      ],
      "execution_count": null,
      "outputs": [
        {
          "output_type": "stream",
          "name": "stdout",
          "text": [
            "/content/gdrive/.shortcut-targets-by-id/1lUGmQqyiSFFVjII-tNU4h19MMtxJ0afZ/cs334/data\n"
          ]
        }
      ]
    },
    {
      "cell_type": "code",
      "metadata": {
        "id": "4GnFOEYaC_em",
        "colab": {
          "base_uri": "https://localhost:8080/"
        },
        "outputId": "ed87bd1c-eed4-470b-d5ec-a0a54a96bb1f"
      },
      "source": [
        "!ls"
      ],
      "execution_count": null,
      "outputs": [
        {
          "output_type": "stream",
          "name": "stdout",
          "text": [
            "july.csv  may.csv\t    xTest.csv\tyTest.csv\n",
            "june.csv  pipelines.joblib  xTrain.csv\tyTrain.csv\n"
          ]
        }
      ]
    },
    {
      "cell_type": "code",
      "metadata": {
        "id": "hChbKUmcXPHC"
      },
      "source": [
        "import pandas as pd\n",
        "import numpy as np\n",
        "import matplotlib.pyplot as plt"
      ],
      "execution_count": null,
      "outputs": []
    },
    {
      "cell_type": "code",
      "metadata": {
        "id": "vGf76rwEYaTH"
      },
      "source": [
        "xTrain = pd.read_csv('xTrain.csv')\n",
        "xTest = pd.read_csv('xTest.csv')\n",
        "yTrain = pd.read_csv('yTrain.csv')\n",
        "yTest = pd.read_csv('yTest.csv')"
      ],
      "execution_count": null,
      "outputs": []
    },
    {
      "cell_type": "code",
      "metadata": {
        "colab": {
          "base_uri": "https://localhost:8080/",
          "height": 226
        },
        "id": "dj4ODtywa5kJ",
        "outputId": "8d0289e9-f9c9-4a32-a4ff-4190ca7aa7fa"
      },
      "source": [
        "xTrain.head()"
      ],
      "execution_count": 53,
      "outputs": [
        {
          "output_type": "execute_result",
          "data": {
            "text/html": [
              "<div>\n",
              "<style scoped>\n",
              "    .dataframe tbody tr th:only-of-type {\n",
              "        vertical-align: middle;\n",
              "    }\n",
              "\n",
              "    .dataframe tbody tr th {\n",
              "        vertical-align: top;\n",
              "    }\n",
              "\n",
              "    .dataframe thead th {\n",
              "        text-align: right;\n",
              "    }\n",
              "</style>\n",
              "<table border=\"1\" class=\"dataframe\">\n",
              "  <thead>\n",
              "    <tr style=\"text-align: right;\">\n",
              "      <th></th>\n",
              "      <th>DAY_OF_MONTH</th>\n",
              "      <th>DAY_OF_WEEK</th>\n",
              "      <th>OP_UNIQUE_CARRIER</th>\n",
              "      <th>ORIGIN</th>\n",
              "      <th>ORIGIN_STATE_ABR</th>\n",
              "      <th>DEST</th>\n",
              "      <th>DEST_STATE_ABR</th>\n",
              "      <th>CRS_DEP_TIME</th>\n",
              "      <th>DISTANCE</th>\n",
              "      <th>OP_UNIQUE_CARRIER_COUNT</th>\n",
              "      <th>ORIGIN_COUNT</th>\n",
              "      <th>ORIGIN_STATE_ABR_COUNT</th>\n",
              "      <th>DEST_COUNT</th>\n",
              "      <th>DEST_STATE_ABR_COUNT</th>\n",
              "      <th>DAY_OF_MONTH_COUNT</th>\n",
              "      <th>DAY_OF_WEEK_COUNT</th>\n",
              "      <th>DEP_TIME</th>\n",
              "    </tr>\n",
              "  </thead>\n",
              "  <tbody>\n",
              "    <tr>\n",
              "      <th>0</th>\n",
              "      <td>25</td>\n",
              "      <td>5</td>\n",
              "      <td>AS</td>\n",
              "      <td>SEA</td>\n",
              "      <td>WA</td>\n",
              "      <td>LAS</td>\n",
              "      <td>NV</td>\n",
              "      <td>764</td>\n",
              "      <td>867.0</td>\n",
              "      <td>33443</td>\n",
              "      <td>31081</td>\n",
              "      <td>37326</td>\n",
              "      <td>25237</td>\n",
              "      <td>29353</td>\n",
              "      <td>35393</td>\n",
              "      <td>159138</td>\n",
              "      <td>12-18</td>\n",
              "    </tr>\n",
              "    <tr>\n",
              "      <th>1</th>\n",
              "      <td>22</td>\n",
              "      <td>2</td>\n",
              "      <td>AA</td>\n",
              "      <td>TPA</td>\n",
              "      <td>FL</td>\n",
              "      <td>PHL</td>\n",
              "      <td>PA</td>\n",
              "      <td>1037</td>\n",
              "      <td>920.0</td>\n",
              "      <td>133648</td>\n",
              "      <td>11568</td>\n",
              "      <td>101143</td>\n",
              "      <td>15659</td>\n",
              "      <td>24236</td>\n",
              "      <td>34839</td>\n",
              "      <td>142857</td>\n",
              "      <td>12-18</td>\n",
              "    </tr>\n",
              "    <tr>\n",
              "      <th>2</th>\n",
              "      <td>2</td>\n",
              "      <td>5</td>\n",
              "      <td>WN</td>\n",
              "      <td>SDF</td>\n",
              "      <td>KY</td>\n",
              "      <td>RSW</td>\n",
              "      <td>FL</td>\n",
              "      <td>835</td>\n",
              "      <td>835.0</td>\n",
              "      <td>189831</td>\n",
              "      <td>3389</td>\n",
              "      <td>10368</td>\n",
              "      <td>6488</td>\n",
              "      <td>100895</td>\n",
              "      <td>33559</td>\n",
              "      <td>159138</td>\n",
              "      <td>12-18</td>\n",
              "    </tr>\n",
              "    <tr>\n",
              "      <th>3</th>\n",
              "      <td>14</td>\n",
              "      <td>1</td>\n",
              "      <td>AA</td>\n",
              "      <td>CLT</td>\n",
              "      <td>NC</td>\n",
              "      <td>BDL</td>\n",
              "      <td>CT</td>\n",
              "      <td>440</td>\n",
              "      <td>644.0</td>\n",
              "      <td>133648</td>\n",
              "      <td>36698</td>\n",
              "      <td>50388</td>\n",
              "      <td>3563</td>\n",
              "      <td>3619</td>\n",
              "      <td>35783</td>\n",
              "      <td>155277</td>\n",
              "      <td>6-12</td>\n",
              "    </tr>\n",
              "    <tr>\n",
              "      <th>4</th>\n",
              "      <td>7</td>\n",
              "      <td>3</td>\n",
              "      <td>WN</td>\n",
              "      <td>MEM</td>\n",
              "      <td>TN</td>\n",
              "      <td>ATL</td>\n",
              "      <td>GA</td>\n",
              "      <td>810</td>\n",
              "      <td>332.0</td>\n",
              "      <td>189831</td>\n",
              "      <td>3466</td>\n",
              "      <td>20443</td>\n",
              "      <td>55493</td>\n",
              "      <td>60531</td>\n",
              "      <td>35209</td>\n",
              "      <td>146538</td>\n",
              "      <td>12-18</td>\n",
              "    </tr>\n",
              "  </tbody>\n",
              "</table>\n",
              "</div>"
            ],
            "text/plain": [
              "  DAY_OF_MONTH DAY_OF_WEEK  ... DAY_OF_WEEK_COUNT DEP_TIME\n",
              "0           25           5  ...            159138    12-18\n",
              "1           22           2  ...            142857    12-18\n",
              "2            2           5  ...            159138    12-18\n",
              "3           14           1  ...            155277     6-12\n",
              "4            7           3  ...            146538    12-18\n",
              "\n",
              "[5 rows x 17 columns]"
            ]
          },
          "metadata": {},
          "execution_count": 53
        }
      ]
    },
    {
      "cell_type": "code",
      "metadata": {
        "colab": {
          "base_uri": "https://localhost:8080/"
        },
        "id": "c5iyY3gP5u5h",
        "outputId": "80e4de04-b9d1-4398-9c6f-3480fc8b4f52"
      },
      "source": [
        "%cd ../models"
      ],
      "execution_count": null,
      "outputs": [
        {
          "output_type": "stream",
          "name": "stdout",
          "text": [
            "/content/gdrive/.shortcut-targets-by-id/1lUGmQqyiSFFVjII-tNU4h19MMtxJ0afZ/cs334/models\n"
          ]
        }
      ]
    },
    {
      "cell_type": "code",
      "metadata": {
        "id": "QAqdsbThuKXl"
      },
      "source": [
        "# when read, these become int again, thus need mapping\n",
        "xTrain['DAY_OF_MONTH'] = xTrain['DAY_OF_MONTH'].map(lambda x: str(x))\n",
        "xTrain['DAY_OF_WEEK'] = xTrain['DAY_OF_WEEK'].map(lambda x: str(x))\n",
        "xTest['DAY_OF_MONTH'] = xTest['DAY_OF_MONTH'].map(lambda x: str(x))\n",
        "xTest['DAY_OF_WEEK'] = xTest['DAY_OF_WEEK'].map(lambda x: str(x))"
      ],
      "execution_count": null,
      "outputs": []
    },
    {
      "cell_type": "code",
      "metadata": {
        "colab": {
          "base_uri": "https://localhost:8080/"
        },
        "id": "ZxJfYt8gvlTp",
        "outputId": "a2139b40-2550-497d-8f95-ff8f5c6a69b9"
      },
      "source": [
        "!pip install ConfigSpace"
      ],
      "execution_count": null,
      "outputs": [
        {
          "output_type": "stream",
          "name": "stdout",
          "text": [
            "Collecting ConfigSpace\n",
            "  Downloading ConfigSpace-0.4.20-cp37-cp37m-manylinux_2_17_x86_64.manylinux2014_x86_64.whl (4.2 MB)\n",
            "\u001b[K     |████████████████████████████████| 4.2 MB 5.0 MB/s \n",
            "\u001b[?25hRequirement already satisfied: numpy in /usr/local/lib/python3.7/dist-packages (from ConfigSpace) (1.19.5)\n",
            "Requirement already satisfied: pyparsing in /usr/local/lib/python3.7/dist-packages (from ConfigSpace) (3.0.6)\n",
            "Requirement already satisfied: cython in /usr/local/lib/python3.7/dist-packages (from ConfigSpace) (0.29.24)\n",
            "Installing collected packages: ConfigSpace\n",
            "Successfully installed ConfigSpace-0.4.20\n"
          ]
        }
      ]
    },
    {
      "cell_type": "code",
      "metadata": {
        "id": "kJko1pU3YnXH"
      },
      "source": [
        "# attempt with pipeline\n",
        "import category_encoders\n",
        "from sklearn.pipeline import Pipeline\n",
        "from sklearn.pipeline import make_pipeline\n",
        "from sklearn.preprocessing import StandardScaler\n",
        "from category_encoders.m_estimate import MEstimateEncoder\n",
        "from sklearn.decomposition import PCA\n",
        "from sklearn.linear_model import LogisticRegression\n",
        "from sklearn.tree import DecisionTreeClassifier\n",
        "from sklearn.model_selection import GridSearchCV, RandomizedSearchCV\n",
        "from sklearn.linear_model import LinearRegression\n",
        "from sklearn.svm import SVC\n",
        "from sklearn.metrics import f1_score, accuracy_score, fbeta_score, plot_roc_curve, make_scorer\n",
        "from sklearn.ensemble import RandomForestClassifier\n",
        "from sklearn.utils import resample\n",
        "from sklearn.neighbors import KNeighborsClassifier\n",
        "import scipy \n",
        "from ray import tune\n",
        "from tune_sklearn import TuneSearchCV\n",
        "import joblib\n",
        "from ray.util.joblib import register_ray\n",
        "from joblib import dump, load\n",
        "import matplotlib.pyplot as plt\n",
        "import seaborn as sns\n",
        "%matplotlib inline"
      ],
      "execution_count": null,
      "outputs": []
    },
    {
      "cell_type": "code",
      "metadata": {
        "colab": {
          "base_uri": "https://localhost:8080/",
          "height": 226
        },
        "id": "vNOkvssdZ2uj",
        "outputId": "9ee5ad9b-a624-4ea5-9f6d-2403873e5eb1"
      },
      "source": [
        "xTrain.head()"
      ],
      "execution_count": null,
      "outputs": [
        {
          "output_type": "execute_result",
          "data": {
            "text/html": [
              "<div>\n",
              "<style scoped>\n",
              "    .dataframe tbody tr th:only-of-type {\n",
              "        vertical-align: middle;\n",
              "    }\n",
              "\n",
              "    .dataframe tbody tr th {\n",
              "        vertical-align: top;\n",
              "    }\n",
              "\n",
              "    .dataframe thead th {\n",
              "        text-align: right;\n",
              "    }\n",
              "</style>\n",
              "<table border=\"1\" class=\"dataframe\">\n",
              "  <thead>\n",
              "    <tr style=\"text-align: right;\">\n",
              "      <th></th>\n",
              "      <th>DAY_OF_MONTH</th>\n",
              "      <th>DAY_OF_WEEK</th>\n",
              "      <th>OP_UNIQUE_CARRIER</th>\n",
              "      <th>ORIGIN</th>\n",
              "      <th>ORIGIN_STATE_ABR</th>\n",
              "      <th>DEST</th>\n",
              "      <th>DEST_STATE_ABR</th>\n",
              "      <th>CRS_DEP_TIME</th>\n",
              "      <th>DISTANCE</th>\n",
              "      <th>OP_UNIQUE_CARRIER_COUNT</th>\n",
              "      <th>ORIGIN_COUNT</th>\n",
              "      <th>ORIGIN_STATE_ABR_COUNT</th>\n",
              "      <th>DEST_COUNT</th>\n",
              "      <th>DEST_STATE_ABR_COUNT</th>\n",
              "      <th>DAY_OF_MONTH_COUNT</th>\n",
              "      <th>DAY_OF_WEEK_COUNT</th>\n",
              "    </tr>\n",
              "  </thead>\n",
              "  <tbody>\n",
              "    <tr>\n",
              "      <th>0</th>\n",
              "      <td>25</td>\n",
              "      <td>5</td>\n",
              "      <td>AS</td>\n",
              "      <td>SEA</td>\n",
              "      <td>WA</td>\n",
              "      <td>LAS</td>\n",
              "      <td>NV</td>\n",
              "      <td>764</td>\n",
              "      <td>867.0</td>\n",
              "      <td>33443</td>\n",
              "      <td>31081</td>\n",
              "      <td>37326</td>\n",
              "      <td>25237</td>\n",
              "      <td>29353</td>\n",
              "      <td>35393</td>\n",
              "      <td>159138</td>\n",
              "    </tr>\n",
              "    <tr>\n",
              "      <th>1</th>\n",
              "      <td>22</td>\n",
              "      <td>2</td>\n",
              "      <td>AA</td>\n",
              "      <td>TPA</td>\n",
              "      <td>FL</td>\n",
              "      <td>PHL</td>\n",
              "      <td>PA</td>\n",
              "      <td>1037</td>\n",
              "      <td>920.0</td>\n",
              "      <td>133648</td>\n",
              "      <td>11568</td>\n",
              "      <td>101143</td>\n",
              "      <td>15659</td>\n",
              "      <td>24236</td>\n",
              "      <td>34839</td>\n",
              "      <td>142857</td>\n",
              "    </tr>\n",
              "    <tr>\n",
              "      <th>2</th>\n",
              "      <td>2</td>\n",
              "      <td>5</td>\n",
              "      <td>WN</td>\n",
              "      <td>SDF</td>\n",
              "      <td>KY</td>\n",
              "      <td>RSW</td>\n",
              "      <td>FL</td>\n",
              "      <td>835</td>\n",
              "      <td>835.0</td>\n",
              "      <td>189831</td>\n",
              "      <td>3389</td>\n",
              "      <td>10368</td>\n",
              "      <td>6488</td>\n",
              "      <td>100895</td>\n",
              "      <td>33559</td>\n",
              "      <td>159138</td>\n",
              "    </tr>\n",
              "    <tr>\n",
              "      <th>3</th>\n",
              "      <td>14</td>\n",
              "      <td>1</td>\n",
              "      <td>AA</td>\n",
              "      <td>CLT</td>\n",
              "      <td>NC</td>\n",
              "      <td>BDL</td>\n",
              "      <td>CT</td>\n",
              "      <td>440</td>\n",
              "      <td>644.0</td>\n",
              "      <td>133648</td>\n",
              "      <td>36698</td>\n",
              "      <td>50388</td>\n",
              "      <td>3563</td>\n",
              "      <td>3619</td>\n",
              "      <td>35783</td>\n",
              "      <td>155277</td>\n",
              "    </tr>\n",
              "    <tr>\n",
              "      <th>4</th>\n",
              "      <td>7</td>\n",
              "      <td>3</td>\n",
              "      <td>WN</td>\n",
              "      <td>MEM</td>\n",
              "      <td>TN</td>\n",
              "      <td>ATL</td>\n",
              "      <td>GA</td>\n",
              "      <td>810</td>\n",
              "      <td>332.0</td>\n",
              "      <td>189831</td>\n",
              "      <td>3466</td>\n",
              "      <td>20443</td>\n",
              "      <td>55493</td>\n",
              "      <td>60531</td>\n",
              "      <td>35209</td>\n",
              "      <td>146538</td>\n",
              "    </tr>\n",
              "  </tbody>\n",
              "</table>\n",
              "</div>"
            ],
            "text/plain": [
              "  DAY_OF_MONTH DAY_OF_WEEK  ... DAY_OF_MONTH_COUNT DAY_OF_WEEK_COUNT\n",
              "0           25           5  ...              35393            159138\n",
              "1           22           2  ...              34839            142857\n",
              "2            2           5  ...              33559            159138\n",
              "3           14           1  ...              35783            155277\n",
              "4            7           3  ...              35209            146538\n",
              "\n",
              "[5 rows x 16 columns]"
            ]
          },
          "metadata": {},
          "execution_count": 13
        }
      ]
    },
    {
      "cell_type": "code",
      "metadata": {
        "id": "krMLnORWZ42f"
      },
      "source": [
        "xTrain1 = xTrain[['CRS_DEP_TIME','DISTANCE','OP_UNIQUE_CARRIER_COUNT','ORIGIN_COUNT','ORIGIN_STATE_ABR_COUNT','DEST_COUNT','DEST_STATE_ABR_COUNT','DAY_OF_WEEK_COUNT']]\n",
        "xTest1 = xTest[['CRS_DEP_TIME','DISTANCE','OP_UNIQUE_CARRIER_COUNT','ORIGIN_COUNT','ORIGIN_STATE_ABR_COUNT','DEST_COUNT','DEST_STATE_ABR_COUNT','DAY_OF_WEEK_COUNT']]"
      ],
      "execution_count": null,
      "outputs": []
    },
    {
      "cell_type": "code",
      "metadata": {
        "id": "9q9CajXpb77g"
      },
      "source": [
        "# import the class\n",
        "from sklearn.linear_model import LogisticRegression\n",
        "\n",
        "# instantiate the model (using the default parameters)\n",
        "lg = LogisticRegression()\n",
        "\n",
        "# fit the model with data\n",
        "lg.fit(xTrain1,yTrain['DEP_DEL15'])\n",
        "\n",
        "#\n",
        "y_pred=lg.predict(xTest1)"
      ],
      "execution_count": null,
      "outputs": []
    },
    {
      "cell_type": "code",
      "metadata": {
        "colab": {
          "base_uri": "https://localhost:8080/"
        },
        "id": "py2H3NJDdFGn",
        "outputId": "1f5f0b4f-e393-43bf-9466-95f5896ba1f0"
      },
      "source": [
        "# import the metrics class\n",
        "from sklearn import metrics\n",
        "lg_matrix = metrics.confusion_matrix(yTest['DEP_DEL15'], y_pred)\n",
        "lg_matrix"
      ],
      "execution_count": null,
      "outputs": [
        {
          "output_type": "execute_result",
          "data": {
            "text/plain": [
              "array([[414115,    815],\n",
              "       [112191,    663]])"
            ]
          },
          "metadata": {},
          "execution_count": 16
        }
      ]
    },
    {
      "cell_type": "code",
      "metadata": {
        "colab": {
          "base_uri": "https://localhost:8080/"
        },
        "id": "inGOn-20WJVk",
        "outputId": "4aaf7420-6402-4778-f3ef-9e1c2af6406a"
      },
      "source": [
        "matrix_past = np.array([[1396704,288457],[45589,38269]])\n",
        "matrix_past"
      ],
      "execution_count": 51,
      "outputs": [
        {
          "output_type": "execute_result",
          "data": {
            "text/plain": [
              "array([[1396704,  288457],\n",
              "       [  45589,   38269]])"
            ]
          },
          "metadata": {},
          "execution_count": 51
        }
      ]
    },
    {
      "cell_type": "code",
      "metadata": {
        "colab": {
          "base_uri": "https://localhost:8080/",
          "height": 331
        },
        "id": "nVLfIMBUWi9E",
        "outputId": "d043ae38-e002-4193-f2bf-7fe11a2382ac"
      },
      "source": [
        "class_names=[0,1] # name  of classes\n",
        "fig, ax = plt.subplots()\n",
        "tick_marks = np.arange(len(class_names))\n",
        "plt.xticks(tick_marks, class_names)\n",
        "plt.yticks(tick_marks, class_names)\n",
        "# create heatmap\n",
        "sns.heatmap(pd.DataFrame(matrix_past), annot=True, cmap=\"YlGnBu\" ,fmt='g')\n",
        "ax.xaxis.set_label_position(\"top\")\n",
        "plt.tight_layout()\n",
        "plt.title('Confusion matrix', y=1.1)\n",
        "plt.ylabel('Actual label')\n",
        "plt.xlabel('Predicted label')"
      ],
      "execution_count": 52,
      "outputs": [
        {
          "output_type": "execute_result",
          "data": {
            "text/plain": [
              "Text(0.5, 257.44, 'Predicted label')"
            ]
          },
          "metadata": {},
          "execution_count": 52
        },
        {
          "output_type": "display_data",
          "data": {
            "image/png": "[encoded data removed]",
            "text/plain": [
              "<Figure size 432x288 with 2 Axes>"
            ]
          },
          "metadata": {
            "needs_background": "light"
          }
        }
      ]
    },
    {
      "cell_type": "code",
      "metadata": {
        "colab": {
          "base_uri": "https://localhost:8080/",
          "height": 342
        },
        "id": "TzTjkghzeied",
        "outputId": "91330b81-eeb4-42b8-99ed-5b52022bf106"
      },
      "source": [
        "class_names=[0,1] # name  of classes\n",
        "fig, ax = plt.subplots()\n",
        "tick_marks = np.arange(len(class_names))\n",
        "plt.xticks(tick_marks, class_names)\n",
        "plt.yticks(tick_marks, class_names)\n",
        "# create heatmap\n",
        "sns.heatmap(pd.DataFrame(lg_matrix), annot=True, cmap=\"YlGnBu\" ,fmt='g')\n",
        "ax.xaxis.set_label_position(\"top\")\n",
        "plt.tight_layout()\n",
        "plt.title('Confusion matrix', y=1.1)\n",
        "plt.ylabel('Actual label')\n",
        "plt.xlabel('Predicted label')"
      ],
      "execution_count": null,
      "outputs": [
        {
          "output_type": "execute_result",
          "data": {
            "text/plain": [
              "Text(0.5, 257.44, 'Predicted label')"
            ]
          },
          "metadata": {},
          "execution_count": 17
        },
        {
          "output_type": "display_data",
          "data": {
            "image/png": "[encoded data removed]",
            "text/plain": [
              "<Figure size 432x288 with 2 Axes>"
            ]
          },
          "metadata": {
            "needs_background": "light"
          }
        }
      ]
    },
    {
      "cell_type": "code",
      "metadata": {
        "id": "Gd07PklpQ_77"
      },
      "source": [
        "# create a list of our conditions\n",
        "conditions = [\n",
        "    (xTrain['CRS_DEP_TIME'] <= 360),\n",
        "    (xTrain['CRS_DEP_TIME'] > 360) & (xTrain['CRS_DEP_TIME'] <= 720),\n",
        "    (xTrain['CRS_DEP_TIME'] > 720) & (xTrain['CRS_DEP_TIME'] <= 1080),\n",
        "    (xTrain['CRS_DEP_TIME'] > 1080)\n",
        "    ]\n",
        "\n",
        "# create a list of the values we want to assign for each condition\n",
        "values = ['0-6', '6-12', '12-18', '18-24']\n",
        "\n",
        "# create a new column and use np.select to assign values to it using our lists as arguments\n",
        "xTrain['DEP_TIME'] = np.select(conditions, values)"
      ],
      "execution_count": null,
      "outputs": []
    },
    {
      "cell_type": "code",
      "metadata": {
        "id": "FSC4rY61U09p"
      },
      "source": [
        "# create a list of our conditions\n",
        "conditions = [\n",
        "    (xTest['CRS_DEP_TIME'] <= 360),\n",
        "    (xTest['CRS_DEP_TIME'] > 360) & (xTest['CRS_DEP_TIME'] <= 720),\n",
        "    (xTest['CRS_DEP_TIME'] > 720) & (xTest['CRS_DEP_TIME'] <= 1080),\n",
        "    (xTest['CRS_DEP_TIME'] > 1080)\n",
        "    ]\n",
        "\n",
        "# create a list of the values we want to assign for each condition\n",
        "values = ['0-6', '6-12', '12-18', '18-24']\n",
        "\n",
        "# create a new column and use np.select to assign values to it using our lists as arguments\n",
        "xTest['DEP_TIME'] = np.select(conditions, values)"
      ],
      "execution_count": null,
      "outputs": []
    },
    {
      "cell_type": "code",
      "metadata": {
        "colab": {
          "base_uri": "https://localhost:8080/"
        },
        "id": "LcjBg5eaTpXg",
        "outputId": "b2922f64-f983-46f6-ea38-01ad72992564"
      },
      "source": [
        "# Carrier Distribution\n",
        "time_count = xTrain.groupby(\"DEP_TIME\").size()\n",
        "time_count"
      ],
      "execution_count": null,
      "outputs": [
        {
          "output_type": "execute_result",
          "data": {
            "text/plain": [
              "DEP_TIME\n",
              "0-6       42984\n",
              "12-18    383835\n",
              "18-24    233149\n",
              "6-12     411593\n",
              "dtype: int64"
            ]
          },
          "metadata": {},
          "execution_count": 20
        }
      ]
    },
    {
      "cell_type": "code",
      "metadata": {
        "colab": {
          "base_uri": "https://localhost:8080/",
          "height": 206
        },
        "id": "SWzjXUUUVZwS",
        "outputId": "3b229779-dc69-4ad8-b077-c2ff2f7ec51b"
      },
      "source": [
        "xTrain1 = xTrain[['DISTANCE','DAY_OF_WEEK','OP_UNIQUE_CARRIER','ORIGIN_STATE_ABR','DEST_STATE_ABR','DEP_TIME']]\n",
        "xTest1 = xTest[['DISTANCE','DAY_OF_WEEK','OP_UNIQUE_CARRIER','ORIGIN_STATE_ABR','DEST_STATE_ABR','DEP_TIME']]\n",
        "xTrain1.head()"
      ],
      "execution_count": null,
      "outputs": [
        {
          "output_type": "execute_result",
          "data": {
            "text/html": [
              "<div>\n",
              "<style scoped>\n",
              "    .dataframe tbody tr th:only-of-type {\n",
              "        vertical-align: middle;\n",
              "    }\n",
              "\n",
              "    .dataframe tbody tr th {\n",
              "        vertical-align: top;\n",
              "    }\n",
              "\n",
              "    .dataframe thead th {\n",
              "        text-align: right;\n",
              "    }\n",
              "</style>\n",
              "<table border=\"1\" class=\"dataframe\">\n",
              "  <thead>\n",
              "    <tr style=\"text-align: right;\">\n",
              "      <th></th>\n",
              "      <th>DISTANCE</th>\n",
              "      <th>DAY_OF_WEEK</th>\n",
              "      <th>OP_UNIQUE_CARRIER</th>\n",
              "      <th>ORIGIN_STATE_ABR</th>\n",
              "      <th>DEST_STATE_ABR</th>\n",
              "      <th>DEP_TIME</th>\n",
              "    </tr>\n",
              "  </thead>\n",
              "  <tbody>\n",
              "    <tr>\n",
              "      <th>0</th>\n",
              "      <td>867.0</td>\n",
              "      <td>5</td>\n",
              "      <td>AS</td>\n",
              "      <td>WA</td>\n",
              "      <td>NV</td>\n",
              "      <td>12-18</td>\n",
              "    </tr>\n",
              "    <tr>\n",
              "      <th>1</th>\n",
              "      <td>920.0</td>\n",
              "      <td>2</td>\n",
              "      <td>AA</td>\n",
              "      <td>FL</td>\n",
              "      <td>PA</td>\n",
              "      <td>12-18</td>\n",
              "    </tr>\n",
              "    <tr>\n",
              "      <th>2</th>\n",
              "      <td>835.0</td>\n",
              "      <td>5</td>\n",
              "      <td>WN</td>\n",
              "      <td>KY</td>\n",
              "      <td>FL</td>\n",
              "      <td>12-18</td>\n",
              "    </tr>\n",
              "    <tr>\n",
              "      <th>3</th>\n",
              "      <td>644.0</td>\n",
              "      <td>1</td>\n",
              "      <td>AA</td>\n",
              "      <td>NC</td>\n",
              "      <td>CT</td>\n",
              "      <td>6-12</td>\n",
              "    </tr>\n",
              "    <tr>\n",
              "      <th>4</th>\n",
              "      <td>332.0</td>\n",
              "      <td>3</td>\n",
              "      <td>WN</td>\n",
              "      <td>TN</td>\n",
              "      <td>GA</td>\n",
              "      <td>12-18</td>\n",
              "    </tr>\n",
              "  </tbody>\n",
              "</table>\n",
              "</div>"
            ],
            "text/plain": [
              "   DISTANCE DAY_OF_WEEK  ... DEST_STATE_ABR DEP_TIME\n",
              "0     867.0           5  ...             NV    12-18\n",
              "1     920.0           2  ...             PA    12-18\n",
              "2     835.0           5  ...             FL    12-18\n",
              "3     644.0           1  ...             CT     6-12\n",
              "4     332.0           3  ...             GA    12-18\n",
              "\n",
              "[5 rows x 6 columns]"
            ]
          },
          "metadata": {},
          "execution_count": 21
        }
      ]
    },
    {
      "cell_type": "code",
      "metadata": {
        "colab": {
          "base_uri": "https://localhost:8080/"
        },
        "id": "fslkFHWiWSMh",
        "outputId": "846c2fad-f05e-438d-9fe5-a88d01ad56e5"
      },
      "source": [
        "xTrain1['DAY_OF_WEEK'] = xTrain1['DAY_OF_WEEK'].apply(str)\n",
        "xTest1['DAY_OF_WEEK'] = xTest1['DAY_OF_WEEK'].apply(str)\n",
        "xTrain1.dtypes"
      ],
      "execution_count": null,
      "outputs": [
        {
          "output_type": "stream",
          "name": "stderr",
          "text": [
            "/usr/local/lib/python3.7/dist-packages/ipykernel_launcher.py:1: SettingWithCopyWarning: \n",
            "A value is trying to be set on a copy of a slice from a DataFrame.\n",
            "Try using .loc[row_indexer,col_indexer] = value instead\n",
            "\n",
            "See the caveats in the documentation: https://pandas.pydata.org/pandas-docs/stable/user_guide/indexing.html#returning-a-view-versus-a-copy\n",
            "  \"\"\"Entry point for launching an IPython kernel.\n",
            "/usr/local/lib/python3.7/dist-packages/ipykernel_launcher.py:2: SettingWithCopyWarning: \n",
            "A value is trying to be set on a copy of a slice from a DataFrame.\n",
            "Try using .loc[row_indexer,col_indexer] = value instead\n",
            "\n",
            "See the caveats in the documentation: https://pandas.pydata.org/pandas-docs/stable/user_guide/indexing.html#returning-a-view-versus-a-copy\n",
            "  \n"
          ]
        },
        {
          "output_type": "execute_result",
          "data": {
            "text/plain": [
              "DISTANCE             float64\n",
              "DAY_OF_WEEK           object\n",
              "OP_UNIQUE_CARRIER     object\n",
              "ORIGIN_STATE_ABR      object\n",
              "DEST_STATE_ABR        object\n",
              "DEP_TIME              object\n",
              "dtype: object"
            ]
          },
          "metadata": {},
          "execution_count": 22
        }
      ]
    },
    {
      "cell_type": "code",
      "metadata": {
        "colab": {
          "base_uri": "https://localhost:8080/",
          "height": 206
        },
        "id": "VMDS-SMaWnK9",
        "outputId": "a37e2b9d-1d44-44b5-ac33-4fdcebda2548"
      },
      "source": [
        "yTrain1 = yTrain[['DEP_DEL15']]\n",
        "yTest1 = yTest[['DEP_DEL15']]\n",
        "yTrain1.head()"
      ],
      "execution_count": null,
      "outputs": [
        {
          "output_type": "execute_result",
          "data": {
            "text/html": [
              "<div>\n",
              "<style scoped>\n",
              "    .dataframe tbody tr th:only-of-type {\n",
              "        vertical-align: middle;\n",
              "    }\n",
              "\n",
              "    .dataframe tbody tr th {\n",
              "        vertical-align: top;\n",
              "    }\n",
              "\n",
              "    .dataframe thead th {\n",
              "        text-align: right;\n",
              "    }\n",
              "</style>\n",
              "<table border=\"1\" class=\"dataframe\">\n",
              "  <thead>\n",
              "    <tr style=\"text-align: right;\">\n",
              "      <th></th>\n",
              "      <th>DEP_DEL15</th>\n",
              "    </tr>\n",
              "  </thead>\n",
              "  <tbody>\n",
              "    <tr>\n",
              "      <th>0</th>\n",
              "      <td>0.0</td>\n",
              "    </tr>\n",
              "    <tr>\n",
              "      <th>1</th>\n",
              "      <td>1.0</td>\n",
              "    </tr>\n",
              "    <tr>\n",
              "      <th>2</th>\n",
              "      <td>1.0</td>\n",
              "    </tr>\n",
              "    <tr>\n",
              "      <th>3</th>\n",
              "      <td>0.0</td>\n",
              "    </tr>\n",
              "    <tr>\n",
              "      <th>4</th>\n",
              "      <td>1.0</td>\n",
              "    </tr>\n",
              "  </tbody>\n",
              "</table>\n",
              "</div>"
            ],
            "text/plain": [
              "   DEP_DEL15\n",
              "0        0.0\n",
              "1        1.0\n",
              "2        1.0\n",
              "3        0.0\n",
              "4        1.0"
            ]
          },
          "metadata": {},
          "execution_count": 23
        }
      ]
    },
    {
      "cell_type": "code",
      "metadata": {
        "colab": {
          "base_uri": "https://localhost:8080/",
          "height": 273
        },
        "id": "DmB2qIX5XMqL",
        "outputId": "b950f7c8-2693-4cc6-d29d-b08a07e8be79"
      },
      "source": [
        "# One-hot encode the data using pandas get_dummies\n",
        "xTrain2 = pd.get_dummies(xTrain1)\n",
        "xTest2 = pd.get_dummies(xTest1)\n",
        "xTrain2.head()"
      ],
      "execution_count": null,
      "outputs": [
        {
          "output_type": "execute_result",
          "data": {
            "text/html": [
              "<div>\n",
              "<style scoped>\n",
              "    .dataframe tbody tr th:only-of-type {\n",
              "        vertical-align: middle;\n",
              "    }\n",
              "\n",
              "    .dataframe tbody tr th {\n",
              "        vertical-align: top;\n",
              "    }\n",
              "\n",
              "    .dataframe thead th {\n",
              "        text-align: right;\n",
              "    }\n",
              "</style>\n",
              "<table border=\"1\" class=\"dataframe\">\n",
              "  <thead>\n",
              "    <tr style=\"text-align: right;\">\n",
              "      <th></th>\n",
              "      <th>DISTANCE</th>\n",
              "      <th>DAY_OF_WEEK_1</th>\n",
              "      <th>DAY_OF_WEEK_2</th>\n",
              "      <th>DAY_OF_WEEK_3</th>\n",
              "      <th>DAY_OF_WEEK_4</th>\n",
              "      <th>DAY_OF_WEEK_5</th>\n",
              "      <th>DAY_OF_WEEK_6</th>\n",
              "      <th>DAY_OF_WEEK_7</th>\n",
              "      <th>OP_UNIQUE_CARRIER_9E</th>\n",
              "      <th>OP_UNIQUE_CARRIER_AA</th>\n",
              "      <th>OP_UNIQUE_CARRIER_AS</th>\n",
              "      <th>OP_UNIQUE_CARRIER_B6</th>\n",
              "      <th>OP_UNIQUE_CARRIER_DL</th>\n",
              "      <th>OP_UNIQUE_CARRIER_F9</th>\n",
              "      <th>OP_UNIQUE_CARRIER_G4</th>\n",
              "      <th>OP_UNIQUE_CARRIER_HA</th>\n",
              "      <th>OP_UNIQUE_CARRIER_MQ</th>\n",
              "      <th>OP_UNIQUE_CARRIER_NK</th>\n",
              "      <th>OP_UNIQUE_CARRIER_OH</th>\n",
              "      <th>OP_UNIQUE_CARRIER_OO</th>\n",
              "      <th>OP_UNIQUE_CARRIER_QX</th>\n",
              "      <th>OP_UNIQUE_CARRIER_UA</th>\n",
              "      <th>OP_UNIQUE_CARRIER_WN</th>\n",
              "      <th>OP_UNIQUE_CARRIER_YV</th>\n",
              "      <th>OP_UNIQUE_CARRIER_YX</th>\n",
              "      <th>ORIGIN_STATE_ABR_AK</th>\n",
              "      <th>ORIGIN_STATE_ABR_AL</th>\n",
              "      <th>ORIGIN_STATE_ABR_AR</th>\n",
              "      <th>ORIGIN_STATE_ABR_AZ</th>\n",
              "      <th>ORIGIN_STATE_ABR_CA</th>\n",
              "      <th>ORIGIN_STATE_ABR_CO</th>\n",
              "      <th>ORIGIN_STATE_ABR_CT</th>\n",
              "      <th>ORIGIN_STATE_ABR_DE</th>\n",
              "      <th>ORIGIN_STATE_ABR_FL</th>\n",
              "      <th>ORIGIN_STATE_ABR_GA</th>\n",
              "      <th>ORIGIN_STATE_ABR_HI</th>\n",
              "      <th>ORIGIN_STATE_ABR_IA</th>\n",
              "      <th>ORIGIN_STATE_ABR_ID</th>\n",
              "      <th>ORIGIN_STATE_ABR_IL</th>\n",
              "      <th>ORIGIN_STATE_ABR_IN</th>\n",
              "      <th>...</th>\n",
              "      <th>DEST_STATE_ABR_LA</th>\n",
              "      <th>DEST_STATE_ABR_MA</th>\n",
              "      <th>DEST_STATE_ABR_MD</th>\n",
              "      <th>DEST_STATE_ABR_ME</th>\n",
              "      <th>DEST_STATE_ABR_MI</th>\n",
              "      <th>DEST_STATE_ABR_MN</th>\n",
              "      <th>DEST_STATE_ABR_MO</th>\n",
              "      <th>DEST_STATE_ABR_MS</th>\n",
              "      <th>DEST_STATE_ABR_MT</th>\n",
              "      <th>DEST_STATE_ABR_NC</th>\n",
              "      <th>DEST_STATE_ABR_ND</th>\n",
              "      <th>DEST_STATE_ABR_NE</th>\n",
              "      <th>DEST_STATE_ABR_NH</th>\n",
              "      <th>DEST_STATE_ABR_NJ</th>\n",
              "      <th>DEST_STATE_ABR_NM</th>\n",
              "      <th>DEST_STATE_ABR_NV</th>\n",
              "      <th>DEST_STATE_ABR_NY</th>\n",
              "      <th>DEST_STATE_ABR_OH</th>\n",
              "      <th>DEST_STATE_ABR_OK</th>\n",
              "      <th>DEST_STATE_ABR_OR</th>\n",
              "      <th>DEST_STATE_ABR_PA</th>\n",
              "      <th>DEST_STATE_ABR_PR</th>\n",
              "      <th>DEST_STATE_ABR_RI</th>\n",
              "      <th>DEST_STATE_ABR_SC</th>\n",
              "      <th>DEST_STATE_ABR_SD</th>\n",
              "      <th>DEST_STATE_ABR_TN</th>\n",
              "      <th>DEST_STATE_ABR_TT</th>\n",
              "      <th>DEST_STATE_ABR_TX</th>\n",
              "      <th>DEST_STATE_ABR_UT</th>\n",
              "      <th>DEST_STATE_ABR_VA</th>\n",
              "      <th>DEST_STATE_ABR_VI</th>\n",
              "      <th>DEST_STATE_ABR_VT</th>\n",
              "      <th>DEST_STATE_ABR_WA</th>\n",
              "      <th>DEST_STATE_ABR_WI</th>\n",
              "      <th>DEST_STATE_ABR_WV</th>\n",
              "      <th>DEST_STATE_ABR_WY</th>\n",
              "      <th>DEP_TIME_0-6</th>\n",
              "      <th>DEP_TIME_12-18</th>\n",
              "      <th>DEP_TIME_18-24</th>\n",
              "      <th>DEP_TIME_6-12</th>\n",
              "    </tr>\n",
              "  </thead>\n",
              "  <tbody>\n",
              "    <tr>\n",
              "      <th>0</th>\n",
              "      <td>867.0</td>\n",
              "      <td>0</td>\n",
              "      <td>0</td>\n",
              "      <td>0</td>\n",
              "      <td>0</td>\n",
              "      <td>1</td>\n",
              "      <td>0</td>\n",
              "      <td>0</td>\n",
              "      <td>0</td>\n",
              "      <td>0</td>\n",
              "      <td>1</td>\n",
              "      <td>0</td>\n",
              "      <td>0</td>\n",
              "      <td>0</td>\n",
              "      <td>0</td>\n",
              "      <td>0</td>\n",
              "      <td>0</td>\n",
              "      <td>0</td>\n",
              "      <td>0</td>\n",
              "      <td>0</td>\n",
              "      <td>0</td>\n",
              "      <td>0</td>\n",
              "      <td>0</td>\n",
              "      <td>0</td>\n",
              "      <td>0</td>\n",
              "      <td>0</td>\n",
              "      <td>0</td>\n",
              "      <td>0</td>\n",
              "      <td>0</td>\n",
              "      <td>0</td>\n",
              "      <td>0</td>\n",
              "      <td>0</td>\n",
              "      <td>0</td>\n",
              "      <td>0</td>\n",
              "      <td>0</td>\n",
              "      <td>0</td>\n",
              "      <td>0</td>\n",
              "      <td>0</td>\n",
              "      <td>0</td>\n",
              "      <td>0</td>\n",
              "      <td>...</td>\n",
              "      <td>0</td>\n",
              "      <td>0</td>\n",
              "      <td>0</td>\n",
              "      <td>0</td>\n",
              "      <td>0</td>\n",
              "      <td>0</td>\n",
              "      <td>0</td>\n",
              "      <td>0</td>\n",
              "      <td>0</td>\n",
              "      <td>0</td>\n",
              "      <td>0</td>\n",
              "      <td>0</td>\n",
              "      <td>0</td>\n",
              "      <td>0</td>\n",
              "      <td>0</td>\n",
              "      <td>1</td>\n",
              "      <td>0</td>\n",
              "      <td>0</td>\n",
              "      <td>0</td>\n",
              "      <td>0</td>\n",
              "      <td>0</td>\n",
              "      <td>0</td>\n",
              "      <td>0</td>\n",
              "      <td>0</td>\n",
              "      <td>0</td>\n",
              "      <td>0</td>\n",
              "      <td>0</td>\n",
              "      <td>0</td>\n",
              "      <td>0</td>\n",
              "      <td>0</td>\n",
              "      <td>0</td>\n",
              "      <td>0</td>\n",
              "      <td>0</td>\n",
              "      <td>0</td>\n",
              "      <td>0</td>\n",
              "      <td>0</td>\n",
              "      <td>0</td>\n",
              "      <td>1</td>\n",
              "      <td>0</td>\n",
              "      <td>0</td>\n",
              "    </tr>\n",
              "    <tr>\n",
              "      <th>1</th>\n",
              "      <td>920.0</td>\n",
              "      <td>0</td>\n",
              "      <td>1</td>\n",
              "      <td>0</td>\n",
              "      <td>0</td>\n",
              "      <td>0</td>\n",
              "      <td>0</td>\n",
              "      <td>0</td>\n",
              "      <td>0</td>\n",
              "      <td>1</td>\n",
              "      <td>0</td>\n",
              "      <td>0</td>\n",
              "      <td>0</td>\n",
              "      <td>0</td>\n",
              "      <td>0</td>\n",
              "      <td>0</td>\n",
              "      <td>0</td>\n",
              "      <td>0</td>\n",
              "      <td>0</td>\n",
              "      <td>0</td>\n",
              "      <td>0</td>\n",
              "      <td>0</td>\n",
              "      <td>0</td>\n",
              "      <td>0</td>\n",
              "      <td>0</td>\n",
              "      <td>0</td>\n",
              "      <td>0</td>\n",
              "      <td>0</td>\n",
              "      <td>0</td>\n",
              "      <td>0</td>\n",
              "      <td>0</td>\n",
              "      <td>0</td>\n",
              "      <td>0</td>\n",
              "      <td>1</td>\n",
              "      <td>0</td>\n",
              "      <td>0</td>\n",
              "      <td>0</td>\n",
              "      <td>0</td>\n",
              "      <td>0</td>\n",
              "      <td>0</td>\n",
              "      <td>...</td>\n",
              "      <td>0</td>\n",
              "      <td>0</td>\n",
              "      <td>0</td>\n",
              "      <td>0</td>\n",
              "      <td>0</td>\n",
              "      <td>0</td>\n",
              "      <td>0</td>\n",
              "      <td>0</td>\n",
              "      <td>0</td>\n",
              "      <td>0</td>\n",
              "      <td>0</td>\n",
              "      <td>0</td>\n",
              "      <td>0</td>\n",
              "      <td>0</td>\n",
              "      <td>0</td>\n",
              "      <td>0</td>\n",
              "      <td>0</td>\n",
              "      <td>0</td>\n",
              "      <td>0</td>\n",
              "      <td>0</td>\n",
              "      <td>1</td>\n",
              "      <td>0</td>\n",
              "      <td>0</td>\n",
              "      <td>0</td>\n",
              "      <td>0</td>\n",
              "      <td>0</td>\n",
              "      <td>0</td>\n",
              "      <td>0</td>\n",
              "      <td>0</td>\n",
              "      <td>0</td>\n",
              "      <td>0</td>\n",
              "      <td>0</td>\n",
              "      <td>0</td>\n",
              "      <td>0</td>\n",
              "      <td>0</td>\n",
              "      <td>0</td>\n",
              "      <td>0</td>\n",
              "      <td>1</td>\n",
              "      <td>0</td>\n",
              "      <td>0</td>\n",
              "    </tr>\n",
              "    <tr>\n",
              "      <th>2</th>\n",
              "      <td>835.0</td>\n",
              "      <td>0</td>\n",
              "      <td>0</td>\n",
              "      <td>0</td>\n",
              "      <td>0</td>\n",
              "      <td>1</td>\n",
              "      <td>0</td>\n",
              "      <td>0</td>\n",
              "      <td>0</td>\n",
              "      <td>0</td>\n",
              "      <td>0</td>\n",
              "      <td>0</td>\n",
              "      <td>0</td>\n",
              "      <td>0</td>\n",
              "      <td>0</td>\n",
              "      <td>0</td>\n",
              "      <td>0</td>\n",
              "      <td>0</td>\n",
              "      <td>0</td>\n",
              "      <td>0</td>\n",
              "      <td>0</td>\n",
              "      <td>0</td>\n",
              "      <td>1</td>\n",
              "      <td>0</td>\n",
              "      <td>0</td>\n",
              "      <td>0</td>\n",
              "      <td>0</td>\n",
              "      <td>0</td>\n",
              "      <td>0</td>\n",
              "      <td>0</td>\n",
              "      <td>0</td>\n",
              "      <td>0</td>\n",
              "      <td>0</td>\n",
              "      <td>0</td>\n",
              "      <td>0</td>\n",
              "      <td>0</td>\n",
              "      <td>0</td>\n",
              "      <td>0</td>\n",
              "      <td>0</td>\n",
              "      <td>0</td>\n",
              "      <td>...</td>\n",
              "      <td>0</td>\n",
              "      <td>0</td>\n",
              "      <td>0</td>\n",
              "      <td>0</td>\n",
              "      <td>0</td>\n",
              "      <td>0</td>\n",
              "      <td>0</td>\n",
              "      <td>0</td>\n",
              "      <td>0</td>\n",
              "      <td>0</td>\n",
              "      <td>0</td>\n",
              "      <td>0</td>\n",
              "      <td>0</td>\n",
              "      <td>0</td>\n",
              "      <td>0</td>\n",
              "      <td>0</td>\n",
              "      <td>0</td>\n",
              "      <td>0</td>\n",
              "      <td>0</td>\n",
              "      <td>0</td>\n",
              "      <td>0</td>\n",
              "      <td>0</td>\n",
              "      <td>0</td>\n",
              "      <td>0</td>\n",
              "      <td>0</td>\n",
              "      <td>0</td>\n",
              "      <td>0</td>\n",
              "      <td>0</td>\n",
              "      <td>0</td>\n",
              "      <td>0</td>\n",
              "      <td>0</td>\n",
              "      <td>0</td>\n",
              "      <td>0</td>\n",
              "      <td>0</td>\n",
              "      <td>0</td>\n",
              "      <td>0</td>\n",
              "      <td>0</td>\n",
              "      <td>1</td>\n",
              "      <td>0</td>\n",
              "      <td>0</td>\n",
              "    </tr>\n",
              "    <tr>\n",
              "      <th>3</th>\n",
              "      <td>644.0</td>\n",
              "      <td>1</td>\n",
              "      <td>0</td>\n",
              "      <td>0</td>\n",
              "      <td>0</td>\n",
              "      <td>0</td>\n",
              "      <td>0</td>\n",
              "      <td>0</td>\n",
              "      <td>0</td>\n",
              "      <td>1</td>\n",
              "      <td>0</td>\n",
              "      <td>0</td>\n",
              "      <td>0</td>\n",
              "      <td>0</td>\n",
              "      <td>0</td>\n",
              "      <td>0</td>\n",
              "      <td>0</td>\n",
              "      <td>0</td>\n",
              "      <td>0</td>\n",
              "      <td>0</td>\n",
              "      <td>0</td>\n",
              "      <td>0</td>\n",
              "      <td>0</td>\n",
              "      <td>0</td>\n",
              "      <td>0</td>\n",
              "      <td>0</td>\n",
              "      <td>0</td>\n",
              "      <td>0</td>\n",
              "      <td>0</td>\n",
              "      <td>0</td>\n",
              "      <td>0</td>\n",
              "      <td>0</td>\n",
              "      <td>0</td>\n",
              "      <td>0</td>\n",
              "      <td>0</td>\n",
              "      <td>0</td>\n",
              "      <td>0</td>\n",
              "      <td>0</td>\n",
              "      <td>0</td>\n",
              "      <td>0</td>\n",
              "      <td>...</td>\n",
              "      <td>0</td>\n",
              "      <td>0</td>\n",
              "      <td>0</td>\n",
              "      <td>0</td>\n",
              "      <td>0</td>\n",
              "      <td>0</td>\n",
              "      <td>0</td>\n",
              "      <td>0</td>\n",
              "      <td>0</td>\n",
              "      <td>0</td>\n",
              "      <td>0</td>\n",
              "      <td>0</td>\n",
              "      <td>0</td>\n",
              "      <td>0</td>\n",
              "      <td>0</td>\n",
              "      <td>0</td>\n",
              "      <td>0</td>\n",
              "      <td>0</td>\n",
              "      <td>0</td>\n",
              "      <td>0</td>\n",
              "      <td>0</td>\n",
              "      <td>0</td>\n",
              "      <td>0</td>\n",
              "      <td>0</td>\n",
              "      <td>0</td>\n",
              "      <td>0</td>\n",
              "      <td>0</td>\n",
              "      <td>0</td>\n",
              "      <td>0</td>\n",
              "      <td>0</td>\n",
              "      <td>0</td>\n",
              "      <td>0</td>\n",
              "      <td>0</td>\n",
              "      <td>0</td>\n",
              "      <td>0</td>\n",
              "      <td>0</td>\n",
              "      <td>0</td>\n",
              "      <td>0</td>\n",
              "      <td>0</td>\n",
              "      <td>1</td>\n",
              "    </tr>\n",
              "    <tr>\n",
              "      <th>4</th>\n",
              "      <td>332.0</td>\n",
              "      <td>0</td>\n",
              "      <td>0</td>\n",
              "      <td>1</td>\n",
              "      <td>0</td>\n",
              "      <td>0</td>\n",
              "      <td>0</td>\n",
              "      <td>0</td>\n",
              "      <td>0</td>\n",
              "      <td>0</td>\n",
              "      <td>0</td>\n",
              "      <td>0</td>\n",
              "      <td>0</td>\n",
              "      <td>0</td>\n",
              "      <td>0</td>\n",
              "      <td>0</td>\n",
              "      <td>0</td>\n",
              "      <td>0</td>\n",
              "      <td>0</td>\n",
              "      <td>0</td>\n",
              "      <td>0</td>\n",
              "      <td>0</td>\n",
              "      <td>1</td>\n",
              "      <td>0</td>\n",
              "      <td>0</td>\n",
              "      <td>0</td>\n",
              "      <td>0</td>\n",
              "      <td>0</td>\n",
              "      <td>0</td>\n",
              "      <td>0</td>\n",
              "      <td>0</td>\n",
              "      <td>0</td>\n",
              "      <td>0</td>\n",
              "      <td>0</td>\n",
              "      <td>0</td>\n",
              "      <td>0</td>\n",
              "      <td>0</td>\n",
              "      <td>0</td>\n",
              "      <td>0</td>\n",
              "      <td>0</td>\n",
              "      <td>...</td>\n",
              "      <td>0</td>\n",
              "      <td>0</td>\n",
              "      <td>0</td>\n",
              "      <td>0</td>\n",
              "      <td>0</td>\n",
              "      <td>0</td>\n",
              "      <td>0</td>\n",
              "      <td>0</td>\n",
              "      <td>0</td>\n",
              "      <td>0</td>\n",
              "      <td>0</td>\n",
              "      <td>0</td>\n",
              "      <td>0</td>\n",
              "      <td>0</td>\n",
              "      <td>0</td>\n",
              "      <td>0</td>\n",
              "      <td>0</td>\n",
              "      <td>0</td>\n",
              "      <td>0</td>\n",
              "      <td>0</td>\n",
              "      <td>0</td>\n",
              "      <td>0</td>\n",
              "      <td>0</td>\n",
              "      <td>0</td>\n",
              "      <td>0</td>\n",
              "      <td>0</td>\n",
              "      <td>0</td>\n",
              "      <td>0</td>\n",
              "      <td>0</td>\n",
              "      <td>0</td>\n",
              "      <td>0</td>\n",
              "      <td>0</td>\n",
              "      <td>0</td>\n",
              "      <td>0</td>\n",
              "      <td>0</td>\n",
              "      <td>0</td>\n",
              "      <td>0</td>\n",
              "      <td>1</td>\n",
              "      <td>0</td>\n",
              "      <td>0</td>\n",
              "    </tr>\n",
              "  </tbody>\n",
              "</table>\n",
              "<p>5 rows × 135 columns</p>\n",
              "</div>"
            ],
            "text/plain": [
              "   DISTANCE  DAY_OF_WEEK_1  ...  DEP_TIME_18-24  DEP_TIME_6-12\n",
              "0     867.0              0  ...               0              0\n",
              "1     920.0              0  ...               0              0\n",
              "2     835.0              0  ...               0              0\n",
              "3     644.0              1  ...               0              1\n",
              "4     332.0              0  ...               0              0\n",
              "\n",
              "[5 rows x 135 columns]"
            ]
          },
          "metadata": {},
          "execution_count": 24
        }
      ]
    },
    {
      "cell_type": "code",
      "metadata": {
        "id": "0gN5K8fmXm89"
      },
      "source": [
        "ss = StandardScaler()"
      ],
      "execution_count": null,
      "outputs": []
    },
    {
      "cell_type": "code",
      "metadata": {
        "colab": {
          "base_uri": "https://localhost:8080/"
        },
        "id": "HGoJFmnXagHh",
        "outputId": "ce16d802-88f7-4d76-faf3-907c83fd4330"
      },
      "source": [
        "dist_train = np.array(xTrain2[['DISTANCE']])\n",
        "dist_test = np.array(xTest2[['DISTANCE']])\n",
        "dist_train"
      ],
      "execution_count": null,
      "outputs": [
        {
          "output_type": "execute_result",
          "data": {
            "text/plain": [
              "array([[ 867.],\n",
              "       [ 920.],\n",
              "       [ 835.],\n",
              "       ...,\n",
              "       [1050.],\n",
              "       [ 455.],\n",
              "       [ 404.]])"
            ]
          },
          "metadata": {},
          "execution_count": 26
        }
      ]
    },
    {
      "cell_type": "code",
      "metadata": {
        "colab": {
          "base_uri": "https://localhost:8080/",
          "height": 424
        },
        "id": "jTTEMvDWYND-",
        "outputId": "2211b8dd-87e0-4d00-8062-b3fadc362635"
      },
      "source": [
        "dist_train = ss.fit_transform(dist_train)\n",
        "dist_test = ss.transform(dist_test)\n",
        "pd.DataFrame(dist_train)"
      ],
      "execution_count": null,
      "outputs": [
        {
          "output_type": "execute_result",
          "data": {
            "text/html": [
              "<div>\n",
              "<style scoped>\n",
              "    .dataframe tbody tr th:only-of-type {\n",
              "        vertical-align: middle;\n",
              "    }\n",
              "\n",
              "    .dataframe tbody tr th {\n",
              "        vertical-align: top;\n",
              "    }\n",
              "\n",
              "    .dataframe thead th {\n",
              "        text-align: right;\n",
              "    }\n",
              "</style>\n",
              "<table border=\"1\" class=\"dataframe\">\n",
              "  <thead>\n",
              "    <tr style=\"text-align: right;\">\n",
              "      <th></th>\n",
              "      <th>0</th>\n",
              "    </tr>\n",
              "  </thead>\n",
              "  <tbody>\n",
              "    <tr>\n",
              "      <th>0</th>\n",
              "      <td>0.070210</td>\n",
              "    </tr>\n",
              "    <tr>\n",
              "      <th>1</th>\n",
              "      <td>0.159106</td>\n",
              "    </tr>\n",
              "    <tr>\n",
              "      <th>2</th>\n",
              "      <td>0.016537</td>\n",
              "    </tr>\n",
              "    <tr>\n",
              "      <th>3</th>\n",
              "      <td>-0.303823</td>\n",
              "    </tr>\n",
              "    <tr>\n",
              "      <th>4</th>\n",
              "      <td>-0.827135</td>\n",
              "    </tr>\n",
              "    <tr>\n",
              "      <th>...</th>\n",
              "      <td>...</td>\n",
              "    </tr>\n",
              "    <tr>\n",
              "      <th>1071556</th>\n",
              "      <td>-0.674502</td>\n",
              "    </tr>\n",
              "    <tr>\n",
              "      <th>1071557</th>\n",
              "      <td>0.351993</td>\n",
              "    </tr>\n",
              "    <tr>\n",
              "      <th>1071558</th>\n",
              "      <td>0.377152</td>\n",
              "    </tr>\n",
              "    <tr>\n",
              "      <th>1071559</th>\n",
              "      <td>-0.620829</td>\n",
              "    </tr>\n",
              "    <tr>\n",
              "      <th>1071560</th>\n",
              "      <td>-0.706370</td>\n",
              "    </tr>\n",
              "  </tbody>\n",
              "</table>\n",
              "<p>1071561 rows × 1 columns</p>\n",
              "</div>"
            ],
            "text/plain": [
              "                0\n",
              "0        0.070210\n",
              "1        0.159106\n",
              "2        0.016537\n",
              "3       -0.303823\n",
              "4       -0.827135\n",
              "...           ...\n",
              "1071556 -0.674502\n",
              "1071557  0.351993\n",
              "1071558  0.377152\n",
              "1071559 -0.620829\n",
              "1071560 -0.706370\n",
              "\n",
              "[1071561 rows x 1 columns]"
            ]
          },
          "metadata": {},
          "execution_count": 27
        }
      ]
    },
    {
      "cell_type": "code",
      "metadata": {
        "colab": {
          "base_uri": "https://localhost:8080/",
          "height": 273
        },
        "id": "uZAKVmc1YAbO",
        "outputId": "f293f899-6d53-4820-d8e4-f4d6232c11fe"
      },
      "source": [
        "xTrain2['DISTANCE'] = pd.DataFrame(dist_train)\n",
        "xTest2['DISTANCE'] = pd.DataFrame(dist_test)\n",
        "xTrain2.head()"
      ],
      "execution_count": null,
      "outputs": [
        {
          "output_type": "execute_result",
          "data": {
            "text/html": [
              "<div>\n",
              "<style scoped>\n",
              "    .dataframe tbody tr th:only-of-type {\n",
              "        vertical-align: middle;\n",
              "    }\n",
              "\n",
              "    .dataframe tbody tr th {\n",
              "        vertical-align: top;\n",
              "    }\n",
              "\n",
              "    .dataframe thead th {\n",
              "        text-align: right;\n",
              "    }\n",
              "</style>\n",
              "<table border=\"1\" class=\"dataframe\">\n",
              "  <thead>\n",
              "    <tr style=\"text-align: right;\">\n",
              "      <th></th>\n",
              "      <th>DISTANCE</th>\n",
              "      <th>DAY_OF_WEEK_1</th>\n",
              "      <th>DAY_OF_WEEK_2</th>\n",
              "      <th>DAY_OF_WEEK_3</th>\n",
              "      <th>DAY_OF_WEEK_4</th>\n",
              "      <th>DAY_OF_WEEK_5</th>\n",
              "      <th>DAY_OF_WEEK_6</th>\n",
              "      <th>DAY_OF_WEEK_7</th>\n",
              "      <th>OP_UNIQUE_CARRIER_9E</th>\n",
              "      <th>OP_UNIQUE_CARRIER_AA</th>\n",
              "      <th>OP_UNIQUE_CARRIER_AS</th>\n",
              "      <th>OP_UNIQUE_CARRIER_B6</th>\n",
              "      <th>OP_UNIQUE_CARRIER_DL</th>\n",
              "      <th>OP_UNIQUE_CARRIER_F9</th>\n",
              "      <th>OP_UNIQUE_CARRIER_G4</th>\n",
              "      <th>OP_UNIQUE_CARRIER_HA</th>\n",
              "      <th>OP_UNIQUE_CARRIER_MQ</th>\n",
              "      <th>OP_UNIQUE_CARRIER_NK</th>\n",
              "      <th>OP_UNIQUE_CARRIER_OH</th>\n",
              "      <th>OP_UNIQUE_CARRIER_OO</th>\n",
              "      <th>OP_UNIQUE_CARRIER_QX</th>\n",
              "      <th>OP_UNIQUE_CARRIER_UA</th>\n",
              "      <th>OP_UNIQUE_CARRIER_WN</th>\n",
              "      <th>OP_UNIQUE_CARRIER_YV</th>\n",
              "      <th>OP_UNIQUE_CARRIER_YX</th>\n",
              "      <th>ORIGIN_STATE_ABR_AK</th>\n",
              "      <th>ORIGIN_STATE_ABR_AL</th>\n",
              "      <th>ORIGIN_STATE_ABR_AR</th>\n",
              "      <th>ORIGIN_STATE_ABR_AZ</th>\n",
              "      <th>ORIGIN_STATE_ABR_CA</th>\n",
              "      <th>ORIGIN_STATE_ABR_CO</th>\n",
              "      <th>ORIGIN_STATE_ABR_CT</th>\n",
              "      <th>ORIGIN_STATE_ABR_DE</th>\n",
              "      <th>ORIGIN_STATE_ABR_FL</th>\n",
              "      <th>ORIGIN_STATE_ABR_GA</th>\n",
              "      <th>ORIGIN_STATE_ABR_HI</th>\n",
              "      <th>ORIGIN_STATE_ABR_IA</th>\n",
              "      <th>ORIGIN_STATE_ABR_ID</th>\n",
              "      <th>ORIGIN_STATE_ABR_IL</th>\n",
              "      <th>ORIGIN_STATE_ABR_IN</th>\n",
              "      <th>...</th>\n",
              "      <th>DEST_STATE_ABR_LA</th>\n",
              "      <th>DEST_STATE_ABR_MA</th>\n",
              "      <th>DEST_STATE_ABR_MD</th>\n",
              "      <th>DEST_STATE_ABR_ME</th>\n",
              "      <th>DEST_STATE_ABR_MI</th>\n",
              "      <th>DEST_STATE_ABR_MN</th>\n",
              "      <th>DEST_STATE_ABR_MO</th>\n",
              "      <th>DEST_STATE_ABR_MS</th>\n",
              "      <th>DEST_STATE_ABR_MT</th>\n",
              "      <th>DEST_STATE_ABR_NC</th>\n",
              "      <th>DEST_STATE_ABR_ND</th>\n",
              "      <th>DEST_STATE_ABR_NE</th>\n",
              "      <th>DEST_STATE_ABR_NH</th>\n",
              "      <th>DEST_STATE_ABR_NJ</th>\n",
              "      <th>DEST_STATE_ABR_NM</th>\n",
              "      <th>DEST_STATE_ABR_NV</th>\n",
              "      <th>DEST_STATE_ABR_NY</th>\n",
              "      <th>DEST_STATE_ABR_OH</th>\n",
              "      <th>DEST_STATE_ABR_OK</th>\n",
              "      <th>DEST_STATE_ABR_OR</th>\n",
              "      <th>DEST_STATE_ABR_PA</th>\n",
              "      <th>DEST_STATE_ABR_PR</th>\n",
              "      <th>DEST_STATE_ABR_RI</th>\n",
              "      <th>DEST_STATE_ABR_SC</th>\n",
              "      <th>DEST_STATE_ABR_SD</th>\n",
              "      <th>DEST_STATE_ABR_TN</th>\n",
              "      <th>DEST_STATE_ABR_TT</th>\n",
              "      <th>DEST_STATE_ABR_TX</th>\n",
              "      <th>DEST_STATE_ABR_UT</th>\n",
              "      <th>DEST_STATE_ABR_VA</th>\n",
              "      <th>DEST_STATE_ABR_VI</th>\n",
              "      <th>DEST_STATE_ABR_VT</th>\n",
              "      <th>DEST_STATE_ABR_WA</th>\n",
              "      <th>DEST_STATE_ABR_WI</th>\n",
              "      <th>DEST_STATE_ABR_WV</th>\n",
              "      <th>DEST_STATE_ABR_WY</th>\n",
              "      <th>DEP_TIME_0-6</th>\n",
              "      <th>DEP_TIME_12-18</th>\n",
              "      <th>DEP_TIME_18-24</th>\n",
              "      <th>DEP_TIME_6-12</th>\n",
              "    </tr>\n",
              "  </thead>\n",
              "  <tbody>\n",
              "    <tr>\n",
              "      <th>0</th>\n",
              "      <td>0.070210</td>\n",
              "      <td>0</td>\n",
              "      <td>0</td>\n",
              "      <td>0</td>\n",
              "      <td>0</td>\n",
              "      <td>1</td>\n",
              "      <td>0</td>\n",
              "      <td>0</td>\n",
              "      <td>0</td>\n",
              "      <td>0</td>\n",
              "      <td>1</td>\n",
              "      <td>0</td>\n",
              "      <td>0</td>\n",
              "      <td>0</td>\n",
              "      <td>0</td>\n",
              "      <td>0</td>\n",
              "      <td>0</td>\n",
              "      <td>0</td>\n",
              "      <td>0</td>\n",
              "      <td>0</td>\n",
              "      <td>0</td>\n",
              "      <td>0</td>\n",
              "      <td>0</td>\n",
              "      <td>0</td>\n",
              "      <td>0</td>\n",
              "      <td>0</td>\n",
              "      <td>0</td>\n",
              "      <td>0</td>\n",
              "      <td>0</td>\n",
              "      <td>0</td>\n",
              "      <td>0</td>\n",
              "      <td>0</td>\n",
              "      <td>0</td>\n",
              "      <td>0</td>\n",
              "      <td>0</td>\n",
              "      <td>0</td>\n",
              "      <td>0</td>\n",
              "      <td>0</td>\n",
              "      <td>0</td>\n",
              "      <td>0</td>\n",
              "      <td>...</td>\n",
              "      <td>0</td>\n",
              "      <td>0</td>\n",
              "      <td>0</td>\n",
              "      <td>0</td>\n",
              "      <td>0</td>\n",
              "      <td>0</td>\n",
              "      <td>0</td>\n",
              "      <td>0</td>\n",
              "      <td>0</td>\n",
              "      <td>0</td>\n",
              "      <td>0</td>\n",
              "      <td>0</td>\n",
              "      <td>0</td>\n",
              "      <td>0</td>\n",
              "      <td>0</td>\n",
              "      <td>1</td>\n",
              "      <td>0</td>\n",
              "      <td>0</td>\n",
              "      <td>0</td>\n",
              "      <td>0</td>\n",
              "      <td>0</td>\n",
              "      <td>0</td>\n",
              "      <td>0</td>\n",
              "      <td>0</td>\n",
              "      <td>0</td>\n",
              "      <td>0</td>\n",
              "      <td>0</td>\n",
              "      <td>0</td>\n",
              "      <td>0</td>\n",
              "      <td>0</td>\n",
              "      <td>0</td>\n",
              "      <td>0</td>\n",
              "      <td>0</td>\n",
              "      <td>0</td>\n",
              "      <td>0</td>\n",
              "      <td>0</td>\n",
              "      <td>0</td>\n",
              "      <td>1</td>\n",
              "      <td>0</td>\n",
              "      <td>0</td>\n",
              "    </tr>\n",
              "    <tr>\n",
              "      <th>1</th>\n",
              "      <td>0.159106</td>\n",
              "      <td>0</td>\n",
              "      <td>1</td>\n",
              "      <td>0</td>\n",
              "      <td>0</td>\n",
              "      <td>0</td>\n",
              "      <td>0</td>\n",
              "      <td>0</td>\n",
              "      <td>0</td>\n",
              "      <td>1</td>\n",
              "      <td>0</td>\n",
              "      <td>0</td>\n",
              "      <td>0</td>\n",
              "      <td>0</td>\n",
              "      <td>0</td>\n",
              "      <td>0</td>\n",
              "      <td>0</td>\n",
              "      <td>0</td>\n",
              "      <td>0</td>\n",
              "      <td>0</td>\n",
              "      <td>0</td>\n",
              "      <td>0</td>\n",
              "      <td>0</td>\n",
              "      <td>0</td>\n",
              "      <td>0</td>\n",
              "      <td>0</td>\n",
              "      <td>0</td>\n",
              "      <td>0</td>\n",
              "      <td>0</td>\n",
              "      <td>0</td>\n",
              "      <td>0</td>\n",
              "      <td>0</td>\n",
              "      <td>0</td>\n",
              "      <td>1</td>\n",
              "      <td>0</td>\n",
              "      <td>0</td>\n",
              "      <td>0</td>\n",
              "      <td>0</td>\n",
              "      <td>0</td>\n",
              "      <td>0</td>\n",
              "      <td>...</td>\n",
              "      <td>0</td>\n",
              "      <td>0</td>\n",
              "      <td>0</td>\n",
              "      <td>0</td>\n",
              "      <td>0</td>\n",
              "      <td>0</td>\n",
              "      <td>0</td>\n",
              "      <td>0</td>\n",
              "      <td>0</td>\n",
              "      <td>0</td>\n",
              "      <td>0</td>\n",
              "      <td>0</td>\n",
              "      <td>0</td>\n",
              "      <td>0</td>\n",
              "      <td>0</td>\n",
              "      <td>0</td>\n",
              "      <td>0</td>\n",
              "      <td>0</td>\n",
              "      <td>0</td>\n",
              "      <td>0</td>\n",
              "      <td>1</td>\n",
              "      <td>0</td>\n",
              "      <td>0</td>\n",
              "      <td>0</td>\n",
              "      <td>0</td>\n",
              "      <td>0</td>\n",
              "      <td>0</td>\n",
              "      <td>0</td>\n",
              "      <td>0</td>\n",
              "      <td>0</td>\n",
              "      <td>0</td>\n",
              "      <td>0</td>\n",
              "      <td>0</td>\n",
              "      <td>0</td>\n",
              "      <td>0</td>\n",
              "      <td>0</td>\n",
              "      <td>0</td>\n",
              "      <td>1</td>\n",
              "      <td>0</td>\n",
              "      <td>0</td>\n",
              "    </tr>\n",
              "    <tr>\n",
              "      <th>2</th>\n",
              "      <td>0.016537</td>\n",
              "      <td>0</td>\n",
              "      <td>0</td>\n",
              "      <td>0</td>\n",
              "      <td>0</td>\n",
              "      <td>1</td>\n",
              "      <td>0</td>\n",
              "      <td>0</td>\n",
              "      <td>0</td>\n",
              "      <td>0</td>\n",
              "      <td>0</td>\n",
              "      <td>0</td>\n",
              "      <td>0</td>\n",
              "      <td>0</td>\n",
              "      <td>0</td>\n",
              "      <td>0</td>\n",
              "      <td>0</td>\n",
              "      <td>0</td>\n",
              "      <td>0</td>\n",
              "      <td>0</td>\n",
              "      <td>0</td>\n",
              "      <td>0</td>\n",
              "      <td>1</td>\n",
              "      <td>0</td>\n",
              "      <td>0</td>\n",
              "      <td>0</td>\n",
              "      <td>0</td>\n",
              "      <td>0</td>\n",
              "      <td>0</td>\n",
              "      <td>0</td>\n",
              "      <td>0</td>\n",
              "      <td>0</td>\n",
              "      <td>0</td>\n",
              "      <td>0</td>\n",
              "      <td>0</td>\n",
              "      <td>0</td>\n",
              "      <td>0</td>\n",
              "      <td>0</td>\n",
              "      <td>0</td>\n",
              "      <td>0</td>\n",
              "      <td>...</td>\n",
              "      <td>0</td>\n",
              "      <td>0</td>\n",
              "      <td>0</td>\n",
              "      <td>0</td>\n",
              "      <td>0</td>\n",
              "      <td>0</td>\n",
              "      <td>0</td>\n",
              "      <td>0</td>\n",
              "      <td>0</td>\n",
              "      <td>0</td>\n",
              "      <td>0</td>\n",
              "      <td>0</td>\n",
              "      <td>0</td>\n",
              "      <td>0</td>\n",
              "      <td>0</td>\n",
              "      <td>0</td>\n",
              "      <td>0</td>\n",
              "      <td>0</td>\n",
              "      <td>0</td>\n",
              "      <td>0</td>\n",
              "      <td>0</td>\n",
              "      <td>0</td>\n",
              "      <td>0</td>\n",
              "      <td>0</td>\n",
              "      <td>0</td>\n",
              "      <td>0</td>\n",
              "      <td>0</td>\n",
              "      <td>0</td>\n",
              "      <td>0</td>\n",
              "      <td>0</td>\n",
              "      <td>0</td>\n",
              "      <td>0</td>\n",
              "      <td>0</td>\n",
              "      <td>0</td>\n",
              "      <td>0</td>\n",
              "      <td>0</td>\n",
              "      <td>0</td>\n",
              "      <td>1</td>\n",
              "      <td>0</td>\n",
              "      <td>0</td>\n",
              "    </tr>\n",
              "    <tr>\n",
              "      <th>3</th>\n",
              "      <td>-0.303823</td>\n",
              "      <td>1</td>\n",
              "      <td>0</td>\n",
              "      <td>0</td>\n",
              "      <td>0</td>\n",
              "      <td>0</td>\n",
              "      <td>0</td>\n",
              "      <td>0</td>\n",
              "      <td>0</td>\n",
              "      <td>1</td>\n",
              "      <td>0</td>\n",
              "      <td>0</td>\n",
              "      <td>0</td>\n",
              "      <td>0</td>\n",
              "      <td>0</td>\n",
              "      <td>0</td>\n",
              "      <td>0</td>\n",
              "      <td>0</td>\n",
              "      <td>0</td>\n",
              "      <td>0</td>\n",
              "      <td>0</td>\n",
              "      <td>0</td>\n",
              "      <td>0</td>\n",
              "      <td>0</td>\n",
              "      <td>0</td>\n",
              "      <td>0</td>\n",
              "      <td>0</td>\n",
              "      <td>0</td>\n",
              "      <td>0</td>\n",
              "      <td>0</td>\n",
              "      <td>0</td>\n",
              "      <td>0</td>\n",
              "      <td>0</td>\n",
              "      <td>0</td>\n",
              "      <td>0</td>\n",
              "      <td>0</td>\n",
              "      <td>0</td>\n",
              "      <td>0</td>\n",
              "      <td>0</td>\n",
              "      <td>0</td>\n",
              "      <td>...</td>\n",
              "      <td>0</td>\n",
              "      <td>0</td>\n",
              "      <td>0</td>\n",
              "      <td>0</td>\n",
              "      <td>0</td>\n",
              "      <td>0</td>\n",
              "      <td>0</td>\n",
              "      <td>0</td>\n",
              "      <td>0</td>\n",
              "      <td>0</td>\n",
              "      <td>0</td>\n",
              "      <td>0</td>\n",
              "      <td>0</td>\n",
              "      <td>0</td>\n",
              "      <td>0</td>\n",
              "      <td>0</td>\n",
              "      <td>0</td>\n",
              "      <td>0</td>\n",
              "      <td>0</td>\n",
              "      <td>0</td>\n",
              "      <td>0</td>\n",
              "      <td>0</td>\n",
              "      <td>0</td>\n",
              "      <td>0</td>\n",
              "      <td>0</td>\n",
              "      <td>0</td>\n",
              "      <td>0</td>\n",
              "      <td>0</td>\n",
              "      <td>0</td>\n",
              "      <td>0</td>\n",
              "      <td>0</td>\n",
              "      <td>0</td>\n",
              "      <td>0</td>\n",
              "      <td>0</td>\n",
              "      <td>0</td>\n",
              "      <td>0</td>\n",
              "      <td>0</td>\n",
              "      <td>0</td>\n",
              "      <td>0</td>\n",
              "      <td>1</td>\n",
              "    </tr>\n",
              "    <tr>\n",
              "      <th>4</th>\n",
              "      <td>-0.827135</td>\n",
              "      <td>0</td>\n",
              "      <td>0</td>\n",
              "      <td>1</td>\n",
              "      <td>0</td>\n",
              "      <td>0</td>\n",
              "      <td>0</td>\n",
              "      <td>0</td>\n",
              "      <td>0</td>\n",
              "      <td>0</td>\n",
              "      <td>0</td>\n",
              "      <td>0</td>\n",
              "      <td>0</td>\n",
              "      <td>0</td>\n",
              "      <td>0</td>\n",
              "      <td>0</td>\n",
              "      <td>0</td>\n",
              "      <td>0</td>\n",
              "      <td>0</td>\n",
              "      <td>0</td>\n",
              "      <td>0</td>\n",
              "      <td>0</td>\n",
              "      <td>1</td>\n",
              "      <td>0</td>\n",
              "      <td>0</td>\n",
              "      <td>0</td>\n",
              "      <td>0</td>\n",
              "      <td>0</td>\n",
              "      <td>0</td>\n",
              "      <td>0</td>\n",
              "      <td>0</td>\n",
              "      <td>0</td>\n",
              "      <td>0</td>\n",
              "      <td>0</td>\n",
              "      <td>0</td>\n",
              "      <td>0</td>\n",
              "      <td>0</td>\n",
              "      <td>0</td>\n",
              "      <td>0</td>\n",
              "      <td>0</td>\n",
              "      <td>...</td>\n",
              "      <td>0</td>\n",
              "      <td>0</td>\n",
              "      <td>0</td>\n",
              "      <td>0</td>\n",
              "      <td>0</td>\n",
              "      <td>0</td>\n",
              "      <td>0</td>\n",
              "      <td>0</td>\n",
              "      <td>0</td>\n",
              "      <td>0</td>\n",
              "      <td>0</td>\n",
              "      <td>0</td>\n",
              "      <td>0</td>\n",
              "      <td>0</td>\n",
              "      <td>0</td>\n",
              "      <td>0</td>\n",
              "      <td>0</td>\n",
              "      <td>0</td>\n",
              "      <td>0</td>\n",
              "      <td>0</td>\n",
              "      <td>0</td>\n",
              "      <td>0</td>\n",
              "      <td>0</td>\n",
              "      <td>0</td>\n",
              "      <td>0</td>\n",
              "      <td>0</td>\n",
              "      <td>0</td>\n",
              "      <td>0</td>\n",
              "      <td>0</td>\n",
              "      <td>0</td>\n",
              "      <td>0</td>\n",
              "      <td>0</td>\n",
              "      <td>0</td>\n",
              "      <td>0</td>\n",
              "      <td>0</td>\n",
              "      <td>0</td>\n",
              "      <td>0</td>\n",
              "      <td>1</td>\n",
              "      <td>0</td>\n",
              "      <td>0</td>\n",
              "    </tr>\n",
              "  </tbody>\n",
              "</table>\n",
              "<p>5 rows × 135 columns</p>\n",
              "</div>"
            ],
            "text/plain": [
              "   DISTANCE  DAY_OF_WEEK_1  ...  DEP_TIME_18-24  DEP_TIME_6-12\n",
              "0  0.070210              0  ...               0              0\n",
              "1  0.159106              0  ...               0              0\n",
              "2  0.016537              0  ...               0              0\n",
              "3 -0.303823              1  ...               0              1\n",
              "4 -0.827135              0  ...               0              0\n",
              "\n",
              "[5 rows x 135 columns]"
            ]
          },
          "metadata": {},
          "execution_count": 28
        }
      ]
    },
    {
      "cell_type": "code",
      "metadata": {
        "colab": {
          "base_uri": "https://localhost:8080/"
        },
        "id": "vqLZcGxUcI1k",
        "outputId": "5dd43dc6-8f92-4bb3-f710-009886ee32a7"
      },
      "source": [
        "print(yTrain1.shape, yTest1.shape, xTrain2.shape, xTest2.shape)"
      ],
      "execution_count": null,
      "outputs": [
        {
          "output_type": "stream",
          "name": "stdout",
          "text": [
            "(1071561, 1) (527784, 1) (1071561, 135) (527784, 135)\n"
          ]
        }
      ]
    },
    {
      "cell_type": "code",
      "metadata": {
        "colab": {
          "base_uri": "https://localhost:8080/"
        },
        "id": "h6cI4eszXnjj",
        "outputId": "468a4fab-749b-471b-9f03-e4dc35bd1d76"
      },
      "source": [
        "# Decision Tree model\n",
        "dtc = DecisionTreeClassifier(random_state=42)\n",
        "dtc.fit(xTrain2,yTrain1)\n",
        "dtc.score(xTest2,yTest1)"
      ],
      "execution_count": null,
      "outputs": [
        {
          "output_type": "execute_result",
          "data": {
            "text/plain": [
              "0.7865983053673472"
            ]
          },
          "metadata": {},
          "execution_count": 30
        }
      ]
    },
    {
      "cell_type": "code",
      "metadata": {
        "colab": {
          "base_uri": "https://localhost:8080/"
        },
        "id": "oQj1ClglMmHd",
        "outputId": "e67cb3cd-8f7a-461c-c126-b359c4ccaa0d"
      },
      "source": [
        "y_true = yTest1\n",
        "y_pred = dtc.predict(xTest2)\n",
        "fbeta_score(y_true, y_pred, beta=2)"
      ],
      "execution_count": 44,
      "outputs": [
        {
          "output_type": "execute_result",
          "data": {
            "text/plain": [
              "0.2373879204862295"
            ]
          },
          "metadata": {},
          "execution_count": 44
        }
      ]
    },
    {
      "cell_type": "code",
      "metadata": {
        "colab": {
          "base_uri": "https://localhost:8080/"
        },
        "id": "qkiQm5KkNED_",
        "outputId": "3636f3a3-35d6-40cf-a9d9-c8e5dfbe49f4"
      },
      "source": [
        "dtc_up = DecisionTreeClassifier(random_state=42)\n",
        "dtc_up.fit(xTrain_up32,yTrain_up32)\n",
        "y_true_up = yTest1\n",
        "y_pred_up = dtc_up.predict(xTest2)\n",
        "fbeta_score(y_true_up, y_pred_up, beta=2)"
      ],
      "execution_count": 46,
      "outputs": [
        {
          "output_type": "execute_result",
          "data": {
            "text/plain": [
              "0.438776080429581"
            ]
          },
          "metadata": {},
          "execution_count": 46
        }
      ]
    },
    {
      "cell_type": "code",
      "metadata": {
        "colab": {
          "base_uri": "https://localhost:8080/"
        },
        "id": "RZxqX5hbPZvo",
        "outputId": "7436a54c-62dd-4a15-8400-7af702d52cca"
      },
      "source": [
        "print(dtc_up.score(xTest2,yTest1))"
      ],
      "execution_count": 47,
      "outputs": [
        {
          "output_type": "stream",
          "name": "stdout",
          "text": [
            "0.7189702605611387\n"
          ]
        }
      ]
    },
    {
      "cell_type": "code",
      "metadata": {
        "colab": {
          "base_uri": "https://localhost:8080/"
        },
        "id": "pwnaCTqOPhYf",
        "outputId": "f155f617-18a5-4afb-f924-cad60cb79a6d"
      },
      "source": [
        "lg_up = LogisticRegression(random_state=0)\n",
        "lg_up.fit(xTrain_up32,yTrain_up32)\n",
        "y_true_up = yTest1\n",
        "y_pred_up = lg_up.predict(xTest2)\n",
        "print(lg_up.score(xTest2,yTest1))\n",
        "print(fbeta_score(y_true_up, y_pred_up, beta=2))"
      ],
      "execution_count": 48,
      "outputs": [
        {
          "output_type": "stream",
          "name": "stderr",
          "text": [
            "/usr/local/lib/python3.7/dist-packages/sklearn/utils/validation.py:985: DataConversionWarning: A column-vector y was passed when a 1d array was expected. Please change the shape of y to (n_samples, ), for example using ravel().\n",
            "  y = column_or_1d(y, warn=True)\n",
            "/usr/local/lib/python3.7/dist-packages/sklearn/linear_model/_logistic.py:818: ConvergenceWarning: lbfgs failed to converge (status=1):\n",
            "STOP: TOTAL NO. of ITERATIONS REACHED LIMIT.\n",
            "\n",
            "Increase the number of iterations (max_iter) or scale the data as shown in:\n",
            "    https://scikit-learn.org/stable/modules/preprocessing.html\n",
            "Please also refer to the documentation for alternative solver options:\n",
            "    https://scikit-learn.org/stable/modules/linear_model.html#logistic-regression\n",
            "  extra_warning_msg=_LOGISTIC_SOLVER_CONVERGENCE_MSG,\n"
          ]
        },
        {
          "output_type": "stream",
          "name": "stdout",
          "text": [
            "0.7435409182544375\n",
            "0.4414209984032359\n"
          ]
        }
      ]
    },
    {
      "cell_type": "code",
      "metadata": {
        "colab": {
          "base_uri": "https://localhost:8080/"
        },
        "id": "O39m7zPdPht3",
        "outputId": "bd5ac82d-4d51-4f3a-f9d2-4564a523c38d"
      },
      "source": [
        "rf_up = RandomForestClassifier()\n",
        "rf_up.fit(xTrain_up32,yTrain_up32)\n",
        "y_true_up = yTest1\n",
        "y_pred_up = rf_up.predict(xTest2)\n",
        "print(rf_up.score(xTest2,yTest1))\n",
        "print(fbeta_score(y_true_up, y_pred_up, beta=2))"
      ],
      "execution_count": 49,
      "outputs": [
        {
          "output_type": "stream",
          "name": "stderr",
          "text": [
            "/usr/local/lib/python3.7/dist-packages/ipykernel_launcher.py:2: DataConversionWarning: A column-vector y was passed when a 1d array was expected. Please change the shape of y to (n_samples,), for example using ravel().\n",
            "  \n"
          ]
        },
        {
          "output_type": "stream",
          "name": "stdout",
          "text": [
            "0.7095440559016567\n",
            "0.45264433803304666\n"
          ]
        }
      ]
    },
    {
      "cell_type": "code",
      "metadata": {
        "id": "SaKRG5qhPiDY"
      },
      "source": [
        ""
      ],
      "execution_count": null,
      "outputs": []
    },
    {
      "cell_type": "code",
      "metadata": {
        "id": "Teq6Xx0kcZDa"
      },
      "source": [
        "pipeline_dt = Pipeline([('dt_classifier',DecisionTreeClassifier(random_state=42))])\n",
        "pipeline_lr = Pipeline([('lr_classifier',LogisticRegression(random_state=0))])\n",
        "pipeline_rf = Pipeline([('rf_classifier',RandomForestClassifier())])\n",
        "# pipeline_kn = Pipeline([('kn_classifier',KNeighborsClassifier(n_neighbors=3))])"
      ],
      "execution_count": null,
      "outputs": []
    },
    {
      "cell_type": "code",
      "metadata": {
        "id": "2Snr1odpgCvq"
      },
      "source": [
        "pipelines = [pipeline_dt, pipeline_lr, pipeline_rf]"
      ],
      "execution_count": null,
      "outputs": []
    },
    {
      "cell_type": "code",
      "metadata": {
        "id": "9kyubxpHgp0N"
      },
      "source": [
        "pipe_dict = {0: 'Decision Tree', 1: 'Logistic Regression', 2: 'Random Forest'}"
      ],
      "execution_count": null,
      "outputs": []
    },
    {
      "cell_type": "code",
      "metadata": {
        "colab": {
          "base_uri": "https://localhost:8080/"
        },
        "id": "unv4wgIEg-o_",
        "outputId": "4835da5e-b864-46af-8f0e-3efb360502cf"
      },
      "source": [
        "for pipe in pipelines:\n",
        "  pipe.fit(xTrain2, yTrain1)"
      ],
      "execution_count": null,
      "outputs": [
        {
          "output_type": "stream",
          "name": "stderr",
          "text": [
            "/usr/local/lib/python3.7/dist-packages/sklearn/utils/validation.py:985: DataConversionWarning: A column-vector y was passed when a 1d array was expected. Please change the shape of y to (n_samples, ), for example using ravel().\n",
            "  y = column_or_1d(y, warn=True)\n",
            "/usr/local/lib/python3.7/dist-packages/sklearn/linear_model/_logistic.py:818: ConvergenceWarning: lbfgs failed to converge (status=1):\n",
            "STOP: TOTAL NO. of ITERATIONS REACHED LIMIT.\n",
            "\n",
            "Increase the number of iterations (max_iter) or scale the data as shown in:\n",
            "    https://scikit-learn.org/stable/modules/preprocessing.html\n",
            "Please also refer to the documentation for alternative solver options:\n",
            "    https://scikit-learn.org/stable/modules/linear_model.html#logistic-regression\n",
            "  extra_warning_msg=_LOGISTIC_SOLVER_CONVERGENCE_MSG,\n",
            "/usr/local/lib/python3.7/dist-packages/sklearn/pipeline.py:394: DataConversionWarning: A column-vector y was passed when a 1d array was expected. Please change the shape of y to (n_samples,), for example using ravel().\n",
            "  self._final_estimator.fit(Xt, y, **fit_params_last_step)\n"
          ]
        }
      ]
    },
    {
      "cell_type": "code",
      "metadata": {
        "colab": {
          "base_uri": "https://localhost:8080/"
        },
        "id": "jUqx6pjIhH4Y",
        "outputId": "92ed7319-89da-482c-acd5-1fc53e9f0cd6"
      },
      "source": [
        "y_true = yTest1\n",
        "for i, model in enumerate(pipelines):\n",
        "  y_pred = model.predict(xTest2)\n",
        "  print(\"{} Test Accuracy: {}\".format(pipe_dict[i], model.score(xTest2, yTest1)))\n",
        "  print(\"{} F1 Score: {}\".format(pipe_dict[i], f1_score(y_true, y_pred)))\n",
        "  print(\"{} F-beta Score: {}\".format(pipe_dict[i], fbeta_score(y_true, y_pred, beta=2)))"
      ],
      "execution_count": null,
      "outputs": [
        {
          "output_type": "stream",
          "name": "stdout",
          "text": [
            "Decision Tree Test Accuracy: 0.7862875721886227\n",
            "Decision Tree F1 Score: 0.2953633944300761\n",
            "Decision Tree F-beta Score: 0.2370466632974755\n",
            "Logistic Regression Test Accuracy: 0.7924037106088855\n",
            "Logistic Regression F1 Score: 0.13441301943434983\n",
            "Logistic Regression F-beta Score: 0.09144519308082265\n",
            "Random Forest Test Accuracy: 0.7826004577630242\n",
            "Random Forest F1 Score: 0.31997060357498464\n",
            "Random Forest F-beta Score: 0.2660608330540717\n"
          ]
        }
      ]
    },
    {
      "cell_type": "code",
      "metadata": {
        "id": "SXVerC5jj2Ry"
      },
      "source": [
        "pipeline_dt_pca = Pipeline([('pca1',PCA(n_components=3)),\n",
        "                            ('dt_classifier_pca',DecisionTreeClassifier(random_state=42))])\n",
        "pipeline_lr_pca = Pipeline([('pca2',PCA(n_components=3)),\n",
        "                        ('lr_classifier_pca',LogisticRegression(random_state=0))])\n",
        "pipeline_rf_pca = Pipeline([('pca3',PCA(n_components=3)),\n",
        "                        ('rf_classifier_pca',RandomForestClassifier())])\n",
        "# pipeline_kn_pca = Pipeline([('pca1',PCA(n_components=3)),\n",
        "#                         ('kn_classifier',KNeighborsClassifier(n_neighbors=3))])"
      ],
      "execution_count": null,
      "outputs": []
    },
    {
      "cell_type": "code",
      "metadata": {
        "id": "-R84VEXbj2Ry"
      },
      "source": [
        "pipelines_pca = [pipeline_dt_pca, pipeline_lr_pca, pipeline_rf_pca]"
      ],
      "execution_count": null,
      "outputs": []
    },
    {
      "cell_type": "code",
      "metadata": {
        "id": "T0G_0OJCjw9y"
      },
      "source": [
        "pipe_dict_pca = {0: 'Decision Tree PCA', 1: 'Logistic Regression PCA', 2: 'Random Forest PCA'}"
      ],
      "execution_count": null,
      "outputs": []
    },
    {
      "cell_type": "code",
      "metadata": {
        "colab": {
          "base_uri": "https://localhost:8080/"
        },
        "id": "62uwtinHjw9z",
        "outputId": "b4e1624a-7b87-4b2e-95e1-c6ace758e9ae"
      },
      "source": [
        "for pipe in pipelines_pca:\n",
        "  pipe.fit(xTrain2, yTrain1)"
      ],
      "execution_count": null,
      "outputs": [
        {
          "output_type": "stream",
          "name": "stderr",
          "text": [
            "/usr/local/lib/python3.7/dist-packages/sklearn/utils/validation.py:985: DataConversionWarning: A column-vector y was passed when a 1d array was expected. Please change the shape of y to (n_samples, ), for example using ravel().\n",
            "  y = column_or_1d(y, warn=True)\n",
            "/usr/local/lib/python3.7/dist-packages/sklearn/pipeline.py:394: DataConversionWarning: A column-vector y was passed when a 1d array was expected. Please change the shape of y to (n_samples,), for example using ravel().\n",
            "  self._final_estimator.fit(Xt, y, **fit_params_last_step)\n"
          ]
        }
      ]
    },
    {
      "cell_type": "code",
      "metadata": {
        "colab": {
          "base_uri": "https://localhost:8080/"
        },
        "id": "qAEchbFejw9z",
        "outputId": "8bbfaa36-ee99-4d7b-bc6d-474d6e850cec"
      },
      "source": [
        "y_true = yTest1\n",
        "for i, model in enumerate(pipelines_pca):\n",
        "  y_pred = model.predict(xTest2)\n",
        "  print(\"{} Test Accuracy: {}\".format(pipe_dict_pca[i], model.score(xTest2, yTest1)))\n",
        "  print(\"{} F1 Score: {}\".format(pipe_dict_pca[i], f1_score(y_true, y_pred)))\n",
        "  print(\"{} F-beta Score: {}\".format(pipe_dict_pca[i], fbeta_score(y_true, y_pred, beta=2)))"
      ],
      "execution_count": null,
      "outputs": [
        {
          "output_type": "stream",
          "name": "stdout",
          "text": [
            "Decision Tree PCA Test Accuracy: 0.7756525396753218\n",
            "Decision Tree PCA F1 Score: 0.27055598336670256\n",
            "Decision Tree PCA F-beta Score: 0.21920113718263803\n",
            "Logistic Regression PCA Test Accuracy: 0.7861738893183575\n",
            "Logistic Regression PCA F1 Score: 0.0\n",
            "Logistic Regression PCA F-beta Score: 0.0\n",
            "Random Forest PCA Test Accuracy: 0.7898041623088233\n",
            "Random Forest PCA F1 Score: 0.26470744187279616\n",
            "Random Forest PCA F-beta Score: 0.2039992808077836\n"
          ]
        }
      ]
    },
    {
      "cell_type": "code",
      "metadata": {
        "colab": {
          "base_uri": "https://localhost:8080/"
        },
        "id": "7cWAn9OMrXkK",
        "outputId": "0dad5811-93a6-451f-eb4e-c50433332583"
      },
      "source": [
        "dump(pipelines, 'pipelines.joblib')"
      ],
      "execution_count": null,
      "outputs": [
        {
          "output_type": "execute_result",
          "data": {
            "text/plain": [
              "['pipelines.joblib']"
            ]
          },
          "metadata": {},
          "execution_count": 74
        }
      ]
    },
    {
      "cell_type": "code",
      "metadata": {
        "id": "mPJOQToFACdd"
      },
      "source": [
        "# up down sample\n",
        "xTrain2_1 = xTrain2[yTrain1['DEP_DEL15'] == 1]\n",
        "xTrain2_0 = xTrain2[yTrain1['DEP_DEL15'] == 0]\n",
        "yTrain1_1 = yTrain1[yTrain1['DEP_DEL15'] == 1]\n",
        "yTrain1_0 = yTrain1[yTrain1['DEP_DEL15'] == 0]\n",
        "xTrain1_up32, yTrain1_up32 = resample(xTrain2_1, yTrain1_1, n_samples=xTrain2_0.shape[0]*2//3, random_state=42)\n",
        "xTrain_up32 = pd.concat([xTrain1_up32, xTrain2_0])\n",
        "yTrain_up32 = pd.concat([yTrain1_up32, yTrain1_0])\n",
        "xTrain0_down, yTrain0_down = resample(xTrain2_0, yTrain1_0, n_samples=xTrain2_1.shape[0], random_state=42)\n",
        "xTrain_down = pd.concat([xTrain0_down, xTrain2_1])\n",
        "yTrain_down = pd.concat([yTrain0_down, yTrain1_1])"
      ],
      "execution_count": null,
      "outputs": []
    },
    {
      "cell_type": "code",
      "metadata": {
        "colab": {
          "base_uri": "https://localhost:8080/",
          "height": 273
        },
        "id": "GBp0OF4GmXcJ",
        "outputId": "e723e4e6-3778-4d7d-8a59-523c316ffc86"
      },
      "source": [
        "xTrain_up32.head()"
      ],
      "execution_count": null,
      "outputs": [
        {
          "output_type": "execute_result",
          "data": {
            "text/html": [
              "<div>\n",
              "<style scoped>\n",
              "    .dataframe tbody tr th:only-of-type {\n",
              "        vertical-align: middle;\n",
              "    }\n",
              "\n",
              "    .dataframe tbody tr th {\n",
              "        vertical-align: top;\n",
              "    }\n",
              "\n",
              "    .dataframe thead th {\n",
              "        text-align: right;\n",
              "    }\n",
              "</style>\n",
              "<table border=\"1\" class=\"dataframe\">\n",
              "  <thead>\n",
              "    <tr style=\"text-align: right;\">\n",
              "      <th></th>\n",
              "      <th>DISTANCE</th>\n",
              "      <th>DAY_OF_WEEK_1</th>\n",
              "      <th>DAY_OF_WEEK_2</th>\n",
              "      <th>DAY_OF_WEEK_3</th>\n",
              "      <th>DAY_OF_WEEK_4</th>\n",
              "      <th>DAY_OF_WEEK_5</th>\n",
              "      <th>DAY_OF_WEEK_6</th>\n",
              "      <th>DAY_OF_WEEK_7</th>\n",
              "      <th>OP_UNIQUE_CARRIER_9E</th>\n",
              "      <th>OP_UNIQUE_CARRIER_AA</th>\n",
              "      <th>OP_UNIQUE_CARRIER_AS</th>\n",
              "      <th>OP_UNIQUE_CARRIER_B6</th>\n",
              "      <th>OP_UNIQUE_CARRIER_DL</th>\n",
              "      <th>OP_UNIQUE_CARRIER_F9</th>\n",
              "      <th>OP_UNIQUE_CARRIER_G4</th>\n",
              "      <th>OP_UNIQUE_CARRIER_HA</th>\n",
              "      <th>OP_UNIQUE_CARRIER_MQ</th>\n",
              "      <th>OP_UNIQUE_CARRIER_NK</th>\n",
              "      <th>OP_UNIQUE_CARRIER_OH</th>\n",
              "      <th>OP_UNIQUE_CARRIER_OO</th>\n",
              "      <th>OP_UNIQUE_CARRIER_QX</th>\n",
              "      <th>OP_UNIQUE_CARRIER_UA</th>\n",
              "      <th>OP_UNIQUE_CARRIER_WN</th>\n",
              "      <th>OP_UNIQUE_CARRIER_YV</th>\n",
              "      <th>OP_UNIQUE_CARRIER_YX</th>\n",
              "      <th>ORIGIN_STATE_ABR_AK</th>\n",
              "      <th>ORIGIN_STATE_ABR_AL</th>\n",
              "      <th>ORIGIN_STATE_ABR_AR</th>\n",
              "      <th>ORIGIN_STATE_ABR_AZ</th>\n",
              "      <th>ORIGIN_STATE_ABR_CA</th>\n",
              "      <th>ORIGIN_STATE_ABR_CO</th>\n",
              "      <th>ORIGIN_STATE_ABR_CT</th>\n",
              "      <th>ORIGIN_STATE_ABR_DE</th>\n",
              "      <th>ORIGIN_STATE_ABR_FL</th>\n",
              "      <th>ORIGIN_STATE_ABR_GA</th>\n",
              "      <th>ORIGIN_STATE_ABR_HI</th>\n",
              "      <th>ORIGIN_STATE_ABR_IA</th>\n",
              "      <th>ORIGIN_STATE_ABR_ID</th>\n",
              "      <th>ORIGIN_STATE_ABR_IL</th>\n",
              "      <th>ORIGIN_STATE_ABR_IN</th>\n",
              "      <th>...</th>\n",
              "      <th>DEST_STATE_ABR_LA</th>\n",
              "      <th>DEST_STATE_ABR_MA</th>\n",
              "      <th>DEST_STATE_ABR_MD</th>\n",
              "      <th>DEST_STATE_ABR_ME</th>\n",
              "      <th>DEST_STATE_ABR_MI</th>\n",
              "      <th>DEST_STATE_ABR_MN</th>\n",
              "      <th>DEST_STATE_ABR_MO</th>\n",
              "      <th>DEST_STATE_ABR_MS</th>\n",
              "      <th>DEST_STATE_ABR_MT</th>\n",
              "      <th>DEST_STATE_ABR_NC</th>\n",
              "      <th>DEST_STATE_ABR_ND</th>\n",
              "      <th>DEST_STATE_ABR_NE</th>\n",
              "      <th>DEST_STATE_ABR_NH</th>\n",
              "      <th>DEST_STATE_ABR_NJ</th>\n",
              "      <th>DEST_STATE_ABR_NM</th>\n",
              "      <th>DEST_STATE_ABR_NV</th>\n",
              "      <th>DEST_STATE_ABR_NY</th>\n",
              "      <th>DEST_STATE_ABR_OH</th>\n",
              "      <th>DEST_STATE_ABR_OK</th>\n",
              "      <th>DEST_STATE_ABR_OR</th>\n",
              "      <th>DEST_STATE_ABR_PA</th>\n",
              "      <th>DEST_STATE_ABR_PR</th>\n",
              "      <th>DEST_STATE_ABR_RI</th>\n",
              "      <th>DEST_STATE_ABR_SC</th>\n",
              "      <th>DEST_STATE_ABR_SD</th>\n",
              "      <th>DEST_STATE_ABR_TN</th>\n",
              "      <th>DEST_STATE_ABR_TT</th>\n",
              "      <th>DEST_STATE_ABR_TX</th>\n",
              "      <th>DEST_STATE_ABR_UT</th>\n",
              "      <th>DEST_STATE_ABR_VA</th>\n",
              "      <th>DEST_STATE_ABR_VI</th>\n",
              "      <th>DEST_STATE_ABR_VT</th>\n",
              "      <th>DEST_STATE_ABR_WA</th>\n",
              "      <th>DEST_STATE_ABR_WI</th>\n",
              "      <th>DEST_STATE_ABR_WV</th>\n",
              "      <th>DEST_STATE_ABR_WY</th>\n",
              "      <th>DEP_TIME_0-6</th>\n",
              "      <th>DEP_TIME_12-18</th>\n",
              "      <th>DEP_TIME_18-24</th>\n",
              "      <th>DEP_TIME_6-12</th>\n",
              "    </tr>\n",
              "  </thead>\n",
              "  <tbody>\n",
              "    <tr>\n",
              "      <th>573024</th>\n",
              "      <td>-0.661084</td>\n",
              "      <td>0</td>\n",
              "      <td>0</td>\n",
              "      <td>0</td>\n",
              "      <td>0</td>\n",
              "      <td>1</td>\n",
              "      <td>0</td>\n",
              "      <td>0</td>\n",
              "      <td>0</td>\n",
              "      <td>0</td>\n",
              "      <td>0</td>\n",
              "      <td>0</td>\n",
              "      <td>0</td>\n",
              "      <td>0</td>\n",
              "      <td>0</td>\n",
              "      <td>0</td>\n",
              "      <td>0</td>\n",
              "      <td>0</td>\n",
              "      <td>0</td>\n",
              "      <td>1</td>\n",
              "      <td>0</td>\n",
              "      <td>0</td>\n",
              "      <td>0</td>\n",
              "      <td>0</td>\n",
              "      <td>0</td>\n",
              "      <td>0</td>\n",
              "      <td>0</td>\n",
              "      <td>0</td>\n",
              "      <td>0</td>\n",
              "      <td>0</td>\n",
              "      <td>0</td>\n",
              "      <td>0</td>\n",
              "      <td>0</td>\n",
              "      <td>0</td>\n",
              "      <td>0</td>\n",
              "      <td>0</td>\n",
              "      <td>0</td>\n",
              "      <td>0</td>\n",
              "      <td>0</td>\n",
              "      <td>0</td>\n",
              "      <td>...</td>\n",
              "      <td>0</td>\n",
              "      <td>0</td>\n",
              "      <td>0</td>\n",
              "      <td>0</td>\n",
              "      <td>0</td>\n",
              "      <td>0</td>\n",
              "      <td>0</td>\n",
              "      <td>0</td>\n",
              "      <td>0</td>\n",
              "      <td>0</td>\n",
              "      <td>0</td>\n",
              "      <td>0</td>\n",
              "      <td>0</td>\n",
              "      <td>0</td>\n",
              "      <td>0</td>\n",
              "      <td>0</td>\n",
              "      <td>0</td>\n",
              "      <td>0</td>\n",
              "      <td>0</td>\n",
              "      <td>0</td>\n",
              "      <td>0</td>\n",
              "      <td>0</td>\n",
              "      <td>0</td>\n",
              "      <td>0</td>\n",
              "      <td>0</td>\n",
              "      <td>0</td>\n",
              "      <td>0</td>\n",
              "      <td>1</td>\n",
              "      <td>0</td>\n",
              "      <td>0</td>\n",
              "      <td>0</td>\n",
              "      <td>0</td>\n",
              "      <td>0</td>\n",
              "      <td>0</td>\n",
              "      <td>0</td>\n",
              "      <td>0</td>\n",
              "      <td>0</td>\n",
              "      <td>1</td>\n",
              "      <td>0</td>\n",
              "      <td>0</td>\n",
              "    </tr>\n",
              "    <tr>\n",
              "      <th>687863</th>\n",
              "      <td>-0.684566</td>\n",
              "      <td>0</td>\n",
              "      <td>0</td>\n",
              "      <td>0</td>\n",
              "      <td>0</td>\n",
              "      <td>0</td>\n",
              "      <td>1</td>\n",
              "      <td>0</td>\n",
              "      <td>0</td>\n",
              "      <td>0</td>\n",
              "      <td>0</td>\n",
              "      <td>0</td>\n",
              "      <td>0</td>\n",
              "      <td>0</td>\n",
              "      <td>1</td>\n",
              "      <td>0</td>\n",
              "      <td>0</td>\n",
              "      <td>0</td>\n",
              "      <td>0</td>\n",
              "      <td>0</td>\n",
              "      <td>0</td>\n",
              "      <td>0</td>\n",
              "      <td>0</td>\n",
              "      <td>0</td>\n",
              "      <td>0</td>\n",
              "      <td>0</td>\n",
              "      <td>0</td>\n",
              "      <td>0</td>\n",
              "      <td>0</td>\n",
              "      <td>0</td>\n",
              "      <td>0</td>\n",
              "      <td>0</td>\n",
              "      <td>0</td>\n",
              "      <td>0</td>\n",
              "      <td>1</td>\n",
              "      <td>0</td>\n",
              "      <td>0</td>\n",
              "      <td>0</td>\n",
              "      <td>0</td>\n",
              "      <td>0</td>\n",
              "      <td>...</td>\n",
              "      <td>0</td>\n",
              "      <td>0</td>\n",
              "      <td>0</td>\n",
              "      <td>0</td>\n",
              "      <td>0</td>\n",
              "      <td>0</td>\n",
              "      <td>0</td>\n",
              "      <td>0</td>\n",
              "      <td>0</td>\n",
              "      <td>0</td>\n",
              "      <td>0</td>\n",
              "      <td>0</td>\n",
              "      <td>0</td>\n",
              "      <td>0</td>\n",
              "      <td>0</td>\n",
              "      <td>0</td>\n",
              "      <td>0</td>\n",
              "      <td>0</td>\n",
              "      <td>0</td>\n",
              "      <td>0</td>\n",
              "      <td>0</td>\n",
              "      <td>0</td>\n",
              "      <td>0</td>\n",
              "      <td>0</td>\n",
              "      <td>0</td>\n",
              "      <td>1</td>\n",
              "      <td>0</td>\n",
              "      <td>0</td>\n",
              "      <td>0</td>\n",
              "      <td>0</td>\n",
              "      <td>0</td>\n",
              "      <td>0</td>\n",
              "      <td>0</td>\n",
              "      <td>0</td>\n",
              "      <td>0</td>\n",
              "      <td>0</td>\n",
              "      <td>0</td>\n",
              "      <td>1</td>\n",
              "      <td>0</td>\n",
              "      <td>0</td>\n",
              "    </tr>\n",
              "    <tr>\n",
              "      <th>618871</th>\n",
              "      <td>0.687449</td>\n",
              "      <td>0</td>\n",
              "      <td>0</td>\n",
              "      <td>0</td>\n",
              "      <td>0</td>\n",
              "      <td>0</td>\n",
              "      <td>0</td>\n",
              "      <td>1</td>\n",
              "      <td>0</td>\n",
              "      <td>0</td>\n",
              "      <td>0</td>\n",
              "      <td>0</td>\n",
              "      <td>1</td>\n",
              "      <td>0</td>\n",
              "      <td>0</td>\n",
              "      <td>0</td>\n",
              "      <td>0</td>\n",
              "      <td>0</td>\n",
              "      <td>0</td>\n",
              "      <td>0</td>\n",
              "      <td>0</td>\n",
              "      <td>0</td>\n",
              "      <td>0</td>\n",
              "      <td>0</td>\n",
              "      <td>0</td>\n",
              "      <td>0</td>\n",
              "      <td>0</td>\n",
              "      <td>0</td>\n",
              "      <td>0</td>\n",
              "      <td>0</td>\n",
              "      <td>0</td>\n",
              "      <td>0</td>\n",
              "      <td>0</td>\n",
              "      <td>0</td>\n",
              "      <td>0</td>\n",
              "      <td>0</td>\n",
              "      <td>0</td>\n",
              "      <td>0</td>\n",
              "      <td>0</td>\n",
              "      <td>0</td>\n",
              "      <td>...</td>\n",
              "      <td>0</td>\n",
              "      <td>0</td>\n",
              "      <td>0</td>\n",
              "      <td>0</td>\n",
              "      <td>0</td>\n",
              "      <td>0</td>\n",
              "      <td>0</td>\n",
              "      <td>0</td>\n",
              "      <td>0</td>\n",
              "      <td>0</td>\n",
              "      <td>0</td>\n",
              "      <td>0</td>\n",
              "      <td>0</td>\n",
              "      <td>0</td>\n",
              "      <td>0</td>\n",
              "      <td>0</td>\n",
              "      <td>0</td>\n",
              "      <td>0</td>\n",
              "      <td>0</td>\n",
              "      <td>0</td>\n",
              "      <td>0</td>\n",
              "      <td>0</td>\n",
              "      <td>0</td>\n",
              "      <td>0</td>\n",
              "      <td>0</td>\n",
              "      <td>0</td>\n",
              "      <td>0</td>\n",
              "      <td>0</td>\n",
              "      <td>0</td>\n",
              "      <td>0</td>\n",
              "      <td>0</td>\n",
              "      <td>0</td>\n",
              "      <td>0</td>\n",
              "      <td>0</td>\n",
              "      <td>0</td>\n",
              "      <td>0</td>\n",
              "      <td>0</td>\n",
              "      <td>1</td>\n",
              "      <td>0</td>\n",
              "      <td>0</td>\n",
              "    </tr>\n",
              "    <tr>\n",
              "      <th>488572</th>\n",
              "      <td>-1.199491</td>\n",
              "      <td>0</td>\n",
              "      <td>0</td>\n",
              "      <td>1</td>\n",
              "      <td>0</td>\n",
              "      <td>0</td>\n",
              "      <td>0</td>\n",
              "      <td>0</td>\n",
              "      <td>0</td>\n",
              "      <td>1</td>\n",
              "      <td>0</td>\n",
              "      <td>0</td>\n",
              "      <td>0</td>\n",
              "      <td>0</td>\n",
              "      <td>0</td>\n",
              "      <td>0</td>\n",
              "      <td>0</td>\n",
              "      <td>0</td>\n",
              "      <td>0</td>\n",
              "      <td>0</td>\n",
              "      <td>0</td>\n",
              "      <td>0</td>\n",
              "      <td>0</td>\n",
              "      <td>0</td>\n",
              "      <td>0</td>\n",
              "      <td>0</td>\n",
              "      <td>0</td>\n",
              "      <td>0</td>\n",
              "      <td>1</td>\n",
              "      <td>0</td>\n",
              "      <td>0</td>\n",
              "      <td>0</td>\n",
              "      <td>0</td>\n",
              "      <td>0</td>\n",
              "      <td>0</td>\n",
              "      <td>0</td>\n",
              "      <td>0</td>\n",
              "      <td>0</td>\n",
              "      <td>0</td>\n",
              "      <td>0</td>\n",
              "      <td>...</td>\n",
              "      <td>0</td>\n",
              "      <td>0</td>\n",
              "      <td>0</td>\n",
              "      <td>0</td>\n",
              "      <td>0</td>\n",
              "      <td>0</td>\n",
              "      <td>0</td>\n",
              "      <td>0</td>\n",
              "      <td>0</td>\n",
              "      <td>0</td>\n",
              "      <td>0</td>\n",
              "      <td>0</td>\n",
              "      <td>0</td>\n",
              "      <td>0</td>\n",
              "      <td>0</td>\n",
              "      <td>0</td>\n",
              "      <td>0</td>\n",
              "      <td>0</td>\n",
              "      <td>0</td>\n",
              "      <td>0</td>\n",
              "      <td>0</td>\n",
              "      <td>0</td>\n",
              "      <td>0</td>\n",
              "      <td>0</td>\n",
              "      <td>0</td>\n",
              "      <td>0</td>\n",
              "      <td>0</td>\n",
              "      <td>0</td>\n",
              "      <td>0</td>\n",
              "      <td>0</td>\n",
              "      <td>0</td>\n",
              "      <td>0</td>\n",
              "      <td>0</td>\n",
              "      <td>0</td>\n",
              "      <td>0</td>\n",
              "      <td>0</td>\n",
              "      <td>0</td>\n",
              "      <td>0</td>\n",
              "      <td>1</td>\n",
              "      <td>0</td>\n",
              "    </tr>\n",
              "    <tr>\n",
              "      <th>563457</th>\n",
              "      <td>0.328511</td>\n",
              "      <td>1</td>\n",
              "      <td>0</td>\n",
              "      <td>0</td>\n",
              "      <td>0</td>\n",
              "      <td>0</td>\n",
              "      <td>0</td>\n",
              "      <td>0</td>\n",
              "      <td>0</td>\n",
              "      <td>1</td>\n",
              "      <td>0</td>\n",
              "      <td>0</td>\n",
              "      <td>0</td>\n",
              "      <td>0</td>\n",
              "      <td>0</td>\n",
              "      <td>0</td>\n",
              "      <td>0</td>\n",
              "      <td>0</td>\n",
              "      <td>0</td>\n",
              "      <td>0</td>\n",
              "      <td>0</td>\n",
              "      <td>0</td>\n",
              "      <td>0</td>\n",
              "      <td>0</td>\n",
              "      <td>0</td>\n",
              "      <td>0</td>\n",
              "      <td>0</td>\n",
              "      <td>0</td>\n",
              "      <td>0</td>\n",
              "      <td>0</td>\n",
              "      <td>0</td>\n",
              "      <td>0</td>\n",
              "      <td>0</td>\n",
              "      <td>0</td>\n",
              "      <td>0</td>\n",
              "      <td>0</td>\n",
              "      <td>0</td>\n",
              "      <td>0</td>\n",
              "      <td>0</td>\n",
              "      <td>0</td>\n",
              "      <td>...</td>\n",
              "      <td>0</td>\n",
              "      <td>0</td>\n",
              "      <td>0</td>\n",
              "      <td>0</td>\n",
              "      <td>0</td>\n",
              "      <td>0</td>\n",
              "      <td>0</td>\n",
              "      <td>0</td>\n",
              "      <td>0</td>\n",
              "      <td>0</td>\n",
              "      <td>0</td>\n",
              "      <td>0</td>\n",
              "      <td>0</td>\n",
              "      <td>0</td>\n",
              "      <td>0</td>\n",
              "      <td>0</td>\n",
              "      <td>0</td>\n",
              "      <td>0</td>\n",
              "      <td>0</td>\n",
              "      <td>0</td>\n",
              "      <td>0</td>\n",
              "      <td>0</td>\n",
              "      <td>0</td>\n",
              "      <td>0</td>\n",
              "      <td>0</td>\n",
              "      <td>0</td>\n",
              "      <td>0</td>\n",
              "      <td>1</td>\n",
              "      <td>0</td>\n",
              "      <td>0</td>\n",
              "      <td>0</td>\n",
              "      <td>0</td>\n",
              "      <td>0</td>\n",
              "      <td>0</td>\n",
              "      <td>0</td>\n",
              "      <td>0</td>\n",
              "      <td>0</td>\n",
              "      <td>0</td>\n",
              "      <td>1</td>\n",
              "      <td>0</td>\n",
              "    </tr>\n",
              "  </tbody>\n",
              "</table>\n",
              "<p>5 rows × 135 columns</p>\n",
              "</div>"
            ],
            "text/plain": [
              "        DISTANCE  DAY_OF_WEEK_1  ...  DEP_TIME_18-24  DEP_TIME_6-12\n",
              "573024 -0.661084              0  ...               0              0\n",
              "687863 -0.684566              0  ...               0              0\n",
              "618871  0.687449              0  ...               0              0\n",
              "488572 -1.199491              0  ...               1              0\n",
              "563457  0.328511              1  ...               1              0\n",
              "\n",
              "[5 rows x 135 columns]"
            ]
          },
          "metadata": {},
          "execution_count": 32
        }
      ]
    },
    {
      "cell_type": "code",
      "metadata": {
        "colab": {
          "base_uri": "https://localhost:8080/"
        },
        "id": "K3kDLh30A1mb",
        "outputId": "d6910769-d844-4f01-9faa-be51c426d9dd"
      },
      "source": [
        "yTrain_up32['DEP_DEL15'].value_counts()"
      ],
      "execution_count": null,
      "outputs": [
        {
          "output_type": "execute_result",
          "data": {
            "text/plain": [
              "0.0    843165\n",
              "1.0    562110\n",
              "Name: DEP_DEL15, dtype: int64"
            ]
          },
          "metadata": {},
          "execution_count": 33
        }
      ]
    },
    {
      "cell_type": "code",
      "metadata": {
        "colab": {
          "base_uri": "https://localhost:8080/"
        },
        "id": "wEivspl9BIWv",
        "outputId": "371a964b-cdaf-4cfe-a24f-b1fb091002e3"
      },
      "source": [
        "yTrain_down['DEP_DEL15'].value_counts()"
      ],
      "execution_count": null,
      "outputs": [
        {
          "output_type": "execute_result",
          "data": {
            "text/plain": [
              "1.0    228396\n",
              "0.0    228396\n",
              "Name: DEP_DEL15, dtype: int64"
            ]
          },
          "metadata": {},
          "execution_count": 34
        }
      ]
    },
    {
      "cell_type": "code",
      "metadata": {
        "id": "dU5bdH2hqCe8"
      },
      "source": [
        "# create pipeline\n",
        "# check https://scikit-learn.org/stable/modules/compose.html nested params\n",
        "pipe = Pipeline([('clf', RandomForestClassifier(random_state=42))])"
      ],
      "execution_count": null,
      "outputs": []
    },
    {
      "cell_type": "code",
      "metadata": {
        "colab": {
          "base_uri": "https://localhost:8080/"
        },
        "id": "Lx7Q5bEtqCX8",
        "outputId": "122a91ba-49b9-4de3-ce39-41b6bde030b5"
      },
      "source": [
        "# cheat test for what model might be better\n",
        "# with joblib.parallel_backend('ray'):\n",
        "pipe.fit(xTrain_up32, yTrain_up32)"
      ],
      "execution_count": null,
      "outputs": [
        {
          "output_type": "stream",
          "name": "stderr",
          "text": [
            "/usr/local/lib/python3.7/dist-packages/sklearn/pipeline.py:394: DataConversionWarning: A column-vector y was passed when a 1d array was expected. Please change the shape of y to (n_samples,), for example using ravel().\n",
            "  self._final_estimator.fit(Xt, y, **fit_params_last_step)\n"
          ]
        },
        {
          "output_type": "execute_result",
          "data": {
            "text/plain": [
              "Pipeline(steps=[('clf', RandomForestClassifier(random_state=42))])"
            ]
          },
          "metadata": {},
          "execution_count": 54
        }
      ]
    },
    {
      "cell_type": "code",
      "metadata": {
        "colab": {
          "base_uri": "https://localhost:8080/"
        },
        "id": "BTI8O_9yqCM6",
        "outputId": "d5b532a8-0b60-4a61-bfee-8cca99617f18"
      },
      "source": [
        "print(fbeta_score(yTest1, pipe.predict(xTest2), beta=2))\n",
        "print(accuracy_score(yTest1, pipe.predict(xTest2)))"
      ],
      "execution_count": null,
      "outputs": [
        {
          "output_type": "stream",
          "name": "stdout",
          "text": [
            "0.45264968307695896\n",
            "0.7095232140421082\n"
          ]
        }
      ]
    },
    {
      "cell_type": "code",
      "metadata": {
        "colab": {
          "base_uri": "https://localhost:8080/",
          "height": 351
        },
        "id": "6_Ti8DxSqB9d",
        "outputId": "d409af99-faf5-45fb-bfd8-aa09a430aeea"
      },
      "source": [
        "plot_roc_curve(pipe, xTest2, yTest1)"
      ],
      "execution_count": null,
      "outputs": [
        {
          "output_type": "stream",
          "name": "stderr",
          "text": [
            "/usr/local/lib/python3.7/dist-packages/sklearn/utils/deprecation.py:87: FutureWarning: Function plot_roc_curve is deprecated; Function `plot_roc_curve` is deprecated in 1.0 and will be removed in 1.2. Use one of the class methods: RocCurveDisplay.from_predictions or RocCurveDisplay.from_estimator.\n",
            "  warnings.warn(msg, category=FutureWarning)\n"
          ]
        },
        {
          "output_type": "execute_result",
          "data": {
            "text/plain": [
              "<sklearn.metrics._plot.roc_curve.RocCurveDisplay at 0x7fed059c5610>"
            ]
          },
          "metadata": {},
          "execution_count": 57
        },
        {
          "output_type": "display_data",
          "data": {
            "image/png": "[encoded data removed]",
            "text/plain": [
              "<Figure size 432x288 with 1 Axes>"
            ]
          },
          "metadata": {
            "needs_background": "light"
          }
        }
      ]
    },
    {
      "cell_type": "code",
      "metadata": {
        "id": "E_vGASrQuICI"
      },
      "source": [
        "# set parameters grid, could also use RandomizedSearchCV (probably better even)\n",
        "param_dists = {\n",
        "    # 'me__m': tune.uniform(1,100),\n",
        "    # 'clf__C': tune.loguniform(1e-3, 1),\n",
        "    # 'clf__solver': tune.choice(['lbfgs', 'saga', 'newton-cg']),\n",
        "    # 'clf__warm_start': tune.choice([True, False]),\n",
        "    # 'clf__max_iter': tune.uniform(100,500)\n",
        "    # 'clf__n_neighbors': tune.randint(5,500),\n",
        "    'clf__n_estimators': tune.randint(0,120),\n",
        "    'clf__criterion': tune.choice(['gini', 'entropy']),\n",
        "    'clf__max_depth': tune.choice([None, tune.randint(2,50)]),\n",
        "    'clf__min_samples_leaf': tune.randint(1,1000),\n",
        "    'clf__max_samples': tune.choice([None, 0.9, 0.8, 0.7]),\n",
        "    # 'clf__max_features': tune.choice([None, 0.9, 0.8, 0.7]),\n",
        "    # 'clf__alpha': tune.loguniform(1e-3, 1e2),\n",
        "}\n",
        "scoring = {\n",
        "    'f1': 'f1',\n",
        "    'f2': make_scorer(fbeta_score, beta=2),\n",
        "    'accuracy': 'accuracy'\n",
        "}"
      ],
      "execution_count": null,
      "outputs": []
    },
    {
      "cell_type": "code",
      "metadata": {
        "id": "4ZGFsO8JuOK1"
      },
      "source": [
        "clf = TuneSearchCV(pipe,\n",
        "                   param_distributions=param_dists,\n",
        "                   search_optimization=\"random\",\n",
        "                   scoring=scoring,\n",
        "                   refit='f2'\n",
        "                   )"
      ],
      "execution_count": null,
      "outputs": []
    },
    {
      "cell_type": "code",
      "metadata": {
        "colab": {
          "base_uri": "https://localhost:8080/"
        },
        "id": "5uiUbUaCuO08",
        "outputId": "25963fd8-2076-4fc4-d447-44036cc50ed4"
      },
      "source": [
        "clf.fit(xTrain_up32, yTrain_up32)"
      ],
      "execution_count": null,
      "outputs": [
        {
          "output_type": "stream",
          "name": "stderr",
          "text": [
            "fail_fast='raise' detected. Be careful when using this mode as resources (such as Ray processes, file descriptors, and temporary files) may not be cleaned up properly. To use a safer mode, use fail_fast=True.\n",
            "\u001b[2m\u001b[36m(pid=1164)\u001b[0m tcmalloc: large alloc 1214160896 bytes == 0x55c703d2a000 @  0x7f29c4c9d1e7 0x7f29bff0c46e 0x7f29bff5cc7b 0x7f29bff5d35f 0x7f29bffff103 0x55c6f0966544 0x55c6f0966240 0x55c6f09da627 0x55c6f09d49ee 0x55c6f0967bda 0x55c6f09d6737 0x55c6f09d49ee 0x55c6f0967bda 0x55c6f09d6737 0x55c6f08a6d14 0x55c6f0a57fc6 0x55c6f0a85849 0x55c6f09aae1a 0x55c6f09d5a7d 0x55c6f08a6d14 0x55c6f0a57f31 0x55c6f0a85849 0x55c6f09aae1a 0x55c6f09d5a7d 0x55c6f09d49ee 0x55c6f0968271 0x55c6f096675f 0x55c6f0969305 0x7f29bff5b7df 0x7f29bff5ea93 0x7f29bff5f0bc\n",
            "\u001b[2m\u001b[36m(pid=1163)\u001b[0m tcmalloc: large alloc 1214160896 bytes == 0x5611fabd2000 @  0x7fa7bcde51e7 0x7fa7b805446e 0x7fa7b80a4c7b 0x7fa7b80a535f 0x7fa7b8147103 0x5611e6f21544 0x5611e6f21240 0x5611e6f95627 0x5611e6f8f9ee 0x5611e6f22bda 0x5611e6f91737 0x5611e6f8f9ee 0x5611e6f22bda 0x5611e6f91737 0x5611e6e61d14 0x5611e7012fc6 0x5611e7040849 0x5611e6f65e1a 0x5611e6f90a7d 0x5611e6e61d14 0x5611e7012f31 0x5611e7040849 0x5611e6f65e1a 0x5611e6f90a7d 0x5611e6f8f9ee 0x5611e6f23271 0x5611e6f2175f 0x5611e6f24305 0x7fa7b80a37df 0x7fa7b80a6a93 0x7fa7b80a70bc\n",
            "\u001b[2m\u001b[36m(pid=1161)\u001b[0m tcmalloc: large alloc 1214160896 bytes == 0x561b735d2000 @  0x7febc5e101e7 0x7febc107f46e 0x7febc10cfc7b 0x7febc10d035f 0x7febc1172103 0x561b5f465544 0x561b5f465240 0x561b5f4d9627 0x561b5f4d39ee 0x561b5f466bda 0x561b5f4d5737 0x561b5f4d39ee 0x561b5f466bda 0x561b5f4d5737 0x561b5f3a5d14 0x561b5f556fc6 0x561b5f584849 0x561b5f4a9e1a 0x561b5f4d4a7d 0x561b5f3a5d14 0x561b5f556f31 0x561b5f584849 0x561b5f4a9e1a 0x561b5f4d4a7d 0x561b5f4d39ee 0x561b5f467271 0x561b5f46575f 0x561b5f468305 0x7febc10ce7df 0x7febc10d1a93 0x7febc10d20bc\n",
            "\u001b[2m\u001b[36m(pid=1162)\u001b[0m tcmalloc: large alloc 1214160896 bytes == 0x55e189e80000 @  0x7f19942921e7 0x7f198f50146e 0x7f198f551c7b 0x7f198f55235f 0x7f198f5f4103 0x55e16e64f544 0x55e16e64f240 0x55e16e6c3627 0x55e16e6bd9ee 0x55e16e650bda 0x55e16e6bf737 0x55e16e6bd9ee 0x55e16e650bda 0x55e16e6bf737 0x55e16e58fd14 0x55e16e740fc6 0x55e16e76e849 0x55e16e693e1a 0x55e16e6bea7d 0x55e16e58fd14 0x55e16e740f31 0x55e16e76e849 0x55e16e693e1a 0x55e16e6bea7d 0x55e16e6bd9ee 0x55e16e651271 0x55e16e64f75f 0x55e16e652305 0x7f198f5507df 0x7f198f553a93 0x7f198f5540bc\n",
            "\u001b[2m\u001b[36m(pid=1164)\u001b[0m /usr/local/lib/python3.7/dist-packages/sklearn/pipeline.py:394: DataConversionWarning: A column-vector y was passed when a 1d array was expected. Please change the shape of y to (n_samples,), for example using ravel().\n",
            "\u001b[2m\u001b[36m(pid=1164)\u001b[0m   self._final_estimator.fit(Xt, y, **fit_params_last_step)\n",
            "\u001b[2m\u001b[36m(pid=1163)\u001b[0m /usr/local/lib/python3.7/dist-packages/sklearn/pipeline.py:394: DataConversionWarning: A column-vector y was passed when a 1d array was expected. Please change the shape of y to (n_samples,), for example using ravel().\n",
            "\u001b[2m\u001b[36m(pid=1163)\u001b[0m   self._final_estimator.fit(Xt, y, **fit_params_last_step)\n",
            "\u001b[2m\u001b[36m(pid=1161)\u001b[0m /usr/local/lib/python3.7/dist-packages/sklearn/pipeline.py:394: DataConversionWarning: A column-vector y was passed when a 1d array was expected. Please change the shape of y to (n_samples,), for example using ravel().\n",
            "\u001b[2m\u001b[36m(pid=1161)\u001b[0m   self._final_estimator.fit(Xt, y, **fit_params_last_step)\n",
            "\u001b[2m\u001b[36m(pid=1162)\u001b[0m /usr/local/lib/python3.7/dist-packages/sklearn/pipeline.py:394: DataConversionWarning: A column-vector y was passed when a 1d array was expected. Please change the shape of y to (n_samples,), for example using ravel().\n",
            "\u001b[2m\u001b[36m(pid=1162)\u001b[0m   self._final_estimator.fit(Xt, y, **fit_params_last_step)\n",
            "\u001b[2m\u001b[36m(pid=1161)\u001b[0m tcmalloc: large alloc 1214160896 bytes == 0x561b737f8000 @  0x7febc5e101e7 0x7febc107f46e 0x7febc10cfc7b 0x7febc10d035f 0x7febc1172103 0x561b5f465544 0x561b5f465240 0x561b5f4d9627 0x561b5f4d39ee 0x561b5f466bda 0x561b5f4d5737 0x561b5f4d39ee 0x561b5f466bda 0x561b5f4d5737 0x561b5f3a5d14 0x561b5f556fc6 0x561b5f584849 0x561b5f4a9e1a 0x561b5f4d4a7d 0x561b5f3a5d14 0x561b5f556f31 0x561b5f584849 0x561b5f4a9e1a 0x561b5f4d4a7d 0x561b5f4d39ee 0x561b5f467271 0x561b5f46575f 0x561b5f468305 0x7febc10ce7df 0x7febc10d1a93 0x7febc10d20bc\n",
            "\u001b[2m\u001b[36m(pid=1161)\u001b[0m /usr/local/lib/python3.7/dist-packages/sklearn/pipeline.py:394: DataConversionWarning: A column-vector y was passed when a 1d array was expected. Please change the shape of y to (n_samples,), for example using ravel().\n",
            "\u001b[2m\u001b[36m(pid=1161)\u001b[0m   self._final_estimator.fit(Xt, y, **fit_params_last_step)\n",
            "\u001b[2m\u001b[36m(pid=1161)\u001b[0m /usr/local/lib/python3.7/dist-packages/sklearn/pipeline.py:394: DataConversionWarning: A column-vector y was passed when a 1d array was expected. Please change the shape of y to (n_samples,), for example using ravel().\n",
            "\u001b[2m\u001b[36m(pid=1161)\u001b[0m   self._final_estimator.fit(Xt, y, **fit_params_last_step)\n",
            "\u001b[2m\u001b[36m(pid=1161)\u001b[0m /usr/local/lib/python3.7/dist-packages/sklearn/pipeline.py:394: DataConversionWarning: A column-vector y was passed when a 1d array was expected. Please change the shape of y to (n_samples,), for example using ravel().\n",
            "\u001b[2m\u001b[36m(pid=1161)\u001b[0m   self._final_estimator.fit(Xt, y, **fit_params_last_step)\n",
            "\u001b[2m\u001b[36m(pid=1164)\u001b[0m tcmalloc: large alloc 1214160896 bytes == 0x55c703ea6000 @  0x7f29c4c9d1e7 0x7f29bff0c46e 0x7f29bff5cc7b 0x7f29bff5d35f 0x7f29bffff103 0x55c6f0966544 0x55c6f0966240 0x55c6f09da627 0x55c6f09d49ee 0x55c6f0967bda 0x55c6f09d6737 0x55c6f09d49ee 0x55c6f0967bda 0x55c6f09d6737 0x55c6f08a6d14 0x55c6f0a57fc6 0x55c6f0a85849 0x55c6f09aae1a 0x55c6f09d5a7d 0x55c6f08a6d14 0x55c6f0a57f31 0x55c6f0a85849 0x55c6f09aae1a 0x55c6f09d5a7d 0x55c6f09d49ee 0x55c6f0968271 0x55c6f096675f 0x55c6f0969305 0x7f29bff5b7df 0x7f29bff5ea93 0x7f29bff5f0bc\n",
            "\u001b[2m\u001b[36m(pid=1164)\u001b[0m /usr/local/lib/python3.7/dist-packages/sklearn/pipeline.py:394: DataConversionWarning: A column-vector y was passed when a 1d array was expected. Please change the shape of y to (n_samples,), for example using ravel().\n",
            "\u001b[2m\u001b[36m(pid=1164)\u001b[0m   self._final_estimator.fit(Xt, y, **fit_params_last_step)\n",
            "\u001b[2m\u001b[36m(pid=1161)\u001b[0m /usr/local/lib/python3.7/dist-packages/sklearn/pipeline.py:394: DataConversionWarning: A column-vector y was passed when a 1d array was expected. Please change the shape of y to (n_samples,), for example using ravel().\n",
            "\u001b[2m\u001b[36m(pid=1161)\u001b[0m   self._final_estimator.fit(Xt, y, **fit_params_last_step)\n",
            "\u001b[2m\u001b[36m(pid=1163)\u001b[0m tcmalloc: large alloc 1214160896 bytes == 0x5611f87e6000 @  0x7fa7bcde51e7 0x7fa7b805446e 0x7fa7b80a4c7b 0x7fa7b80a535f 0x7fa7b8147103 0x5611e6f21544 0x5611e6f21240 0x5611e6f95627 0x5611e6f8f9ee 0x5611e6f22bda 0x5611e6f91737 0x5611e6f8f9ee 0x5611e6f22bda 0x5611e6f91737 0x5611e6e61d14 0x5611e7012fc6 0x5611e7040849 0x5611e6f65e1a 0x5611e6f90a7d 0x5611e6e61d14 0x5611e7012f31 0x5611e7040849 0x5611e6f65e1a 0x5611e6f90a7d 0x5611e6f8f9ee 0x5611e6f23271 0x5611e6f2175f 0x5611e6f24305 0x7fa7b80a37df 0x7fa7b80a6a93 0x7fa7b80a70bc\n",
            "\u001b[2m\u001b[36m(pid=1163)\u001b[0m /usr/local/lib/python3.7/dist-packages/sklearn/pipeline.py:394: DataConversionWarning: A column-vector y was passed when a 1d array was expected. Please change the shape of y to (n_samples,), for example using ravel().\n",
            "\u001b[2m\u001b[36m(pid=1163)\u001b[0m   self._final_estimator.fit(Xt, y, **fit_params_last_step)\n",
            "\u001b[2m\u001b[36m(pid=1274)\u001b[0m tcmalloc: large alloc 1214160896 bytes == 0x55a3639f2000 @  0x7feacd2231e7 0x7feac849246e 0x7feac84e2c7b 0x7feac84e335f 0x7feac8585103 0x55a34f030544 0x55a34f030240 0x55a34f0a4627 0x55a34f09e9ee 0x55a34f031bda 0x55a34f0a0737 0x55a34f09e9ee 0x55a34f031bda 0x55a34f0a0737 0x55a34ef70d14 0x55a34f121fc6 0x55a34f14f849 0x55a34f074e1a 0x55a34f09fa7d 0x55a34ef70d14 0x55a34f121f31 0x55a34f14f849 0x55a34f074e1a 0x55a34f09fa7d 0x55a34f09e9ee 0x55a34f032271 0x55a34f03075f 0x55a34f033305 0x7feac84e17df 0x7feac84e4a93 0x7feac84e50bc\n",
            "\u001b[2m\u001b[36m(pid=1274)\u001b[0m /usr/local/lib/python3.7/dist-packages/sklearn/pipeline.py:394: DataConversionWarning: A column-vector y was passed when a 1d array was expected. Please change the shape of y to (n_samples,), for example using ravel().\n",
            "\u001b[2m\u001b[36m(pid=1274)\u001b[0m   self._final_estimator.fit(Xt, y, **fit_params_last_step)\n",
            "\u001b[2m\u001b[36m(pid=1274)\u001b[0m tcmalloc: large alloc 1214160896 bytes == 0x55a363c18000 @  0x7feacd2231e7 0x7feac849246e 0x7feac84e2c7b 0x7feac84e335f 0x7feac8585103 0x55a34f030544 0x55a34f030240 0x55a34f0a4627 0x55a34f09e9ee 0x55a34f031bda 0x55a34f0a0737 0x55a34f09e9ee 0x55a34f031bda 0x55a34f0a0737 0x55a34ef70d14 0x55a34f121fc6 0x55a34f14f849 0x55a34f074e1a 0x55a34f09fa7d 0x55a34ef70d14 0x55a34f121f31 0x55a34f14f849 0x55a34f074e1a 0x55a34f09fa7d 0x55a34f09e9ee 0x55a34f032271 0x55a34f03075f 0x55a34f033305 0x7feac84e17df 0x7feac84e4a93 0x7feac84e50bc\n",
            "\u001b[2m\u001b[36m(pid=1274)\u001b[0m /usr/local/lib/python3.7/dist-packages/sklearn/pipeline.py:394: DataConversionWarning: A column-vector y was passed when a 1d array was expected. Please change the shape of y to (n_samples,), for example using ravel().\n",
            "\u001b[2m\u001b[36m(pid=1274)\u001b[0m   self._final_estimator.fit(Xt, y, **fit_params_last_step)\n",
            "\u001b[2m\u001b[36m(pid=1274)\u001b[0m /usr/local/lib/python3.7/dist-packages/sklearn/pipeline.py:394: DataConversionWarning: A column-vector y was passed when a 1d array was expected. Please change the shape of y to (n_samples,), for example using ravel().\n",
            "\u001b[2m\u001b[36m(pid=1274)\u001b[0m   self._final_estimator.fit(Xt, y, **fit_params_last_step)\n",
            "\u001b[2m\u001b[36m(pid=1164)\u001b[0m /usr/local/lib/python3.7/dist-packages/sklearn/pipeline.py:394: DataConversionWarning: A column-vector y was passed when a 1d array was expected. Please change the shape of y to (n_samples,), for example using ravel().\n",
            "\u001b[2m\u001b[36m(pid=1164)\u001b[0m   self._final_estimator.fit(Xt, y, **fit_params_last_step)\n",
            "\u001b[2m\u001b[36m(pid=1162)\u001b[0m tcmalloc: large alloc 1214160896 bytes == 0x55e189e80000 @  0x7f19942921e7 0x7f198f50146e 0x7f198f551c7b 0x7f198f55235f 0x7f198f5f4103 0x55e16e64f544 0x55e16e64f240 0x55e16e6c3627 0x55e16e6bd9ee 0x55e16e650bda 0x55e16e6bf737 0x55e16e6bd9ee 0x55e16e650bda 0x55e16e6bf737 0x55e16e58fd14 0x55e16e740fc6 0x55e16e76e849 0x55e16e693e1a 0x55e16e6bea7d 0x55e16e58fd14 0x55e16e740f31 0x55e16e76e849 0x55e16e693e1a 0x55e16e6bea7d 0x55e16e6bd9ee 0x55e16e651271 0x55e16e64f75f 0x55e16e652305 0x7f198f5507df 0x7f198f553a93 0x7f198f5540bc\n",
            "\u001b[2m\u001b[36m(pid=1162)\u001b[0m /usr/local/lib/python3.7/dist-packages/sklearn/pipeline.py:394: DataConversionWarning: A column-vector y was passed when a 1d array was expected. Please change the shape of y to (n_samples,), for example using ravel().\n",
            "\u001b[2m\u001b[36m(pid=1162)\u001b[0m   self._final_estimator.fit(Xt, y, **fit_params_last_step)\n",
            "\u001b[2m\u001b[36m(pid=1274)\u001b[0m /usr/local/lib/python3.7/dist-packages/sklearn/pipeline.py:394: DataConversionWarning: A column-vector y was passed when a 1d array was expected. Please change the shape of y to (n_samples,), for example using ravel().\n",
            "\u001b[2m\u001b[36m(pid=1274)\u001b[0m   self._final_estimator.fit(Xt, y, **fit_params_last_step)\n",
            "\u001b[2m\u001b[36m(pid=1163)\u001b[0m /usr/local/lib/python3.7/dist-packages/sklearn/pipeline.py:394: DataConversionWarning: A column-vector y was passed when a 1d array was expected. Please change the shape of y to (n_samples,), for example using ravel().\n",
            "\u001b[2m\u001b[36m(pid=1163)\u001b[0m   self._final_estimator.fit(Xt, y, **fit_params_last_step)\n",
            "\u001b[2m\u001b[36m(pid=1274)\u001b[0m /usr/local/lib/python3.7/dist-packages/sklearn/pipeline.py:394: DataConversionWarning: A column-vector y was passed when a 1d array was expected. Please change the shape of y to (n_samples,), for example using ravel().\n",
            "\u001b[2m\u001b[36m(pid=1274)\u001b[0m   self._final_estimator.fit(Xt, y, **fit_params_last_step)\n",
            "\u001b[2m\u001b[36m(pid=1271)\u001b[0m tcmalloc: large alloc 1214160896 bytes == 0x561e23f62000 @  0x7fb09d3131e7 0x7fb09858246e 0x7fb0985d2c7b 0x7fb0985d335f 0x7fb098675103 0x561e10784544 0x561e10784240 0x561e107f8627 0x561e107f29ee 0x561e10785bda 0x561e107f4737 0x561e107f29ee 0x561e10785bda 0x561e107f4737 0x561e106c4d14 0x561e10875fc6 0x561e108a3849 0x561e107c8e1a 0x561e107f3a7d 0x561e106c4d14 0x561e10875f31 0x561e108a3849 0x561e107c8e1a 0x561e107f3a7d 0x561e107f29ee 0x561e10786271 0x561e1078475f 0x561e10787305 0x7fb0985d17df 0x7fb0985d4a93 0x7fb0985d50bc\n",
            "\u001b[2m\u001b[36m(pid=1271)\u001b[0m /usr/local/lib/python3.7/dist-packages/sklearn/pipeline.py:394: DataConversionWarning: A column-vector y was passed when a 1d array was expected. Please change the shape of y to (n_samples,), for example using ravel().\n",
            "\u001b[2m\u001b[36m(pid=1271)\u001b[0m   self._final_estimator.fit(Xt, y, **fit_params_last_step)\n",
            "\u001b[2m\u001b[36m(pid=1164)\u001b[0m /usr/local/lib/python3.7/dist-packages/sklearn/pipeline.py:394: DataConversionWarning: A column-vector y was passed when a 1d array was expected. Please change the shape of y to (n_samples,), for example using ravel().\n",
            "\u001b[2m\u001b[36m(pid=1164)\u001b[0m   self._final_estimator.fit(Xt, y, **fit_params_last_step)\n",
            "\u001b[2m\u001b[36m(pid=1163)\u001b[0m /usr/local/lib/python3.7/dist-packages/sklearn/pipeline.py:394: DataConversionWarning: A column-vector y was passed when a 1d array was expected. Please change the shape of y to (n_samples,), for example using ravel().\n",
            "\u001b[2m\u001b[36m(pid=1163)\u001b[0m   self._final_estimator.fit(Xt, y, **fit_params_last_step)\n",
            "\u001b[2m\u001b[36m(pid=1164)\u001b[0m /usr/local/lib/python3.7/dist-packages/sklearn/pipeline.py:394: DataConversionWarning: A column-vector y was passed when a 1d array was expected. Please change the shape of y to (n_samples,), for example using ravel().\n",
            "\u001b[2m\u001b[36m(pid=1164)\u001b[0m   self._final_estimator.fit(Xt, y, **fit_params_last_step)\n",
            "\u001b[2m\u001b[36m(pid=1271)\u001b[0m tcmalloc: large alloc 1214160896 bytes == 0x561e21b76000 @  0x7fb09d3131e7 0x7fb09858246e 0x7fb0985d2c7b 0x7fb0985d335f 0x7fb098675103 0x561e10784544 0x561e10784240 0x561e107f8627 0x561e107f29ee 0x561e10785bda 0x561e107f4737 0x561e107f29ee 0x561e10785bda 0x561e107f4737 0x561e106c4d14 0x561e10875fc6 0x561e108a3849 0x561e107c8e1a 0x561e107f3a7d 0x561e106c4d14 0x561e10875f31 0x561e108a3849 0x561e107c8e1a 0x561e107f3a7d 0x561e107f29ee 0x561e10786271 0x561e1078475f 0x561e10787305 0x7fb0985d17df 0x7fb0985d4a93 0x7fb0985d50bc\n",
            "\u001b[2m\u001b[36m(pid=1271)\u001b[0m /usr/local/lib/python3.7/dist-packages/sklearn/pipeline.py:394: DataConversionWarning: A column-vector y was passed when a 1d array was expected. Please change the shape of y to (n_samples,), for example using ravel().\n",
            "\u001b[2m\u001b[36m(pid=1271)\u001b[0m   self._final_estimator.fit(Xt, y, **fit_params_last_step)\n",
            "\u001b[2m\u001b[36m(pid=1163)\u001b[0m /usr/local/lib/python3.7/dist-packages/sklearn/pipeline.py:394: DataConversionWarning: A column-vector y was passed when a 1d array was expected. Please change the shape of y to (n_samples,), for example using ravel().\n",
            "\u001b[2m\u001b[36m(pid=1163)\u001b[0m   self._final_estimator.fit(Xt, y, **fit_params_last_step)\n",
            "\u001b[2m\u001b[36m(pid=1162)\u001b[0m /usr/local/lib/python3.7/dist-packages/sklearn/pipeline.py:394: DataConversionWarning: A column-vector y was passed when a 1d array was expected. Please change the shape of y to (n_samples,), for example using ravel().\n",
            "\u001b[2m\u001b[36m(pid=1162)\u001b[0m   self._final_estimator.fit(Xt, y, **fit_params_last_step)\n",
            "\u001b[2m\u001b[36m(pid=1509)\u001b[0m tcmalloc: large alloc 1214160896 bytes == 0x55e236c6c000 @  0x7f08816a51e7 0x7f087c91446e 0x7f087c964c7b 0x7f087c96535f 0x7f087ca07103 0x55e22385a544 0x55e22385a240 0x55e2238ce627 0x55e2238c89ee 0x55e22385bbda 0x55e2238ca737 0x55e2238c89ee 0x55e22385bbda 0x55e2238ca737 0x55e22379ad14 0x55e22394bfc6 0x55e223979849 0x55e22389ee1a 0x55e2238c9a7d 0x55e22379ad14 0x55e22394bf31 0x55e223979849 0x55e22389ee1a 0x55e2238c9a7d 0x55e2238c89ee 0x55e22385c271 0x55e22385a75f 0x55e22385d305 0x7f087c9637df 0x7f087c966a93 0x7f087c9670bc\n",
            "\u001b[2m\u001b[36m(pid=1509)\u001b[0m /usr/local/lib/python3.7/dist-packages/sklearn/pipeline.py:394: DataConversionWarning: A column-vector y was passed when a 1d array was expected. Please change the shape of y to (n_samples,), for example using ravel().\n",
            "\u001b[2m\u001b[36m(pid=1509)\u001b[0m   self._final_estimator.fit(Xt, y, **fit_params_last_step)\n",
            "\u001b[2m\u001b[36m(pid=1271)\u001b[0m /usr/local/lib/python3.7/dist-packages/sklearn/pipeline.py:394: DataConversionWarning: A column-vector y was passed when a 1d array was expected. Please change the shape of y to (n_samples,), for example using ravel().\n",
            "\u001b[2m\u001b[36m(pid=1271)\u001b[0m   self._final_estimator.fit(Xt, y, **fit_params_last_step)\n",
            "\u001b[2m\u001b[36m(pid=1548)\u001b[0m tcmalloc: large alloc 1214160896 bytes == 0x55a65f2e8000 @  0x7f92738971e7 0x7f926eb0646e 0x7f926eb56c7b 0x7f926eb5735f 0x7f926ebf9103 0x55a64bbd2544 0x55a64bbd2240 0x55a64bc46627 0x55a64bc409ee 0x55a64bbd3bda 0x55a64bc42737 0x55a64bc409ee 0x55a64bbd3bda 0x55a64bc42737 0x55a64bb12d14 0x55a64bcc3fc6 0x55a64bcf1849 0x55a64bc16e1a 0x55a64bc41a7d 0x55a64bb12d14 0x55a64bcc3f31 0x55a64bcf1849 0x55a64bc16e1a 0x55a64bc41a7d 0x55a64bc409ee 0x55a64bbd4271 0x55a64bbd275f 0x55a64bbd5305 0x7f926eb557df 0x7f926eb58a93 0x7f926eb590bc\n",
            "\u001b[2m\u001b[36m(pid=1548)\u001b[0m /usr/local/lib/python3.7/dist-packages/sklearn/pipeline.py:394: DataConversionWarning: A column-vector y was passed when a 1d array was expected. Please change the shape of y to (n_samples,), for example using ravel().\n",
            "\u001b[2m\u001b[36m(pid=1548)\u001b[0m   self._final_estimator.fit(Xt, y, **fit_params_last_step)\n",
            "\u001b[2m\u001b[36m(pid=1271)\u001b[0m /usr/local/lib/python3.7/dist-packages/sklearn/pipeline.py:394: DataConversionWarning: A column-vector y was passed when a 1d array was expected. Please change the shape of y to (n_samples,), for example using ravel().\n",
            "\u001b[2m\u001b[36m(pid=1271)\u001b[0m   self._final_estimator.fit(Xt, y, **fit_params_last_step)\n",
            "\u001b[2m\u001b[36m(pid=1162)\u001b[0m /usr/local/lib/python3.7/dist-packages/sklearn/pipeline.py:394: DataConversionWarning: A column-vector y was passed when a 1d array was expected. Please change the shape of y to (n_samples,), for example using ravel().\n",
            "\u001b[2m\u001b[36m(pid=1162)\u001b[0m   self._final_estimator.fit(Xt, y, **fit_params_last_step)\n",
            "\u001b[2m\u001b[36m(pid=1548)\u001b[0m tcmalloc: large alloc 1214160896 bytes == 0x55a65f2e8000 @  0x7f92738971e7 0x7f926eb0646e 0x7f926eb56c7b 0x7f926eb5735f 0x7f926ebf9103 0x55a64bbd2544 0x55a64bbd2240 0x55a64bc46627 0x55a64bc409ee 0x55a64bbd3bda 0x55a64bc42737 0x55a64bc409ee 0x55a64bbd3bda 0x55a64bc42737 0x55a64bb12d14 0x55a64bcc3fc6 0x55a64bcf1849 0x55a64bc16e1a 0x55a64bc41a7d 0x55a64bb12d14 0x55a64bcc3f31 0x55a64bcf1849 0x55a64bc16e1a 0x55a64bc41a7d 0x55a64bc409ee 0x55a64bbd4271 0x55a64bbd275f 0x55a64bbd5305 0x7f926eb557df 0x7f926eb58a93 0x7f926eb590bc\n",
            "\u001b[2m\u001b[36m(pid=1548)\u001b[0m /usr/local/lib/python3.7/dist-packages/sklearn/pipeline.py:394: DataConversionWarning: A column-vector y was passed when a 1d array was expected. Please change the shape of y to (n_samples,), for example using ravel().\n",
            "\u001b[2m\u001b[36m(pid=1548)\u001b[0m   self._final_estimator.fit(Xt, y, **fit_params_last_step)\n",
            "\u001b[2m\u001b[36m(pid=1271)\u001b[0m /usr/local/lib/python3.7/dist-packages/sklearn/pipeline.py:394: DataConversionWarning: A column-vector y was passed when a 1d array was expected. Please change the shape of y to (n_samples,), for example using ravel().\n",
            "\u001b[2m\u001b[36m(pid=1271)\u001b[0m   self._final_estimator.fit(Xt, y, **fit_params_last_step)\n",
            "\u001b[2m\u001b[36m(pid=1509)\u001b[0m tcmalloc: large alloc 1214160896 bytes == 0x55e234880000 @  0x7f08816a51e7 0x7f087c91446e 0x7f087c964c7b 0x7f087c96535f 0x7f087ca07103 0x55e22385a544 0x55e22385a240 0x55e2238ce627 0x55e2238c89ee 0x55e22385bbda 0x55e2238ca737 0x55e2238c89ee 0x55e22385bbda 0x55e2238ca737 0x55e22379ad14 0x55e22394bfc6 0x55e223979849 0x55e22389ee1a 0x55e2238c9a7d 0x55e22379ad14 0x55e22394bf31 0x55e223979849 0x55e22389ee1a 0x55e2238c9a7d 0x55e2238c89ee 0x55e22385c271 0x55e22385a75f 0x55e22385d305 0x7f087c9637df 0x7f087c966a93 0x7f087c9670bc\n",
            "\u001b[2m\u001b[36m(pid=1509)\u001b[0m /usr/local/lib/python3.7/dist-packages/sklearn/pipeline.py:394: DataConversionWarning: A column-vector y was passed when a 1d array was expected. Please change the shape of y to (n_samples,), for example using ravel().\n",
            "\u001b[2m\u001b[36m(pid=1509)\u001b[0m   self._final_estimator.fit(Xt, y, **fit_params_last_step)\n",
            "\u001b[2m\u001b[36m(pid=1680)\u001b[0m tcmalloc: large alloc 1214160896 bytes == 0x55f1c8b06000 @  0x7fad43dda1e7 0x7fad3f04946e 0x7fad3f099c7b 0x7fad3f09a35f 0x7fad3f13c103 0x55f1ae900544 0x55f1ae900240 0x55f1ae974627 0x55f1ae96e9ee 0x55f1ae901bda 0x55f1ae970737 0x55f1ae96e9ee 0x55f1ae901bda 0x55f1ae970737 0x55f1ae840d14 0x55f1ae9f1fc6 0x55f1aea1f849 0x55f1ae944e1a 0x55f1ae96fa7d 0x55f1ae840d14 0x55f1ae9f1f31 0x55f1aea1f849 0x55f1ae944e1a 0x55f1ae96fa7d 0x55f1ae96e9ee 0x55f1ae902271 0x55f1ae90075f 0x55f1ae903305 0x7fad3f0987df 0x7fad3f09ba93 0x7fad3f09c0bc\n",
            "\u001b[2m\u001b[36m(pid=1680)\u001b[0m /usr/local/lib/python3.7/dist-packages/sklearn/pipeline.py:394: DataConversionWarning: A column-vector y was passed when a 1d array was expected. Please change the shape of y to (n_samples,), for example using ravel().\n",
            "\u001b[2m\u001b[36m(pid=1680)\u001b[0m   self._final_estimator.fit(Xt, y, **fit_params_last_step)\n",
            "\u001b[2m\u001b[36m(pid=1680)\u001b[0m tcmalloc: large alloc 1214160896 bytes == 0x55f1c8b06000 @  0x7fad43dda1e7 0x7fad3f04946e 0x7fad3f099c7b 0x7fad3f09a35f 0x7fad3f13c103 0x55f1ae900544 0x55f1ae900240 0x55f1ae974627 0x55f1ae96e9ee 0x55f1ae901bda 0x55f1ae970737 0x55f1ae96e9ee 0x55f1ae901bda 0x55f1ae970737 0x55f1ae840d14 0x55f1ae9f1fc6 0x55f1aea1f849 0x55f1ae944e1a 0x55f1ae96fa7d 0x55f1ae840d14 0x55f1ae9f1f31 0x55f1aea1f849 0x55f1ae944e1a 0x55f1ae96fa7d 0x55f1ae96e9ee 0x55f1ae902271 0x55f1ae90075f 0x55f1ae903305 0x7fad3f0987df 0x7fad3f09ba93 0x7fad3f09c0bc\n",
            "\u001b[2m\u001b[36m(pid=1680)\u001b[0m /usr/local/lib/python3.7/dist-packages/sklearn/pipeline.py:394: DataConversionWarning: A column-vector y was passed when a 1d array was expected. Please change the shape of y to (n_samples,), for example using ravel().\n",
            "\u001b[2m\u001b[36m(pid=1680)\u001b[0m   self._final_estimator.fit(Xt, y, **fit_params_last_step)\n",
            "\u001b[2m\u001b[36m(pid=1548)\u001b[0m /usr/local/lib/python3.7/dist-packages/sklearn/pipeline.py:394: DataConversionWarning: A column-vector y was passed when a 1d array was expected. Please change the shape of y to (n_samples,), for example using ravel().\n",
            "\u001b[2m\u001b[36m(pid=1548)\u001b[0m   self._final_estimator.fit(Xt, y, **fit_params_last_step)\n",
            "\u001b[2m\u001b[36m(pid=1680)\u001b[0m /usr/local/lib/python3.7/dist-packages/sklearn/pipeline.py:394: DataConversionWarning: A column-vector y was passed when a 1d array was expected. Please change the shape of y to (n_samples,), for example using ravel().\n",
            "\u001b[2m\u001b[36m(pid=1680)\u001b[0m   self._final_estimator.fit(Xt, y, **fit_params_last_step)\n",
            "\u001b[2m\u001b[36m(pid=1680)\u001b[0m /usr/local/lib/python3.7/dist-packages/sklearn/pipeline.py:394: DataConversionWarning: A column-vector y was passed when a 1d array was expected. Please change the shape of y to (n_samples,), for example using ravel().\n",
            "\u001b[2m\u001b[36m(pid=1680)\u001b[0m   self._final_estimator.fit(Xt, y, **fit_params_last_step)\n",
            "\u001b[2m\u001b[36m(pid=1162)\u001b[0m /usr/local/lib/python3.7/dist-packages/sklearn/pipeline.py:394: DataConversionWarning: A column-vector y was passed when a 1d array was expected. Please change the shape of y to (n_samples,), for example using ravel().\n",
            "\u001b[2m\u001b[36m(pid=1162)\u001b[0m   self._final_estimator.fit(Xt, y, **fit_params_last_step)\n",
            "\u001b[2m\u001b[36m(pid=1680)\u001b[0m /usr/local/lib/python3.7/dist-packages/sklearn/pipeline.py:394: DataConversionWarning: A column-vector y was passed when a 1d array was expected. Please change the shape of y to (n_samples,), for example using ravel().\n",
            "\u001b[2m\u001b[36m(pid=1680)\u001b[0m   self._final_estimator.fit(Xt, y, **fit_params_last_step)\n",
            "\u001b[2m\u001b[36m(pid=1731)\u001b[0m tcmalloc: large alloc 1214160896 bytes == 0x5652fabee000 @  0x7f9bb54ad1e7 0x7f9bb071c46e 0x7f9bb076cc7b 0x7f9bb076d35f 0x7f9bb080f103 0x5652dfa64544 0x5652dfa64240 0x5652dfad8627 0x5652dfad29ee 0x5652dfa65bda 0x5652dfad4737 0x5652dfad29ee 0x5652dfa65bda 0x5652dfad4737 0x5652df9a4d14 0x5652dfb55fc6 0x5652dfb83849 0x5652dfaa8e1a 0x5652dfad3a7d 0x5652df9a4d14 0x5652dfb55f31 0x5652dfb83849 0x5652dfaa8e1a 0x5652dfad3a7d 0x5652dfad29ee 0x5652dfa66271 0x5652dfa6475f 0x5652dfa67305 0x7f9bb076b7df 0x7f9bb076ea93 0x7f9bb076f0bc\n",
            "\u001b[2m\u001b[36m(pid=1731)\u001b[0m /usr/local/lib/python3.7/dist-packages/sklearn/pipeline.py:394: DataConversionWarning: A column-vector y was passed when a 1d array was expected. Please change the shape of y to (n_samples,), for example using ravel().\n",
            "\u001b[2m\u001b[36m(pid=1731)\u001b[0m   self._final_estimator.fit(Xt, y, **fit_params_last_step)\n",
            "\u001b[2m\u001b[36m(pid=1548)\u001b[0m /usr/local/lib/python3.7/dist-packages/sklearn/pipeline.py:394: DataConversionWarning: A column-vector y was passed when a 1d array was expected. Please change the shape of y to (n_samples,), for example using ravel().\n",
            "\u001b[2m\u001b[36m(pid=1548)\u001b[0m   self._final_estimator.fit(Xt, y, **fit_params_last_step)\n",
            "\u001b[2m\u001b[36m(pid=1731)\u001b[0m tcmalloc: large alloc 1214160896 bytes == 0x5652fabee000 @  0x7f9bb54ad1e7 0x7f9bb071c46e 0x7f9bb076cc7b 0x7f9bb076d35f 0x7f9bb080f103 0x5652dfa64544 0x5652dfa64240 0x5652dfad8627 0x5652dfad29ee 0x5652dfa65bda 0x5652dfad4737 0x5652dfad29ee 0x5652dfa65bda 0x5652dfad4737 0x5652df9a4d14 0x5652dfb55fc6 0x5652dfb83849 0x5652dfaa8e1a 0x5652dfad3a7d 0x5652df9a4d14 0x5652dfb55f31 0x5652dfb83849 0x5652dfaa8e1a 0x5652dfad3a7d 0x5652dfad29ee 0x5652dfa66271 0x5652dfa6475f 0x5652dfa67305 0x7f9bb076b7df 0x7f9bb076ea93 0x7f9bb076f0bc\n",
            "\u001b[2m\u001b[36m(pid=1731)\u001b[0m /usr/local/lib/python3.7/dist-packages/sklearn/pipeline.py:394: DataConversionWarning: A column-vector y was passed when a 1d array was expected. Please change the shape of y to (n_samples,), for example using ravel().\n",
            "\u001b[2m\u001b[36m(pid=1731)\u001b[0m   self._final_estimator.fit(Xt, y, **fit_params_last_step)\n",
            "\u001b[2m\u001b[36m(pid=1509)\u001b[0m /usr/local/lib/python3.7/dist-packages/sklearn/pipeline.py:394: DataConversionWarning: A column-vector y was passed when a 1d array was expected. Please change the shape of y to (n_samples,), for example using ravel().\n",
            "\u001b[2m\u001b[36m(pid=1509)\u001b[0m   self._final_estimator.fit(Xt, y, **fit_params_last_step)\n",
            "\u001b[2m\u001b[36m(pid=1548)\u001b[0m /usr/local/lib/python3.7/dist-packages/sklearn/pipeline.py:394: DataConversionWarning: A column-vector y was passed when a 1d array was expected. Please change the shape of y to (n_samples,), for example using ravel().\n",
            "\u001b[2m\u001b[36m(pid=1548)\u001b[0m   self._final_estimator.fit(Xt, y, **fit_params_last_step)\n",
            "\u001b[2m\u001b[36m(pid=1731)\u001b[0m /usr/local/lib/python3.7/dist-packages/sklearn/pipeline.py:394: DataConversionWarning: A column-vector y was passed when a 1d array was expected. Please change the shape of y to (n_samples,), for example using ravel().\n",
            "\u001b[2m\u001b[36m(pid=1731)\u001b[0m   self._final_estimator.fit(Xt, y, **fit_params_last_step)\n",
            "\u001b[2m\u001b[36m(pid=1731)\u001b[0m /usr/local/lib/python3.7/dist-packages/sklearn/pipeline.py:394: DataConversionWarning: A column-vector y was passed when a 1d array was expected. Please change the shape of y to (n_samples,), for example using ravel().\n",
            "\u001b[2m\u001b[36m(pid=1731)\u001b[0m   self._final_estimator.fit(Xt, y, **fit_params_last_step)\n",
            "\u001b[2m\u001b[36m(pid=1509)\u001b[0m /usr/local/lib/python3.7/dist-packages/sklearn/pipeline.py:394: DataConversionWarning: A column-vector y was passed when a 1d array was expected. Please change the shape of y to (n_samples,), for example using ravel().\n",
            "\u001b[2m\u001b[36m(pid=1509)\u001b[0m   self._final_estimator.fit(Xt, y, **fit_params_last_step)\n",
            "\u001b[2m\u001b[36m(pid=1731)\u001b[0m /usr/local/lib/python3.7/dist-packages/sklearn/pipeline.py:394: DataConversionWarning: A column-vector y was passed when a 1d array was expected. Please change the shape of y to (n_samples,), for example using ravel().\n",
            "\u001b[2m\u001b[36m(pid=1731)\u001b[0m   self._final_estimator.fit(Xt, y, **fit_params_last_step)\n",
            "\u001b[2m\u001b[36m(pid=1509)\u001b[0m /usr/local/lib/python3.7/dist-packages/sklearn/pipeline.py:394: DataConversionWarning: A column-vector y was passed when a 1d array was expected. Please change the shape of y to (n_samples,), for example using ravel().\n",
            "\u001b[2m\u001b[36m(pid=1509)\u001b[0m   self._final_estimator.fit(Xt, y, **fit_params_last_step)\n",
            "/usr/local/lib/python3.7/dist-packages/sklearn/pipeline.py:394: DataConversionWarning: A column-vector y was passed when a 1d array was expected. Please change the shape of y to (n_samples,), for example using ravel().\n",
            "  self._final_estimator.fit(Xt, y, **fit_params_last_step)\n"
          ]
        },
        {
          "output_type": "execute_result",
          "data": {
            "text/plain": [
              "TuneSearchCV(estimator=Pipeline(steps=[('clf',\n",
              "                                        RandomForestClassifier(random_state=42))]),\n",
              "             loggers=[<class 'ray.tune.logger.CSVLogger'>,\n",
              "                      <class 'ray.tune.logger.JsonLogger'>],\n",
              "             mode='max', n_jobs=-1,\n",
              "             param_distributions={'clf__criterion': <ray.tune.sample.Categorical object at 0x7fb2e8911e50>,\n",
              "                                  'clf__max_depth': <ray.tune.sample.Categorical object at 0x7fb2e8911f10>,\n",
              "                                  'clf__max_samples': <ray.tune.sample.Categorical object at 0x7fb2e890c090>,\n",
              "                                  'clf__min_samples_leaf': <ray.tune.sample.Integer object at 0x7fb2e8911f90>,\n",
              "                                  'clf__n_estimators': <ray.tune.sample.Integer object at 0x7fb2e8911dd0>},\n",
              "             refit='f2',\n",
              "             scoring={'accuracy': make_scorer(accuracy_score),\n",
              "                      'f1': make_scorer(f1_score, average=binary),\n",
              "                      'f2': make_scorer(fbeta_score, beta=2)},\n",
              "             sk_n_jobs=1)"
            ]
          },
          "metadata": {},
          "execution_count": 38
        }
      ]
    },
    {
      "cell_type": "code",
      "metadata": {
        "colab": {
          "base_uri": "https://localhost:8080/"
        },
        "id": "aIVOAenSKF3C",
        "outputId": "dc147a37-02a0-4cf6-fab1-5292d92b911b"
      },
      "source": [
        "clf.best_params_"
      ],
      "execution_count": 39,
      "outputs": [
        {
          "output_type": "execute_result",
          "data": {
            "text/plain": [
              "{'clf__criterion': 'entropy',\n",
              " 'clf__max_depth': 37,\n",
              " 'clf__max_samples': 0.9,\n",
              " 'clf__min_samples_leaf': 79,\n",
              " 'clf__n_estimators': 104}"
            ]
          },
          "metadata": {},
          "execution_count": 39
        }
      ]
    },
    {
      "cell_type": "code",
      "metadata": {
        "colab": {
          "base_uri": "https://localhost:8080/"
        },
        "id": "1GcDvBRiKMfi",
        "outputId": "2f4af970-696f-4733-f3c3-b57999bd0e3e"
      },
      "source": [
        "clf.best_score_"
      ],
      "execution_count": 40,
      "outputs": [
        {
          "output_type": "execute_result",
          "data": {
            "text/plain": [
              "0.45587911816126214"
            ]
          },
          "metadata": {},
          "execution_count": 40
        }
      ]
    },
    {
      "cell_type": "code",
      "metadata": {
        "colab": {
          "base_uri": "https://localhost:8080/"
        },
        "id": "W8JoeeRhKPFY",
        "outputId": "2ad27ce2-9ffd-4711-845e-5ef1e40fe1b0"
      },
      "source": [
        "clf.score(xTrain2, yTrain1)"
      ],
      "execution_count": 41,
      "outputs": [
        {
          "output_type": "execute_result",
          "data": {
            "text/plain": [
              "0.4290454673820954"
            ]
          },
          "metadata": {},
          "execution_count": 41
        }
      ]
    },
    {
      "cell_type": "code",
      "metadata": {
        "colab": {
          "base_uri": "https://localhost:8080/"
        },
        "id": "vMujMIemKTDi",
        "outputId": "75eb3599-5aa2-41a8-dae8-e46270539eab"
      },
      "source": [
        "print(fbeta_score(yTest1, clf.predict(xTest2), beta=2))\n",
        "print(accuracy_score(yTest1, clf.predict(xTest2)))"
      ],
      "execution_count": 43,
      "outputs": [
        {
          "output_type": "stream",
          "name": "stdout",
          "text": [
            "0.4279575612917277\n",
            "0.7618362815091022\n"
          ]
        }
      ]
    },
    {
      "cell_type": "code",
      "metadata": {
        "id": "IpX8W3EMKW9q"
      },
      "source": [
        "dump(clf, 'rf_up_2thirds_cv_1hot.joblib')\n",
        "# dump(clf, 'rf_up_2thirds_cv_best_f2_057_test_f2_048_accuracy_075.joblib')"
      ],
      "execution_count": null,
      "outputs": []
    }
  ]
}